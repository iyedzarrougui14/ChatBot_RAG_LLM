{
 "cells": [
  {
   "cell_type": "markdown",
   "metadata": {
    "id": "_rxIQWO9HbWH"
   },
   "source": [
    "**What is RAG?**\n",
    "Retrieval augmented generation is a type of information retrieval process. It modifies interactions with a large language model so that it responds to queries with reference to a specified set of documents, using it in preference to information drawn from its own vast, static training data.\n"
   ]
  },
  {
   "cell_type": "markdown",
   "metadata": {
    "id": "e3SmPv043stk"
   },
   "source": [
    "[Google API key](https://aistudio.google.com/app/apikey)"
   ]
  },
  {
   "cell_type": "markdown",
   "metadata": {
    "id": "6my05IjH6kH-"
   },
   "source": [
    "[Document](https://constitutioncenter.org/media/files/constitution.pdf)"
   ]
  },
  {
   "cell_type": "code",
   "execution_count": 1,
   "metadata": {
    "colab": {
     "base_uri": "https://localhost:8080/",
     "height": 1000
    },
    "collapsed": true,
    "executionInfo": {
     "elapsed": 49062,
     "status": "ok",
     "timestamp": 1739428707375,
     "user": {
      "displayName": "Iyed Zarrougui",
      "userId": "02176473464439355215"
     },
     "user_tz": -60
    },
    "id": "Yzh4_7CJJe6Z",
    "outputId": "aa0f3c74-89b7-4521-9d7b-9e63dca42026"
   },
   "outputs": [
    {
     "name": "stdout",
     "output_type": "stream",
     "text": [
      "Collecting langchain_google_genai\n",
      "  Downloading langchain_google_genai-2.0.9-py3-none-any.whl.metadata (3.6 kB)\n",
      "Collecting filetype<2.0.0,>=1.2.0 (from langchain_google_genai)\n",
      "  Downloading filetype-1.2.0-py2.py3-none-any.whl.metadata (6.5 kB)\n",
      "Requirement already satisfied: google-generativeai<0.9.0,>=0.8.0 in /usr/local/lib/python3.11/dist-packages (from langchain_google_genai) (0.8.4)\n",
      "Requirement already satisfied: langchain-core<0.4.0,>=0.3.27 in /usr/local/lib/python3.11/dist-packages (from langchain_google_genai) (0.3.33)\n",
      "Requirement already satisfied: pydantic<3,>=2 in /usr/local/lib/python3.11/dist-packages (from langchain_google_genai) (2.10.6)\n",
      "Requirement already satisfied: google-ai-generativelanguage==0.6.15 in /usr/local/lib/python3.11/dist-packages (from google-generativeai<0.9.0,>=0.8.0->langchain_google_genai) (0.6.15)\n",
      "Requirement already satisfied: google-api-core in /usr/local/lib/python3.11/dist-packages (from google-generativeai<0.9.0,>=0.8.0->langchain_google_genai) (2.19.2)\n",
      "Requirement already satisfied: google-api-python-client in /usr/local/lib/python3.11/dist-packages (from google-generativeai<0.9.0,>=0.8.0->langchain_google_genai) (2.160.0)\n",
      "Requirement already satisfied: google-auth>=2.15.0 in /usr/local/lib/python3.11/dist-packages (from google-generativeai<0.9.0,>=0.8.0->langchain_google_genai) (2.27.0)\n",
      "Requirement already satisfied: protobuf in /usr/local/lib/python3.11/dist-packages (from google-generativeai<0.9.0,>=0.8.0->langchain_google_genai) (4.25.6)\n",
      "Requirement already satisfied: tqdm in /usr/local/lib/python3.11/dist-packages (from google-generativeai<0.9.0,>=0.8.0->langchain_google_genai) (4.67.1)\n",
      "Requirement already satisfied: typing-extensions in /usr/local/lib/python3.11/dist-packages (from google-generativeai<0.9.0,>=0.8.0->langchain_google_genai) (4.12.2)\n",
      "Requirement already satisfied: proto-plus<2.0.0dev,>=1.22.3 in /usr/local/lib/python3.11/dist-packages (from google-ai-generativelanguage==0.6.15->google-generativeai<0.9.0,>=0.8.0->langchain_google_genai) (1.26.0)\n",
      "Requirement already satisfied: PyYAML>=5.3 in /usr/local/lib/python3.11/dist-packages (from langchain-core<0.4.0,>=0.3.27->langchain_google_genai) (6.0.2)\n",
      "Requirement already satisfied: jsonpatch<2.0,>=1.33 in /usr/local/lib/python3.11/dist-packages (from langchain-core<0.4.0,>=0.3.27->langchain_google_genai) (1.33)\n",
      "Requirement already satisfied: langsmith<0.4,>=0.1.125 in /usr/local/lib/python3.11/dist-packages (from langchain-core<0.4.0,>=0.3.27->langchain_google_genai) (0.3.6)\n",
      "Requirement already satisfied: packaging<25,>=23.2 in /usr/local/lib/python3.11/dist-packages (from langchain-core<0.4.0,>=0.3.27->langchain_google_genai) (24.2)\n",
      "Requirement already satisfied: tenacity!=8.4.0,<10.0.0,>=8.1.0 in /usr/local/lib/python3.11/dist-packages (from langchain-core<0.4.0,>=0.3.27->langchain_google_genai) (9.0.0)\n",
      "Requirement already satisfied: annotated-types>=0.6.0 in /usr/local/lib/python3.11/dist-packages (from pydantic<3,>=2->langchain_google_genai) (0.7.0)\n",
      "Requirement already satisfied: pydantic-core==2.27.2 in /usr/local/lib/python3.11/dist-packages (from pydantic<3,>=2->langchain_google_genai) (2.27.2)\n",
      "Requirement already satisfied: googleapis-common-protos<2.0.dev0,>=1.56.2 in /usr/local/lib/python3.11/dist-packages (from google-api-core->google-generativeai<0.9.0,>=0.8.0->langchain_google_genai) (1.66.0)\n",
      "Requirement already satisfied: requests<3.0.0.dev0,>=2.18.0 in /usr/local/lib/python3.11/dist-packages (from google-api-core->google-generativeai<0.9.0,>=0.8.0->langchain_google_genai) (2.32.3)\n",
      "Requirement already satisfied: cachetools<6.0,>=2.0.0 in /usr/local/lib/python3.11/dist-packages (from google-auth>=2.15.0->google-generativeai<0.9.0,>=0.8.0->langchain_google_genai) (5.5.1)\n",
      "Requirement already satisfied: pyasn1-modules>=0.2.1 in /usr/local/lib/python3.11/dist-packages (from google-auth>=2.15.0->google-generativeai<0.9.0,>=0.8.0->langchain_google_genai) (0.4.1)\n",
      "Requirement already satisfied: rsa<5,>=3.1.4 in /usr/local/lib/python3.11/dist-packages (from google-auth>=2.15.0->google-generativeai<0.9.0,>=0.8.0->langchain_google_genai) (4.9)\n",
      "Requirement already satisfied: jsonpointer>=1.9 in /usr/local/lib/python3.11/dist-packages (from jsonpatch<2.0,>=1.33->langchain-core<0.4.0,>=0.3.27->langchain_google_genai) (3.0.0)\n",
      "Requirement already satisfied: httpx<1,>=0.23.0 in /usr/local/lib/python3.11/dist-packages (from langsmith<0.4,>=0.1.125->langchain-core<0.4.0,>=0.3.27->langchain_google_genai) (0.28.1)\n",
      "Requirement already satisfied: orjson<4.0.0,>=3.9.14 in /usr/local/lib/python3.11/dist-packages (from langsmith<0.4,>=0.1.125->langchain-core<0.4.0,>=0.3.27->langchain_google_genai) (3.10.15)\n",
      "Requirement already satisfied: requests-toolbelt<2.0.0,>=1.0.0 in /usr/local/lib/python3.11/dist-packages (from langsmith<0.4,>=0.1.125->langchain-core<0.4.0,>=0.3.27->langchain_google_genai) (1.0.0)\n",
      "Requirement already satisfied: zstandard<0.24.0,>=0.23.0 in /usr/local/lib/python3.11/dist-packages (from langsmith<0.4,>=0.1.125->langchain-core<0.4.0,>=0.3.27->langchain_google_genai) (0.23.0)\n",
      "Requirement already satisfied: httplib2<1.dev0,>=0.19.0 in /usr/local/lib/python3.11/dist-packages (from google-api-python-client->google-generativeai<0.9.0,>=0.8.0->langchain_google_genai) (0.22.0)\n",
      "Requirement already satisfied: google-auth-httplib2<1.0.0,>=0.2.0 in /usr/local/lib/python3.11/dist-packages (from google-api-python-client->google-generativeai<0.9.0,>=0.8.0->langchain_google_genai) (0.2.0)\n",
      "Requirement already satisfied: uritemplate<5,>=3.0.1 in /usr/local/lib/python3.11/dist-packages (from google-api-python-client->google-generativeai<0.9.0,>=0.8.0->langchain_google_genai) (4.1.1)\n",
      "Requirement already satisfied: grpcio<2.0dev,>=1.33.2 in /usr/local/lib/python3.11/dist-packages (from google-api-core[grpc]!=2.0.*,!=2.1.*,!=2.10.*,!=2.2.*,!=2.3.*,!=2.4.*,!=2.5.*,!=2.6.*,!=2.7.*,!=2.8.*,!=2.9.*,<3.0.0dev,>=1.34.1->google-ai-generativelanguage==0.6.15->google-generativeai<0.9.0,>=0.8.0->langchain_google_genai) (1.70.0)\n",
      "Requirement already satisfied: grpcio-status<2.0.dev0,>=1.33.2 in /usr/local/lib/python3.11/dist-packages (from google-api-core[grpc]!=2.0.*,!=2.1.*,!=2.10.*,!=2.2.*,!=2.3.*,!=2.4.*,!=2.5.*,!=2.6.*,!=2.7.*,!=2.8.*,!=2.9.*,<3.0.0dev,>=1.34.1->google-ai-generativelanguage==0.6.15->google-generativeai<0.9.0,>=0.8.0->langchain_google_genai) (1.62.3)\n",
      "Requirement already satisfied: pyparsing!=3.0.0,!=3.0.1,!=3.0.2,!=3.0.3,<4,>=2.4.2 in /usr/local/lib/python3.11/dist-packages (from httplib2<1.dev0,>=0.19.0->google-api-python-client->google-generativeai<0.9.0,>=0.8.0->langchain_google_genai) (3.2.1)\n",
      "Requirement already satisfied: anyio in /usr/local/lib/python3.11/dist-packages (from httpx<1,>=0.23.0->langsmith<0.4,>=0.1.125->langchain-core<0.4.0,>=0.3.27->langchain_google_genai) (3.7.1)\n",
      "Requirement already satisfied: certifi in /usr/local/lib/python3.11/dist-packages (from httpx<1,>=0.23.0->langsmith<0.4,>=0.1.125->langchain-core<0.4.0,>=0.3.27->langchain_google_genai) (2025.1.31)\n",
      "Requirement already satisfied: httpcore==1.* in /usr/local/lib/python3.11/dist-packages (from httpx<1,>=0.23.0->langsmith<0.4,>=0.1.125->langchain-core<0.4.0,>=0.3.27->langchain_google_genai) (1.0.7)\n",
      "Requirement already satisfied: idna in /usr/local/lib/python3.11/dist-packages (from httpx<1,>=0.23.0->langsmith<0.4,>=0.1.125->langchain-core<0.4.0,>=0.3.27->langchain_google_genai) (3.10)\n",
      "Requirement already satisfied: h11<0.15,>=0.13 in /usr/local/lib/python3.11/dist-packages (from httpcore==1.*->httpx<1,>=0.23.0->langsmith<0.4,>=0.1.125->langchain-core<0.4.0,>=0.3.27->langchain_google_genai) (0.14.0)\n",
      "Requirement already satisfied: pyasn1<0.7.0,>=0.4.6 in /usr/local/lib/python3.11/dist-packages (from pyasn1-modules>=0.2.1->google-auth>=2.15.0->google-generativeai<0.9.0,>=0.8.0->langchain_google_genai) (0.6.1)\n",
      "Requirement already satisfied: charset-normalizer<4,>=2 in /usr/local/lib/python3.11/dist-packages (from requests<3.0.0.dev0,>=2.18.0->google-api-core->google-generativeai<0.9.0,>=0.8.0->langchain_google_genai) (3.4.1)\n",
      "Requirement already satisfied: urllib3<3,>=1.21.1 in /usr/local/lib/python3.11/dist-packages (from requests<3.0.0.dev0,>=2.18.0->google-api-core->google-generativeai<0.9.0,>=0.8.0->langchain_google_genai) (2.3.0)\n",
      "Requirement already satisfied: sniffio>=1.1 in /usr/local/lib/python3.11/dist-packages (from anyio->httpx<1,>=0.23.0->langsmith<0.4,>=0.1.125->langchain-core<0.4.0,>=0.3.27->langchain_google_genai) (1.3.1)\n",
      "Downloading langchain_google_genai-2.0.9-py3-none-any.whl (41 kB)\n",
      "\u001b[2K   \u001b[90m━━━━━━━━━━━━━━━━━━━━━━━━━━━━━━━━━━━━━━━━\u001b[0m \u001b[32m41.7/41.7 kB\u001b[0m \u001b[31m1.9 MB/s\u001b[0m eta \u001b[36m0:00:00\u001b[0m\n",
      "\u001b[?25hDownloading filetype-1.2.0-py2.py3-none-any.whl (19 kB)\n",
      "Installing collected packages: filetype, langchain_google_genai\n",
      "Successfully installed filetype-1.2.0 langchain_google_genai-2.0.9\n",
      "Collecting langchain_community\n",
      "  Downloading langchain_community-0.3.17-py3-none-any.whl.metadata (2.4 kB)\n",
      "Collecting langchain-core<1.0.0,>=0.3.34 (from langchain_community)\n",
      "  Downloading langchain_core-0.3.35-py3-none-any.whl.metadata (5.9 kB)\n",
      "Collecting langchain<1.0.0,>=0.3.18 (from langchain_community)\n",
      "  Downloading langchain-0.3.18-py3-none-any.whl.metadata (7.8 kB)\n",
      "Requirement already satisfied: SQLAlchemy<3,>=1.4 in /usr/local/lib/python3.11/dist-packages (from langchain_community) (2.0.37)\n",
      "Requirement already satisfied: requests<3,>=2 in /usr/local/lib/python3.11/dist-packages (from langchain_community) (2.32.3)\n",
      "Requirement already satisfied: PyYAML>=5.3 in /usr/local/lib/python3.11/dist-packages (from langchain_community) (6.0.2)\n",
      "Requirement already satisfied: aiohttp<4.0.0,>=3.8.3 in /usr/local/lib/python3.11/dist-packages (from langchain_community) (3.11.12)\n",
      "Requirement already satisfied: tenacity!=8.4.0,<10,>=8.1.0 in /usr/local/lib/python3.11/dist-packages (from langchain_community) (9.0.0)\n",
      "Collecting dataclasses-json<0.7,>=0.5.7 (from langchain_community)\n",
      "  Downloading dataclasses_json-0.6.7-py3-none-any.whl.metadata (25 kB)\n",
      "Collecting pydantic-settings<3.0.0,>=2.4.0 (from langchain_community)\n",
      "  Downloading pydantic_settings-2.7.1-py3-none-any.whl.metadata (3.5 kB)\n",
      "Requirement already satisfied: langsmith<0.4,>=0.1.125 in /usr/local/lib/python3.11/dist-packages (from langchain_community) (0.3.6)\n",
      "Collecting httpx-sse<1.0.0,>=0.4.0 (from langchain_community)\n",
      "  Downloading httpx_sse-0.4.0-py3-none-any.whl.metadata (9.0 kB)\n",
      "Requirement already satisfied: numpy<2,>=1.26.4 in /usr/local/lib/python3.11/dist-packages (from langchain_community) (1.26.4)\n",
      "Requirement already satisfied: aiohappyeyeballs>=2.3.0 in /usr/local/lib/python3.11/dist-packages (from aiohttp<4.0.0,>=3.8.3->langchain_community) (2.4.4)\n",
      "Requirement already satisfied: aiosignal>=1.1.2 in /usr/local/lib/python3.11/dist-packages (from aiohttp<4.0.0,>=3.8.3->langchain_community) (1.3.2)\n",
      "Requirement already satisfied: attrs>=17.3.0 in /usr/local/lib/python3.11/dist-packages (from aiohttp<4.0.0,>=3.8.3->langchain_community) (25.1.0)\n",
      "Requirement already satisfied: frozenlist>=1.1.1 in /usr/local/lib/python3.11/dist-packages (from aiohttp<4.0.0,>=3.8.3->langchain_community) (1.5.0)\n",
      "Requirement already satisfied: multidict<7.0,>=4.5 in /usr/local/lib/python3.11/dist-packages (from aiohttp<4.0.0,>=3.8.3->langchain_community) (6.1.0)\n",
      "Requirement already satisfied: propcache>=0.2.0 in /usr/local/lib/python3.11/dist-packages (from aiohttp<4.0.0,>=3.8.3->langchain_community) (0.2.1)\n",
      "Requirement already satisfied: yarl<2.0,>=1.17.0 in /usr/local/lib/python3.11/dist-packages (from aiohttp<4.0.0,>=3.8.3->langchain_community) (1.18.3)\n",
      "Collecting marshmallow<4.0.0,>=3.18.0 (from dataclasses-json<0.7,>=0.5.7->langchain_community)\n",
      "  Downloading marshmallow-3.26.1-py3-none-any.whl.metadata (7.3 kB)\n",
      "Collecting typing-inspect<1,>=0.4.0 (from dataclasses-json<0.7,>=0.5.7->langchain_community)\n",
      "  Downloading typing_inspect-0.9.0-py3-none-any.whl.metadata (1.5 kB)\n",
      "Collecting langchain-text-splitters<1.0.0,>=0.3.6 (from langchain<1.0.0,>=0.3.18->langchain_community)\n",
      "  Downloading langchain_text_splitters-0.3.6-py3-none-any.whl.metadata (1.9 kB)\n",
      "Requirement already satisfied: pydantic<3.0.0,>=2.7.4 in /usr/local/lib/python3.11/dist-packages (from langchain<1.0.0,>=0.3.18->langchain_community) (2.10.6)\n",
      "Requirement already satisfied: jsonpatch<2.0,>=1.33 in /usr/local/lib/python3.11/dist-packages (from langchain-core<1.0.0,>=0.3.34->langchain_community) (1.33)\n",
      "Requirement already satisfied: packaging<25,>=23.2 in /usr/local/lib/python3.11/dist-packages (from langchain-core<1.0.0,>=0.3.34->langchain_community) (24.2)\n",
      "Requirement already satisfied: typing-extensions>=4.7 in /usr/local/lib/python3.11/dist-packages (from langchain-core<1.0.0,>=0.3.34->langchain_community) (4.12.2)\n",
      "Requirement already satisfied: httpx<1,>=0.23.0 in /usr/local/lib/python3.11/dist-packages (from langsmith<0.4,>=0.1.125->langchain_community) (0.28.1)\n",
      "Requirement already satisfied: orjson<4.0.0,>=3.9.14 in /usr/local/lib/python3.11/dist-packages (from langsmith<0.4,>=0.1.125->langchain_community) (3.10.15)\n",
      "Requirement already satisfied: requests-toolbelt<2.0.0,>=1.0.0 in /usr/local/lib/python3.11/dist-packages (from langsmith<0.4,>=0.1.125->langchain_community) (1.0.0)\n",
      "Requirement already satisfied: zstandard<0.24.0,>=0.23.0 in /usr/local/lib/python3.11/dist-packages (from langsmith<0.4,>=0.1.125->langchain_community) (0.23.0)\n",
      "Collecting python-dotenv>=0.21.0 (from pydantic-settings<3.0.0,>=2.4.0->langchain_community)\n",
      "  Downloading python_dotenv-1.0.1-py3-none-any.whl.metadata (23 kB)\n",
      "Requirement already satisfied: charset-normalizer<4,>=2 in /usr/local/lib/python3.11/dist-packages (from requests<3,>=2->langchain_community) (3.4.1)\n",
      "Requirement already satisfied: idna<4,>=2.5 in /usr/local/lib/python3.11/dist-packages (from requests<3,>=2->langchain_community) (3.10)\n",
      "Requirement already satisfied: urllib3<3,>=1.21.1 in /usr/local/lib/python3.11/dist-packages (from requests<3,>=2->langchain_community) (2.3.0)\n",
      "Requirement already satisfied: certifi>=2017.4.17 in /usr/local/lib/python3.11/dist-packages (from requests<3,>=2->langchain_community) (2025.1.31)\n",
      "Requirement already satisfied: greenlet!=0.4.17 in /usr/local/lib/python3.11/dist-packages (from SQLAlchemy<3,>=1.4->langchain_community) (3.1.1)\n",
      "Requirement already satisfied: anyio in /usr/local/lib/python3.11/dist-packages (from httpx<1,>=0.23.0->langsmith<0.4,>=0.1.125->langchain_community) (3.7.1)\n",
      "Requirement already satisfied: httpcore==1.* in /usr/local/lib/python3.11/dist-packages (from httpx<1,>=0.23.0->langsmith<0.4,>=0.1.125->langchain_community) (1.0.7)\n",
      "Requirement already satisfied: h11<0.15,>=0.13 in /usr/local/lib/python3.11/dist-packages (from httpcore==1.*->httpx<1,>=0.23.0->langsmith<0.4,>=0.1.125->langchain_community) (0.14.0)\n",
      "Requirement already satisfied: jsonpointer>=1.9 in /usr/local/lib/python3.11/dist-packages (from jsonpatch<2.0,>=1.33->langchain-core<1.0.0,>=0.3.34->langchain_community) (3.0.0)\n",
      "Requirement already satisfied: annotated-types>=0.6.0 in /usr/local/lib/python3.11/dist-packages (from pydantic<3.0.0,>=2.7.4->langchain<1.0.0,>=0.3.18->langchain_community) (0.7.0)\n",
      "Requirement already satisfied: pydantic-core==2.27.2 in /usr/local/lib/python3.11/dist-packages (from pydantic<3.0.0,>=2.7.4->langchain<1.0.0,>=0.3.18->langchain_community) (2.27.2)\n",
      "Collecting mypy-extensions>=0.3.0 (from typing-inspect<1,>=0.4.0->dataclasses-json<0.7,>=0.5.7->langchain_community)\n",
      "  Downloading mypy_extensions-1.0.0-py3-none-any.whl.metadata (1.1 kB)\n",
      "Requirement already satisfied: sniffio>=1.1 in /usr/local/lib/python3.11/dist-packages (from anyio->httpx<1,>=0.23.0->langsmith<0.4,>=0.1.125->langchain_community) (1.3.1)\n",
      "Downloading langchain_community-0.3.17-py3-none-any.whl (2.5 MB)\n",
      "\u001b[2K   \u001b[90m━━━━━━━━━━━━━━━━━━━━━━━━━━━━━━━━━━━━━━━━\u001b[0m \u001b[32m2.5/2.5 MB\u001b[0m \u001b[31m45.8 MB/s\u001b[0m eta \u001b[36m0:00:00\u001b[0m\n",
      "\u001b[?25hDownloading dataclasses_json-0.6.7-py3-none-any.whl (28 kB)\n",
      "Downloading httpx_sse-0.4.0-py3-none-any.whl (7.8 kB)\n",
      "Downloading langchain-0.3.18-py3-none-any.whl (1.0 MB)\n",
      "\u001b[2K   \u001b[90m━━━━━━━━━━━━━━━━━━━━━━━━━━━━━━━━━━━━━━━━\u001b[0m \u001b[32m1.0/1.0 MB\u001b[0m \u001b[31m38.5 MB/s\u001b[0m eta \u001b[36m0:00:00\u001b[0m\n",
      "\u001b[?25hDownloading langchain_core-0.3.35-py3-none-any.whl (413 kB)\n",
      "\u001b[2K   \u001b[90m━━━━━━━━━━━━━━━━━━━━━━━━━━━━━━━━━━━━━━━━\u001b[0m \u001b[32m413.2/413.2 kB\u001b[0m \u001b[31m22.3 MB/s\u001b[0m eta \u001b[36m0:00:00\u001b[0m\n",
      "\u001b[?25hDownloading pydantic_settings-2.7.1-py3-none-any.whl (29 kB)\n",
      "Downloading langchain_text_splitters-0.3.6-py3-none-any.whl (31 kB)\n",
      "Downloading marshmallow-3.26.1-py3-none-any.whl (50 kB)\n",
      "\u001b[2K   \u001b[90m━━━━━━━━━━━━━━━━━━━━━━━━━━━━━━━━━━━━━━━━\u001b[0m \u001b[32m50.9/50.9 kB\u001b[0m \u001b[31m3.1 MB/s\u001b[0m eta \u001b[36m0:00:00\u001b[0m\n",
      "\u001b[?25hDownloading python_dotenv-1.0.1-py3-none-any.whl (19 kB)\n",
      "Downloading typing_inspect-0.9.0-py3-none-any.whl (8.8 kB)\n",
      "Downloading mypy_extensions-1.0.0-py3-none-any.whl (4.7 kB)\n",
      "Installing collected packages: python-dotenv, mypy-extensions, marshmallow, httpx-sse, typing-inspect, pydantic-settings, dataclasses-json, langchain-core, langchain-text-splitters, langchain, langchain_community\n",
      "  Attempting uninstall: langchain-core\n",
      "    Found existing installation: langchain-core 0.3.33\n",
      "    Uninstalling langchain-core-0.3.33:\n",
      "      Successfully uninstalled langchain-core-0.3.33\n",
      "  Attempting uninstall: langchain-text-splitters\n",
      "    Found existing installation: langchain-text-splitters 0.3.5\n",
      "    Uninstalling langchain-text-splitters-0.3.5:\n",
      "      Successfully uninstalled langchain-text-splitters-0.3.5\n",
      "  Attempting uninstall: langchain\n",
      "    Found existing installation: langchain 0.3.17\n",
      "    Uninstalling langchain-0.3.17:\n",
      "      Successfully uninstalled langchain-0.3.17\n",
      "Successfully installed dataclasses-json-0.6.7 httpx-sse-0.4.0 langchain-0.3.18 langchain-core-0.3.35 langchain-text-splitters-0.3.6 langchain_community-0.3.17 marshmallow-3.26.1 mypy-extensions-1.0.0 pydantic-settings-2.7.1 python-dotenv-1.0.1 typing-inspect-0.9.0\n",
      "Requirement already satisfied: langchain_text_splitters in /usr/local/lib/python3.11/dist-packages (0.3.6)\n",
      "Requirement already satisfied: langchain-core<1.0.0,>=0.3.34 in /usr/local/lib/python3.11/dist-packages (from langchain_text_splitters) (0.3.35)\n",
      "Requirement already satisfied: langsmith<0.4,>=0.1.125 in /usr/local/lib/python3.11/dist-packages (from langchain-core<1.0.0,>=0.3.34->langchain_text_splitters) (0.3.6)\n",
      "Requirement already satisfied: tenacity!=8.4.0,<10.0.0,>=8.1.0 in /usr/local/lib/python3.11/dist-packages (from langchain-core<1.0.0,>=0.3.34->langchain_text_splitters) (9.0.0)\n",
      "Requirement already satisfied: jsonpatch<2.0,>=1.33 in /usr/local/lib/python3.11/dist-packages (from langchain-core<1.0.0,>=0.3.34->langchain_text_splitters) (1.33)\n",
      "Requirement already satisfied: PyYAML>=5.3 in /usr/local/lib/python3.11/dist-packages (from langchain-core<1.0.0,>=0.3.34->langchain_text_splitters) (6.0.2)\n",
      "Requirement already satisfied: packaging<25,>=23.2 in /usr/local/lib/python3.11/dist-packages (from langchain-core<1.0.0,>=0.3.34->langchain_text_splitters) (24.2)\n",
      "Requirement already satisfied: typing-extensions>=4.7 in /usr/local/lib/python3.11/dist-packages (from langchain-core<1.0.0,>=0.3.34->langchain_text_splitters) (4.12.2)\n",
      "Requirement already satisfied: pydantic<3.0.0,>=2.5.2 in /usr/local/lib/python3.11/dist-packages (from langchain-core<1.0.0,>=0.3.34->langchain_text_splitters) (2.10.6)\n",
      "Requirement already satisfied: jsonpointer>=1.9 in /usr/local/lib/python3.11/dist-packages (from jsonpatch<2.0,>=1.33->langchain-core<1.0.0,>=0.3.34->langchain_text_splitters) (3.0.0)\n",
      "Requirement already satisfied: httpx<1,>=0.23.0 in /usr/local/lib/python3.11/dist-packages (from langsmith<0.4,>=0.1.125->langchain-core<1.0.0,>=0.3.34->langchain_text_splitters) (0.28.1)\n",
      "Requirement already satisfied: orjson<4.0.0,>=3.9.14 in /usr/local/lib/python3.11/dist-packages (from langsmith<0.4,>=0.1.125->langchain-core<1.0.0,>=0.3.34->langchain_text_splitters) (3.10.15)\n",
      "Requirement already satisfied: requests<3,>=2 in /usr/local/lib/python3.11/dist-packages (from langsmith<0.4,>=0.1.125->langchain-core<1.0.0,>=0.3.34->langchain_text_splitters) (2.32.3)\n",
      "Requirement already satisfied: requests-toolbelt<2.0.0,>=1.0.0 in /usr/local/lib/python3.11/dist-packages (from langsmith<0.4,>=0.1.125->langchain-core<1.0.0,>=0.3.34->langchain_text_splitters) (1.0.0)\n",
      "Requirement already satisfied: zstandard<0.24.0,>=0.23.0 in /usr/local/lib/python3.11/dist-packages (from langsmith<0.4,>=0.1.125->langchain-core<1.0.0,>=0.3.34->langchain_text_splitters) (0.23.0)\n",
      "Requirement already satisfied: annotated-types>=0.6.0 in /usr/local/lib/python3.11/dist-packages (from pydantic<3.0.0,>=2.5.2->langchain-core<1.0.0,>=0.3.34->langchain_text_splitters) (0.7.0)\n",
      "Requirement already satisfied: pydantic-core==2.27.2 in /usr/local/lib/python3.11/dist-packages (from pydantic<3.0.0,>=2.5.2->langchain-core<1.0.0,>=0.3.34->langchain_text_splitters) (2.27.2)\n",
      "Requirement already satisfied: anyio in /usr/local/lib/python3.11/dist-packages (from httpx<1,>=0.23.0->langsmith<0.4,>=0.1.125->langchain-core<1.0.0,>=0.3.34->langchain_text_splitters) (3.7.1)\n",
      "Requirement already satisfied: certifi in /usr/local/lib/python3.11/dist-packages (from httpx<1,>=0.23.0->langsmith<0.4,>=0.1.125->langchain-core<1.0.0,>=0.3.34->langchain_text_splitters) (2025.1.31)\n",
      "Requirement already satisfied: httpcore==1.* in /usr/local/lib/python3.11/dist-packages (from httpx<1,>=0.23.0->langsmith<0.4,>=0.1.125->langchain-core<1.0.0,>=0.3.34->langchain_text_splitters) (1.0.7)\n",
      "Requirement already satisfied: idna in /usr/local/lib/python3.11/dist-packages (from httpx<1,>=0.23.0->langsmith<0.4,>=0.1.125->langchain-core<1.0.0,>=0.3.34->langchain_text_splitters) (3.10)\n",
      "Requirement already satisfied: h11<0.15,>=0.13 in /usr/local/lib/python3.11/dist-packages (from httpcore==1.*->httpx<1,>=0.23.0->langsmith<0.4,>=0.1.125->langchain-core<1.0.0,>=0.3.34->langchain_text_splitters) (0.14.0)\n",
      "Requirement already satisfied: charset-normalizer<4,>=2 in /usr/local/lib/python3.11/dist-packages (from requests<3,>=2->langsmith<0.4,>=0.1.125->langchain-core<1.0.0,>=0.3.34->langchain_text_splitters) (3.4.1)\n",
      "Requirement already satisfied: urllib3<3,>=1.21.1 in /usr/local/lib/python3.11/dist-packages (from requests<3,>=2->langsmith<0.4,>=0.1.125->langchain-core<1.0.0,>=0.3.34->langchain_text_splitters) (2.3.0)\n",
      "Requirement already satisfied: sniffio>=1.1 in /usr/local/lib/python3.11/dist-packages (from anyio->httpx<1,>=0.23.0->langsmith<0.4,>=0.1.125->langchain-core<1.0.0,>=0.3.34->langchain_text_splitters) (1.3.1)\n",
      "Collecting pypdf\n",
      "  Downloading pypdf-5.3.0-py3-none-any.whl.metadata (7.2 kB)\n",
      "Downloading pypdf-5.3.0-py3-none-any.whl (300 kB)\n",
      "\u001b[2K   \u001b[90m━━━━━━━━━━━━━━━━━━━━━━━━━━━━━━━━━━━━━━━━\u001b[0m \u001b[32m300.7/300.7 kB\u001b[0m \u001b[31m15.5 MB/s\u001b[0m eta \u001b[36m0:00:00\u001b[0m\n",
      "\u001b[?25hInstalling collected packages: pypdf\n",
      "Successfully installed pypdf-5.3.0\n",
      "Collecting chromadb\n",
      "  Downloading chromadb-0.6.3-py3-none-any.whl.metadata (6.8 kB)\n",
      "Collecting build>=1.0.3 (from chromadb)\n",
      "  Downloading build-1.2.2.post1-py3-none-any.whl.metadata (6.5 kB)\n",
      "Requirement already satisfied: pydantic>=1.9 in /usr/local/lib/python3.11/dist-packages (from chromadb) (2.10.6)\n",
      "Collecting chroma-hnswlib==0.7.6 (from chromadb)\n",
      "  Downloading chroma_hnswlib-0.7.6-cp311-cp311-manylinux_2_17_x86_64.manylinux2014_x86_64.whl.metadata (252 bytes)\n",
      "Collecting fastapi>=0.95.2 (from chromadb)\n",
      "  Downloading fastapi-0.115.8-py3-none-any.whl.metadata (27 kB)\n",
      "Collecting uvicorn>=0.18.3 (from uvicorn[standard]>=0.18.3->chromadb)\n",
      "  Downloading uvicorn-0.34.0-py3-none-any.whl.metadata (6.5 kB)\n",
      "Requirement already satisfied: numpy>=1.22.5 in /usr/local/lib/python3.11/dist-packages (from chromadb) (1.26.4)\n",
      "Collecting posthog>=2.4.0 (from chromadb)\n",
      "  Downloading posthog-3.13.0-py2.py3-none-any.whl.metadata (2.9 kB)\n",
      "Requirement already satisfied: typing_extensions>=4.5.0 in /usr/local/lib/python3.11/dist-packages (from chromadb) (4.12.2)\n",
      "Collecting onnxruntime>=1.14.1 (from chromadb)\n",
      "  Downloading onnxruntime-1.20.1-cp311-cp311-manylinux_2_27_x86_64.manylinux_2_28_x86_64.whl.metadata (4.5 kB)\n",
      "Requirement already satisfied: opentelemetry-api>=1.2.0 in /usr/local/lib/python3.11/dist-packages (from chromadb) (1.16.0)\n",
      "Collecting opentelemetry-exporter-otlp-proto-grpc>=1.2.0 (from chromadb)\n",
      "  Downloading opentelemetry_exporter_otlp_proto_grpc-1.30.0-py3-none-any.whl.metadata (2.4 kB)\n",
      "Collecting opentelemetry-instrumentation-fastapi>=0.41b0 (from chromadb)\n",
      "  Downloading opentelemetry_instrumentation_fastapi-0.51b0-py3-none-any.whl.metadata (2.2 kB)\n",
      "Requirement already satisfied: opentelemetry-sdk>=1.2.0 in /usr/local/lib/python3.11/dist-packages (from chromadb) (1.16.0)\n",
      "Requirement already satisfied: tokenizers>=0.13.2 in /usr/local/lib/python3.11/dist-packages (from chromadb) (0.21.0)\n",
      "Collecting pypika>=0.48.9 (from chromadb)\n",
      "  Downloading PyPika-0.48.9.tar.gz (67 kB)\n",
      "\u001b[2K     \u001b[90m━━━━━━━━━━━━━━━━━━━━━━━━━━━━━━━━━━━━━━━━\u001b[0m \u001b[32m67.3/67.3 kB\u001b[0m \u001b[31m5.3 MB/s\u001b[0m eta \u001b[36m0:00:00\u001b[0m\n",
      "\u001b[?25h  Installing build dependencies ... \u001b[?25l\u001b[?25hdone\n",
      "  Getting requirements to build wheel ... \u001b[?25l\u001b[?25hdone\n",
      "  Preparing metadata (pyproject.toml) ... \u001b[?25l\u001b[?25hdone\n",
      "Requirement already satisfied: tqdm>=4.65.0 in /usr/local/lib/python3.11/dist-packages (from chromadb) (4.67.1)\n",
      "Collecting overrides>=7.3.1 (from chromadb)\n",
      "  Downloading overrides-7.7.0-py3-none-any.whl.metadata (5.8 kB)\n",
      "Requirement already satisfied: importlib-resources in /usr/local/lib/python3.11/dist-packages (from chromadb) (6.5.2)\n",
      "Requirement already satisfied: grpcio>=1.58.0 in /usr/local/lib/python3.11/dist-packages (from chromadb) (1.70.0)\n",
      "Collecting bcrypt>=4.0.1 (from chromadb)\n",
      "  Downloading bcrypt-4.2.1-cp39-abi3-manylinux_2_28_x86_64.whl.metadata (9.8 kB)\n",
      "Requirement already satisfied: typer>=0.9.0 in /usr/local/lib/python3.11/dist-packages (from chromadb) (0.15.1)\n",
      "Collecting kubernetes>=28.1.0 (from chromadb)\n",
      "  Downloading kubernetes-32.0.0-py2.py3-none-any.whl.metadata (1.5 kB)\n",
      "Requirement already satisfied: tenacity>=8.2.3 in /usr/local/lib/python3.11/dist-packages (from chromadb) (9.0.0)\n",
      "Requirement already satisfied: PyYAML>=6.0.0 in /usr/local/lib/python3.11/dist-packages (from chromadb) (6.0.2)\n",
      "Collecting mmh3>=4.0.1 (from chromadb)\n",
      "  Downloading mmh3-5.1.0-cp311-cp311-manylinux_2_5_x86_64.manylinux1_x86_64.manylinux_2_17_x86_64.manylinux2014_x86_64.whl.metadata (16 kB)\n",
      "Requirement already satisfied: orjson>=3.9.12 in /usr/local/lib/python3.11/dist-packages (from chromadb) (3.10.15)\n",
      "Requirement already satisfied: httpx>=0.27.0 in /usr/local/lib/python3.11/dist-packages (from chromadb) (0.28.1)\n",
      "Requirement already satisfied: rich>=10.11.0 in /usr/local/lib/python3.11/dist-packages (from chromadb) (13.9.4)\n",
      "Requirement already satisfied: packaging>=19.1 in /usr/local/lib/python3.11/dist-packages (from build>=1.0.3->chromadb) (24.2)\n",
      "Collecting pyproject_hooks (from build>=1.0.3->chromadb)\n",
      "  Downloading pyproject_hooks-1.2.0-py3-none-any.whl.metadata (1.3 kB)\n",
      "Collecting starlette<0.46.0,>=0.40.0 (from fastapi>=0.95.2->chromadb)\n",
      "  Downloading starlette-0.45.3-py3-none-any.whl.metadata (6.3 kB)\n",
      "Requirement already satisfied: anyio in /usr/local/lib/python3.11/dist-packages (from httpx>=0.27.0->chromadb) (3.7.1)\n",
      "Requirement already satisfied: certifi in /usr/local/lib/python3.11/dist-packages (from httpx>=0.27.0->chromadb) (2025.1.31)\n",
      "Requirement already satisfied: httpcore==1.* in /usr/local/lib/python3.11/dist-packages (from httpx>=0.27.0->chromadb) (1.0.7)\n",
      "Requirement already satisfied: idna in /usr/local/lib/python3.11/dist-packages (from httpx>=0.27.0->chromadb) (3.10)\n",
      "Requirement already satisfied: h11<0.15,>=0.13 in /usr/local/lib/python3.11/dist-packages (from httpcore==1.*->httpx>=0.27.0->chromadb) (0.14.0)\n",
      "Requirement already satisfied: six>=1.9.0 in /usr/local/lib/python3.11/dist-packages (from kubernetes>=28.1.0->chromadb) (1.17.0)\n",
      "Requirement already satisfied: python-dateutil>=2.5.3 in /usr/local/lib/python3.11/dist-packages (from kubernetes>=28.1.0->chromadb) (2.8.2)\n",
      "Requirement already satisfied: google-auth>=1.0.1 in /usr/local/lib/python3.11/dist-packages (from kubernetes>=28.1.0->chromadb) (2.27.0)\n",
      "Requirement already satisfied: websocket-client!=0.40.0,!=0.41.*,!=0.42.*,>=0.32.0 in /usr/local/lib/python3.11/dist-packages (from kubernetes>=28.1.0->chromadb) (1.8.0)\n",
      "Requirement already satisfied: requests in /usr/local/lib/python3.11/dist-packages (from kubernetes>=28.1.0->chromadb) (2.32.3)\n",
      "Requirement already satisfied: requests-oauthlib in /usr/local/lib/python3.11/dist-packages (from kubernetes>=28.1.0->chromadb) (2.0.0)\n",
      "Requirement already satisfied: oauthlib>=3.2.2 in /usr/local/lib/python3.11/dist-packages (from kubernetes>=28.1.0->chromadb) (3.2.2)\n",
      "Requirement already satisfied: urllib3>=1.24.2 in /usr/local/lib/python3.11/dist-packages (from kubernetes>=28.1.0->chromadb) (2.3.0)\n",
      "Collecting durationpy>=0.7 (from kubernetes>=28.1.0->chromadb)\n",
      "  Downloading durationpy-0.9-py3-none-any.whl.metadata (338 bytes)\n",
      "Collecting coloredlogs (from onnxruntime>=1.14.1->chromadb)\n",
      "  Downloading coloredlogs-15.0.1-py2.py3-none-any.whl.metadata (12 kB)\n",
      "Requirement already satisfied: flatbuffers in /usr/local/lib/python3.11/dist-packages (from onnxruntime>=1.14.1->chromadb) (25.1.24)\n",
      "Requirement already satisfied: protobuf in /usr/local/lib/python3.11/dist-packages (from onnxruntime>=1.14.1->chromadb) (4.25.6)\n",
      "Requirement already satisfied: sympy in /usr/local/lib/python3.11/dist-packages (from onnxruntime>=1.14.1->chromadb) (1.13.1)\n",
      "Requirement already satisfied: deprecated>=1.2.6 in /usr/local/lib/python3.11/dist-packages (from opentelemetry-api>=1.2.0->chromadb) (1.2.18)\n",
      "Requirement already satisfied: setuptools>=16.0 in /usr/local/lib/python3.11/dist-packages (from opentelemetry-api>=1.2.0->chromadb) (75.1.0)\n",
      "Requirement already satisfied: googleapis-common-protos~=1.52 in /usr/local/lib/python3.11/dist-packages (from opentelemetry-exporter-otlp-proto-grpc>=1.2.0->chromadb) (1.66.0)\n",
      "Collecting opentelemetry-exporter-otlp-proto-common==1.30.0 (from opentelemetry-exporter-otlp-proto-grpc>=1.2.0->chromadb)\n",
      "  Downloading opentelemetry_exporter_otlp_proto_common-1.30.0-py3-none-any.whl.metadata (1.9 kB)\n",
      "Collecting opentelemetry-proto==1.30.0 (from opentelemetry-exporter-otlp-proto-grpc>=1.2.0->chromadb)\n",
      "  Downloading opentelemetry_proto-1.30.0-py3-none-any.whl.metadata (2.4 kB)\n",
      "Collecting opentelemetry-sdk>=1.2.0 (from chromadb)\n",
      "  Downloading opentelemetry_sdk-1.30.0-py3-none-any.whl.metadata (1.6 kB)\n",
      "Collecting protobuf (from onnxruntime>=1.14.1->chromadb)\n",
      "  Downloading protobuf-5.29.3-cp38-abi3-manylinux2014_x86_64.whl.metadata (592 bytes)\n",
      "Collecting opentelemetry-instrumentation-asgi==0.51b0 (from opentelemetry-instrumentation-fastapi>=0.41b0->chromadb)\n",
      "  Downloading opentelemetry_instrumentation_asgi-0.51b0-py3-none-any.whl.metadata (2.1 kB)\n",
      "Collecting opentelemetry-instrumentation==0.51b0 (from opentelemetry-instrumentation-fastapi>=0.41b0->chromadb)\n",
      "  Downloading opentelemetry_instrumentation-0.51b0-py3-none-any.whl.metadata (6.3 kB)\n",
      "Collecting opentelemetry-semantic-conventions==0.51b0 (from opentelemetry-instrumentation-fastapi>=0.41b0->chromadb)\n",
      "  Downloading opentelemetry_semantic_conventions-0.51b0-py3-none-any.whl.metadata (2.5 kB)\n",
      "Collecting opentelemetry-util-http==0.51b0 (from opentelemetry-instrumentation-fastapi>=0.41b0->chromadb)\n",
      "  Downloading opentelemetry_util_http-0.51b0-py3-none-any.whl.metadata (2.6 kB)\n",
      "Requirement already satisfied: wrapt<2.0.0,>=1.0.0 in /usr/local/lib/python3.11/dist-packages (from opentelemetry-instrumentation==0.51b0->opentelemetry-instrumentation-fastapi>=0.41b0->chromadb) (1.17.2)\n",
      "Collecting asgiref~=3.0 (from opentelemetry-instrumentation-asgi==0.51b0->opentelemetry-instrumentation-fastapi>=0.41b0->chromadb)\n",
      "  Downloading asgiref-3.8.1-py3-none-any.whl.metadata (9.3 kB)\n",
      "Collecting opentelemetry-api>=1.2.0 (from chromadb)\n",
      "  Downloading opentelemetry_api-1.30.0-py3-none-any.whl.metadata (1.6 kB)\n",
      "Collecting importlib-metadata<=8.5.0,>=6.0 (from opentelemetry-api>=1.2.0->chromadb)\n",
      "  Downloading importlib_metadata-8.5.0-py3-none-any.whl.metadata (4.8 kB)\n",
      "Collecting monotonic>=1.5 (from posthog>=2.4.0->chromadb)\n",
      "  Downloading monotonic-1.6-py2.py3-none-any.whl.metadata (1.5 kB)\n",
      "Collecting backoff>=1.10.0 (from posthog>=2.4.0->chromadb)\n",
      "  Downloading backoff-2.2.1-py3-none-any.whl.metadata (14 kB)\n",
      "Requirement already satisfied: annotated-types>=0.6.0 in /usr/local/lib/python3.11/dist-packages (from pydantic>=1.9->chromadb) (0.7.0)\n",
      "Requirement already satisfied: pydantic-core==2.27.2 in /usr/local/lib/python3.11/dist-packages (from pydantic>=1.9->chromadb) (2.27.2)\n",
      "Requirement already satisfied: markdown-it-py>=2.2.0 in /usr/local/lib/python3.11/dist-packages (from rich>=10.11.0->chromadb) (3.0.0)\n",
      "Requirement already satisfied: pygments<3.0.0,>=2.13.0 in /usr/local/lib/python3.11/dist-packages (from rich>=10.11.0->chromadb) (2.18.0)\n",
      "Requirement already satisfied: huggingface-hub<1.0,>=0.16.4 in /usr/local/lib/python3.11/dist-packages (from tokenizers>=0.13.2->chromadb) (0.28.1)\n",
      "Requirement already satisfied: click>=8.0.0 in /usr/local/lib/python3.11/dist-packages (from typer>=0.9.0->chromadb) (8.1.8)\n",
      "Requirement already satisfied: shellingham>=1.3.0 in /usr/local/lib/python3.11/dist-packages (from typer>=0.9.0->chromadb) (1.5.4)\n",
      "Collecting httptools>=0.6.3 (from uvicorn[standard]>=0.18.3->chromadb)\n",
      "  Downloading httptools-0.6.4-cp311-cp311-manylinux_2_5_x86_64.manylinux1_x86_64.manylinux_2_17_x86_64.manylinux2014_x86_64.whl.metadata (3.6 kB)\n",
      "Requirement already satisfied: python-dotenv>=0.13 in /usr/local/lib/python3.11/dist-packages (from uvicorn[standard]>=0.18.3->chromadb) (1.0.1)\n",
      "Collecting uvloop!=0.15.0,!=0.15.1,>=0.14.0 (from uvicorn[standard]>=0.18.3->chromadb)\n",
      "  Downloading uvloop-0.21.0-cp311-cp311-manylinux_2_17_x86_64.manylinux2014_x86_64.whl.metadata (4.9 kB)\n",
      "Collecting watchfiles>=0.13 (from uvicorn[standard]>=0.18.3->chromadb)\n",
      "  Downloading watchfiles-1.0.4-cp311-cp311-manylinux_2_17_x86_64.manylinux2014_x86_64.whl.metadata (4.9 kB)\n",
      "Requirement already satisfied: websockets>=10.4 in /usr/local/lib/python3.11/dist-packages (from uvicorn[standard]>=0.18.3->chromadb) (14.2)\n",
      "Requirement already satisfied: cachetools<6.0,>=2.0.0 in /usr/local/lib/python3.11/dist-packages (from google-auth>=1.0.1->kubernetes>=28.1.0->chromadb) (5.5.1)\n",
      "Requirement already satisfied: pyasn1-modules>=0.2.1 in /usr/local/lib/python3.11/dist-packages (from google-auth>=1.0.1->kubernetes>=28.1.0->chromadb) (0.4.1)\n",
      "Requirement already satisfied: rsa<5,>=3.1.4 in /usr/local/lib/python3.11/dist-packages (from google-auth>=1.0.1->kubernetes>=28.1.0->chromadb) (4.9)\n",
      "Requirement already satisfied: filelock in /usr/local/lib/python3.11/dist-packages (from huggingface-hub<1.0,>=0.16.4->tokenizers>=0.13.2->chromadb) (3.17.0)\n",
      "Requirement already satisfied: fsspec>=2023.5.0 in /usr/local/lib/python3.11/dist-packages (from huggingface-hub<1.0,>=0.16.4->tokenizers>=0.13.2->chromadb) (2024.10.0)\n",
      "Requirement already satisfied: zipp>=3.20 in /usr/local/lib/python3.11/dist-packages (from importlib-metadata<=8.5.0,>=6.0->opentelemetry-api>=1.2.0->chromadb) (3.21.0)\n",
      "Requirement already satisfied: mdurl~=0.1 in /usr/local/lib/python3.11/dist-packages (from markdown-it-py>=2.2.0->rich>=10.11.0->chromadb) (0.1.2)\n",
      "Requirement already satisfied: charset-normalizer<4,>=2 in /usr/local/lib/python3.11/dist-packages (from requests->kubernetes>=28.1.0->chromadb) (3.4.1)\n",
      "Requirement already satisfied: sniffio>=1.1 in /usr/local/lib/python3.11/dist-packages (from anyio->httpx>=0.27.0->chromadb) (1.3.1)\n",
      "Collecting humanfriendly>=9.1 (from coloredlogs->onnxruntime>=1.14.1->chromadb)\n",
      "  Downloading humanfriendly-10.0-py2.py3-none-any.whl.metadata (9.2 kB)\n",
      "Requirement already satisfied: mpmath<1.4,>=1.1.0 in /usr/local/lib/python3.11/dist-packages (from sympy->onnxruntime>=1.14.1->chromadb) (1.3.0)\n",
      "Requirement already satisfied: pyasn1<0.7.0,>=0.4.6 in /usr/local/lib/python3.11/dist-packages (from pyasn1-modules>=0.2.1->google-auth>=1.0.1->kubernetes>=28.1.0->chromadb) (0.6.1)\n",
      "Downloading chromadb-0.6.3-py3-none-any.whl (611 kB)\n",
      "\u001b[2K   \u001b[90m━━━━━━━━━━━━━━━━━━━━━━━━━━━━━━━━━━━━━━━━\u001b[0m \u001b[32m611.1/611.1 kB\u001b[0m \u001b[31m32.0 MB/s\u001b[0m eta \u001b[36m0:00:00\u001b[0m\n",
      "\u001b[?25hDownloading chroma_hnswlib-0.7.6-cp311-cp311-manylinux_2_17_x86_64.manylinux2014_x86_64.whl (2.4 MB)\n",
      "\u001b[2K   \u001b[90m━━━━━━━━━━━━━━━━━━━━━━━━━━━━━━━━━━━━━━━━\u001b[0m \u001b[32m2.4/2.4 MB\u001b[0m \u001b[31m79.5 MB/s\u001b[0m eta \u001b[36m0:00:00\u001b[0m\n",
      "\u001b[?25hDownloading bcrypt-4.2.1-cp39-abi3-manylinux_2_28_x86_64.whl (278 kB)\n",
      "\u001b[2K   \u001b[90m━━━━━━━━━━━━━━━━━━━━━━━━━━━━━━━━━━━━━━━━\u001b[0m \u001b[32m278.6/278.6 kB\u001b[0m \u001b[31m22.7 MB/s\u001b[0m eta \u001b[36m0:00:00\u001b[0m\n",
      "\u001b[?25hDownloading build-1.2.2.post1-py3-none-any.whl (22 kB)\n",
      "Downloading fastapi-0.115.8-py3-none-any.whl (94 kB)\n",
      "\u001b[2K   \u001b[90m━━━━━━━━━━━━━━━━━━━━━━━━━━━━━━━━━━━━━━━━\u001b[0m \u001b[32m94.8/94.8 kB\u001b[0m \u001b[31m9.1 MB/s\u001b[0m eta \u001b[36m0:00:00\u001b[0m\n",
      "\u001b[?25hDownloading kubernetes-32.0.0-py2.py3-none-any.whl (2.0 MB)\n",
      "\u001b[2K   \u001b[90m━━━━━━━━━━━━━━━━━━━━━━━━━━━━━━━━━━━━━━━━\u001b[0m \u001b[32m2.0/2.0 MB\u001b[0m \u001b[31m75.8 MB/s\u001b[0m eta \u001b[36m0:00:00\u001b[0m\n",
      "\u001b[?25hDownloading mmh3-5.1.0-cp311-cp311-manylinux_2_5_x86_64.manylinux1_x86_64.manylinux_2_17_x86_64.manylinux2014_x86_64.whl (101 kB)\n",
      "\u001b[2K   \u001b[90m━━━━━━━━━━━━━━━━━━━━━━━━━━━━━━━━━━━━━━━━\u001b[0m \u001b[32m101.6/101.6 kB\u001b[0m \u001b[31m8.3 MB/s\u001b[0m eta \u001b[36m0:00:00\u001b[0m\n",
      "\u001b[?25hDownloading onnxruntime-1.20.1-cp311-cp311-manylinux_2_27_x86_64.manylinux_2_28_x86_64.whl (13.3 MB)\n",
      "\u001b[2K   \u001b[90m━━━━━━━━━━━━━━━━━━━━━━━━━━━━━━━━━━━━━━━━\u001b[0m \u001b[32m13.3/13.3 MB\u001b[0m \u001b[31m89.5 MB/s\u001b[0m eta \u001b[36m0:00:00\u001b[0m\n",
      "\u001b[?25hDownloading opentelemetry_exporter_otlp_proto_grpc-1.30.0-py3-none-any.whl (18 kB)\n",
      "Downloading opentelemetry_exporter_otlp_proto_common-1.30.0-py3-none-any.whl (18 kB)\n",
      "Downloading opentelemetry_proto-1.30.0-py3-none-any.whl (55 kB)\n",
      "\u001b[2K   \u001b[90m━━━━━━━━━━━━━━━━━━━━━━━━━━━━━━━━━━━━━━━━\u001b[0m \u001b[32m55.9/55.9 kB\u001b[0m \u001b[31m5.0 MB/s\u001b[0m eta \u001b[36m0:00:00\u001b[0m\n",
      "\u001b[?25hDownloading opentelemetry_instrumentation_fastapi-0.51b0-py3-none-any.whl (12 kB)\n",
      "Downloading opentelemetry_instrumentation-0.51b0-py3-none-any.whl (30 kB)\n",
      "Downloading opentelemetry_instrumentation_asgi-0.51b0-py3-none-any.whl (16 kB)\n",
      "Downloading opentelemetry_semantic_conventions-0.51b0-py3-none-any.whl (177 kB)\n",
      "\u001b[2K   \u001b[90m━━━━━━━━━━━━━━━━━━━━━━━━━━━━━━━━━━━━━━━━\u001b[0m \u001b[32m177.4/177.4 kB\u001b[0m \u001b[31m14.8 MB/s\u001b[0m eta \u001b[36m0:00:00\u001b[0m\n",
      "\u001b[?25hDownloading opentelemetry_api-1.30.0-py3-none-any.whl (64 kB)\n",
      "\u001b[2K   \u001b[90m━━━━━━━━━━━━━━━━━━━━━━━━━━━━━━━━━━━━━━━━\u001b[0m \u001b[32m65.0/65.0 kB\u001b[0m \u001b[31m5.7 MB/s\u001b[0m eta \u001b[36m0:00:00\u001b[0m\n",
      "\u001b[?25hDownloading opentelemetry_util_http-0.51b0-py3-none-any.whl (7.3 kB)\n",
      "Downloading opentelemetry_sdk-1.30.0-py3-none-any.whl (118 kB)\n",
      "\u001b[2K   \u001b[90m━━━━━━━━━━━━━━━━━━━━━━━━━━━━━━━━━━━━━━━━\u001b[0m \u001b[32m118.7/118.7 kB\u001b[0m \u001b[31m9.7 MB/s\u001b[0m eta \u001b[36m0:00:00\u001b[0m\n",
      "\u001b[?25hDownloading overrides-7.7.0-py3-none-any.whl (17 kB)\n",
      "Downloading posthog-3.13.0-py2.py3-none-any.whl (72 kB)\n",
      "\u001b[2K   \u001b[90m━━━━━━━━━━━━━━━━━━━━━━━━━━━━━━━━━━━━━━━━\u001b[0m \u001b[32m73.0/73.0 kB\u001b[0m \u001b[31m6.3 MB/s\u001b[0m eta \u001b[36m0:00:00\u001b[0m\n",
      "\u001b[?25hDownloading uvicorn-0.34.0-py3-none-any.whl (62 kB)\n",
      "\u001b[2K   \u001b[90m━━━━━━━━━━━━━━━━━━━━━━━━━━━━━━━━━━━━━━━━\u001b[0m \u001b[32m62.3/62.3 kB\u001b[0m \u001b[31m5.0 MB/s\u001b[0m eta \u001b[36m0:00:00\u001b[0m\n",
      "\u001b[?25hDownloading backoff-2.2.1-py3-none-any.whl (15 kB)\n",
      "Downloading durationpy-0.9-py3-none-any.whl (3.5 kB)\n",
      "Downloading httptools-0.6.4-cp311-cp311-manylinux_2_5_x86_64.manylinux1_x86_64.manylinux_2_17_x86_64.manylinux2014_x86_64.whl (459 kB)\n",
      "\u001b[2K   \u001b[90m━━━━━━━━━━━━━━━━━━━━━━━━━━━━━━━━━━━━━━━━\u001b[0m \u001b[32m459.8/459.8 kB\u001b[0m \u001b[31m32.5 MB/s\u001b[0m eta \u001b[36m0:00:00\u001b[0m\n",
      "\u001b[?25hDownloading importlib_metadata-8.5.0-py3-none-any.whl (26 kB)\n",
      "Downloading monotonic-1.6-py2.py3-none-any.whl (8.2 kB)\n",
      "Downloading protobuf-5.29.3-cp38-abi3-manylinux2014_x86_64.whl (319 kB)\n",
      "\u001b[2K   \u001b[90m━━━━━━━━━━━━━━━━━━━━━━━━━━━━━━━━━━━━━━━━\u001b[0m \u001b[32m319.7/319.7 kB\u001b[0m \u001b[31m22.4 MB/s\u001b[0m eta \u001b[36m0:00:00\u001b[0m\n",
      "\u001b[?25hDownloading starlette-0.45.3-py3-none-any.whl (71 kB)\n",
      "\u001b[2K   \u001b[90m━━━━━━━━━━━━━━━━━━━━━━━━━━━━━━━━━━━━━━━━\u001b[0m \u001b[32m71.5/71.5 kB\u001b[0m \u001b[31m6.3 MB/s\u001b[0m eta \u001b[36m0:00:00\u001b[0m\n",
      "\u001b[?25hDownloading uvloop-0.21.0-cp311-cp311-manylinux_2_17_x86_64.manylinux2014_x86_64.whl (4.0 MB)\n",
      "\u001b[2K   \u001b[90m━━━━━━━━━━━━━━━━━━━━━━━━━━━━━━━━━━━━━━━━\u001b[0m \u001b[32m4.0/4.0 MB\u001b[0m \u001b[31m93.2 MB/s\u001b[0m eta \u001b[36m0:00:00\u001b[0m\n",
      "\u001b[?25hDownloading watchfiles-1.0.4-cp311-cp311-manylinux_2_17_x86_64.manylinux2014_x86_64.whl (452 kB)\n",
      "\u001b[2K   \u001b[90m━━━━━━━━━━━━━━━━━━━━━━━━━━━━━━━━━━━━━━━━\u001b[0m \u001b[32m452.6/452.6 kB\u001b[0m \u001b[31m35.2 MB/s\u001b[0m eta \u001b[36m0:00:00\u001b[0m\n",
      "\u001b[?25hDownloading coloredlogs-15.0.1-py2.py3-none-any.whl (46 kB)\n",
      "\u001b[2K   \u001b[90m━━━━━━━━━━━━━━━━━━━━━━━━━━━━━━━━━━━━━━━━\u001b[0m \u001b[32m46.0/46.0 kB\u001b[0m \u001b[31m4.4 MB/s\u001b[0m eta \u001b[36m0:00:00\u001b[0m\n",
      "\u001b[?25hDownloading pyproject_hooks-1.2.0-py3-none-any.whl (10 kB)\n",
      "Downloading asgiref-3.8.1-py3-none-any.whl (23 kB)\n",
      "Downloading humanfriendly-10.0-py2.py3-none-any.whl (86 kB)\n",
      "\u001b[2K   \u001b[90m━━━━━━━━━━━━━━━━━━━━━━━━━━━━━━━━━━━━━━━━\u001b[0m \u001b[32m86.8/86.8 kB\u001b[0m \u001b[31m8.2 MB/s\u001b[0m eta \u001b[36m0:00:00\u001b[0m\n",
      "\u001b[?25hBuilding wheels for collected packages: pypika\n",
      "  Building wheel for pypika (pyproject.toml) ... \u001b[?25l\u001b[?25hdone\n",
      "  Created wheel for pypika: filename=PyPika-0.48.9-py2.py3-none-any.whl size=53771 sha256=7cee79c589b58a10807bcbd5785ef89c8ec17f27d644b89409638f318d12300e\n",
      "  Stored in directory: /root/.cache/pip/wheels/a3/01/bd/4c40ceb9d5354160cb186dcc153360f4ab7eb23e2b24daf96d\n",
      "Successfully built pypika\n",
      "Installing collected packages: pypika, monotonic, durationpy, uvloop, uvicorn, pyproject_hooks, protobuf, overrides, opentelemetry-util-http, mmh3, importlib-metadata, humanfriendly, httptools, chroma-hnswlib, bcrypt, backoff, asgiref, watchfiles, starlette, posthog, opentelemetry-proto, opentelemetry-api, coloredlogs, build, opentelemetry-semantic-conventions, opentelemetry-exporter-otlp-proto-common, onnxruntime, kubernetes, fastapi, opentelemetry-sdk, opentelemetry-instrumentation, opentelemetry-instrumentation-asgi, opentelemetry-exporter-otlp-proto-grpc, opentelemetry-instrumentation-fastapi, chromadb\n",
      "  Attempting uninstall: protobuf\n",
      "    Found existing installation: protobuf 4.25.6\n",
      "    Uninstalling protobuf-4.25.6:\n",
      "      Successfully uninstalled protobuf-4.25.6\n",
      "  Attempting uninstall: importlib-metadata\n",
      "    Found existing installation: importlib_metadata 8.6.1\n",
      "    Uninstalling importlib_metadata-8.6.1:\n",
      "      Successfully uninstalled importlib_metadata-8.6.1\n",
      "  Attempting uninstall: opentelemetry-api\n",
      "    Found existing installation: opentelemetry-api 1.16.0\n",
      "    Uninstalling opentelemetry-api-1.16.0:\n",
      "      Successfully uninstalled opentelemetry-api-1.16.0\n",
      "  Attempting uninstall: opentelemetry-semantic-conventions\n",
      "    Found existing installation: opentelemetry-semantic-conventions 0.37b0\n",
      "    Uninstalling opentelemetry-semantic-conventions-0.37b0:\n",
      "      Successfully uninstalled opentelemetry-semantic-conventions-0.37b0\n",
      "  Attempting uninstall: opentelemetry-sdk\n",
      "    Found existing installation: opentelemetry-sdk 1.16.0\n",
      "    Uninstalling opentelemetry-sdk-1.16.0:\n",
      "      Successfully uninstalled opentelemetry-sdk-1.16.0\n",
      "Successfully installed asgiref-3.8.1 backoff-2.2.1 bcrypt-4.2.1 build-1.2.2.post1 chroma-hnswlib-0.7.6 chromadb-0.6.3 coloredlogs-15.0.1 durationpy-0.9 fastapi-0.115.8 httptools-0.6.4 humanfriendly-10.0 importlib-metadata-8.5.0 kubernetes-32.0.0 mmh3-5.1.0 monotonic-1.6 onnxruntime-1.20.1 opentelemetry-api-1.30.0 opentelemetry-exporter-otlp-proto-common-1.30.0 opentelemetry-exporter-otlp-proto-grpc-1.30.0 opentelemetry-instrumentation-0.51b0 opentelemetry-instrumentation-asgi-0.51b0 opentelemetry-instrumentation-fastapi-0.51b0 opentelemetry-proto-1.30.0 opentelemetry-sdk-1.30.0 opentelemetry-semantic-conventions-0.51b0 opentelemetry-util-http-0.51b0 overrides-7.7.0 posthog-3.13.0 protobuf-5.29.3 pypika-0.48.9 pyproject_hooks-1.2.0 starlette-0.45.3 uvicorn-0.34.0 uvloop-0.21.0 watchfiles-1.0.4\n"
     ]
    },
    {
     "data": {
      "application/vnd.colab-display-data+json": {
       "id": "329ca9a349ea44cbb6bd45b71be54fb4",
       "pip_warning": {
        "packages": [
         "importlib_metadata"
        ]
       }
      }
     },
     "metadata": {},
     "output_type": "display_data"
    }
   ],
   "source": [
    "# installing necessary libraries\n",
    "!pip install langchain_google_genai\n",
    "!pip install langchain_community\n",
    "!pip install langchain_text_splitters\n",
    "!pip install pypdf\n",
    "!pip install chromadb\n",
    "!pip install -qU langchain_community pypdf"
   ]
  },
  {
   "cell_type": "code",
   "execution_count": 2,
   "metadata": {
    "executionInfo": {
     "elapsed": 3357,
     "status": "ok",
     "timestamp": 1739374148850,
     "user": {
      "displayName": "Iyed Zarrougui",
      "userId": "02176473464439355215"
     },
     "user_tz": -60
    },
    "id": "LXV5HC4qJ-Hc"
   },
   "outputs": [],
   "source": [
    "# load the pdf doument\n",
    "\n",
    "from langchain_community.document_loaders import PyPDFLoader\n",
    "from langchain_google_genai import ChatGoogleGenerativeAI\n",
    "from langchain.prompts import PromptTemplate\n",
    "from langchain_google_genai import GoogleGenerativeAIEmbeddings\n",
    "from langchain_text_splitters import CharacterTextSplitter\n",
    "from langchain.chains.combine_documents import create_stuff_documents_chain\n",
    "from langchain.chains import create_retrieval_chain\n",
    "from langchain.vectorstores import chroma"
   ]
  },
  {
   "cell_type": "code",
   "execution_count": 3,
   "metadata": {
    "executionInfo": {
     "elapsed": 1467,
     "status": "ok",
     "timestamp": 1739374204363,
     "user": {
      "displayName": "Iyed Zarrougui",
      "userId": "02176473464439355215"
     },
     "user_tz": -60
    },
    "id": "zRfcaTLXLAMg"
   },
   "outputs": [],
   "source": [
    "path=\"constitution.pdf\"\n",
    "loader = PyPDFLoader(path)\n",
    "data = loader.load()"
   ]
  },
  {
   "cell_type": "code",
   "execution_count": 4,
   "metadata": {
    "colab": {
     "base_uri": "https://localhost:8080/"
    },
    "collapsed": true,
    "executionInfo": {
     "elapsed": 540,
     "status": "ok",
     "timestamp": 1739374250789,
     "user": {
      "displayName": "Iyed Zarrougui",
      "userId": "02176473464439355215"
     },
     "user_tz": -60
    },
    "id": "9SYnKp_-LOKE",
    "outputId": "6bb46e9e-2e51-4dbf-a89d-151309d17d12"
   },
   "outputs": [
    {
     "data": {
      "text/plain": [
       "[Document(metadata={'producer': 'Adobe PDF Library 23.1.125', 'creator': 'Acrobat PDFMaker 23 for Word', 'creationdate': '2023-04-10T12:53:44-04:00', 'company': '', 'created': 'D:20030612', 'lastsaved': 'D:20230409', 'moddate': '2023-04-10T13:09:52-04:00', 'sourcemodified': 'D:20230410165309', 'title': 'constitution_pdf2', 'source': 'constitution.pdf', 'total_pages': 19, 'page': 0, 'page_label': '1'}, page_content='NATIONAL CONSTITUTION CENTER \\n \\n \\n \\n \\n \\n \\n \\n \\n \\n \\n \\nTHE \\nCONSTITUTION  \\nof the United States'),\n",
       " Document(metadata={'producer': 'Adobe PDF Library 23.1.125', 'creator': 'Acrobat PDFMaker 23 for Word', 'creationdate': '2023-04-10T12:53:44-04:00', 'company': '', 'created': 'D:20030612', 'lastsaved': 'D:20230409', 'moddate': '2023-04-10T13:09:52-04:00', 'sourcemodified': 'D:20230410165309', 'title': 'constitution_pdf2', 'source': 'constitution.pdf', 'total_pages': 19, 'page': 1, 'page_label': '2'}, page_content='C O N S T I T U T I O N O F T H E U N I T E D S T A T E S  \\n \\n \\n \\n \\nWe the People of the United States, in Order to form a \\nmore perfect Union, establish Justice, insure domestic \\nTranquility, provide for the common defence, promote \\nthe general Welfare, and secure the Blessings of Liberty to \\nourselves and our Posterity, do ordain and establish this \\nConstitution for the United States of America  \\n \\n \\nArticle.  I. \\nSECTION. 1 \\nAll legislative Powers herein granted shall be vested in a \\nCongress of the United States, which shall consist of a Sen- \\nate and House of Representatives. \\nSECTION. 2 \\nThe House of Representatives shall be composed of Mem- \\nbers chosen every second Year by the People of the several \\nStates, and the Electors in each State shall have the Qualifi- \\ncations requisite for Electors of the most numerous Branch \\nof the State Legislature. \\nNo Person shall be a Representative who shall not have \\nattained to the Age of twenty five Years, and been seven \\nYears a Citizen of the United States, and who shall not, \\nwhen elected, be an Inhabitant of that State in which he \\nshall be chosen. \\n[Representatives and direct Taxes shall be apportioned \\namong the several States which may be included within \\nthis Union, according to their respective Numbers, which \\nshall be determined by adding to the whole Number of \\nfree Persons, including those bound to Service for a Term \\nof Years, and excluding Indians not taxed, three fifths of \\nall other Persons.]* The actual Enumeration shall be made \\nwithin three Years after the first Meeting of the Congress \\nof the United States, and within every subsequent Term of \\nten Years, in such Manner as they shall by Law direct. The \\nNumber of Representatives shall not exceed one for every \\nthirty Thousand, but each State shall have at Least one \\nRepresentative; and until such enumeration shall be made, \\nthe State of New Hampshire shall be entitled to chuse \\nthree, Massachusetts eight, Rhode-Island and Providence \\nPlantations one, Connecticut five, New-York six, New \\nJersey four, Pennsylvania eight, Delaware one, Maryland \\nsix, Virginia ten, North Carolina five, South Carolina five, \\nand Georgia three. \\nWhen vacancies happen in the Representation from any \\nState, the Executive Authority thereof shall issue Writs of \\nElection to fill such Vacancies. \\nThe House of Representatives shall chuse their \\nSpeaker and other Officers; and shall have the sole \\nPower of Impeachment. \\nSECTION. 3 \\nThe Senate of the United States shall be composed of two \\nSenators from each State, [chosen by the Legislature there- \\nof,]* for six Years; and each Senator shall have one Vote. \\nImmediately after they shall be assembled in Consequence \\nof the first Election, they shall be divided as equally as may \\nbe into three Classes. The Seats of the Senators of the first \\nClass shall be vacated at the Expiration of the second Year, \\nof the second Class at the Expiration of the fourth Year, and \\nof the third Class at the Expiration of the sixth Year, so that \\none third may be chosen every second Year; [and if Vacan- \\ncies happen by Resignation, or otherwise, during the Recess \\nof the Legislature of any State, the Executive thereof may \\nmake temporary Appointments until the next Meeting of \\nthe Legislature, which shall then fill such Vacancies.]*'),\n",
       " Document(metadata={'producer': 'Adobe PDF Library 23.1.125', 'creator': 'Acrobat PDFMaker 23 for Word', 'creationdate': '2023-04-10T12:53:44-04:00', 'company': '', 'created': 'D:20030612', 'lastsaved': 'D:20230409', 'moddate': '2023-04-10T13:09:52-04:00', 'sourcemodified': 'D:20230410165309', 'title': 'constitution_pdf2', 'source': 'constitution.pdf', 'total_pages': 19, 'page': 2, 'page_label': '3'}, page_content='C O N S T I T U T I O N O F T H E U N I T E D S T A T E S  \\nNo Person shall be a Senator who shall not have attained \\nto the Age of thirty Years, and been nine Years a Citizen of \\nthe United States, and who shall not, when elected, be an \\nInhabitant of that State for which he shall be chosen \\nThe Vice President of the United States shall be \\nPresident of the Senate, but shall have no Vote, unless \\nthey be equally divided. \\nThe Senate shall chuse their other Officers, and also a \\nPresident pro tempore, in the Absence of the  Vice \\nPresident, or when he shall exercise the Office of \\nPresident of the United States  \\nThe Senate shall have the sole Power to try all Impeach- \\nments. When sitting for that Purpose, they shall be on \\nOath or Affirmation. When the President of the United \\nStates is tried, the Chief Justice shall preside: And no \\nPerson shall be convicted without the Concurrence of two \\nthirds of the Members present. \\nJudgment in Cases of Imp eachment shall not extend \\nfurther than to removal from Office, and disqualification to \\nhold and enjoy any Office of honor, Trust or Profit under \\nthe United States: but the Party convicted shall nevertheless \\nbe liable and subject to Indictment,  Trial, Judgment and \\nPunishment, according to Law.  \\nSECTION. 4 \\nThe Times, Places and Manner of holding Elections for \\nSenators and Representatives, shall be prescribed in each \\nState by the Legislature thereof; but the Congress may at \\nany time by Law make or alter such Regulations, except as \\nto the Places of chusing Senators. \\nThe Congress shall assemble at least once in every Year, and \\nsuch Meeting shall be [on the first Monday in December,]* \\nunless they shall by Law appoint a different Day. \\nSECTION. 5. \\nEach House shall be the Judge of the Elections, Returns \\nand Qualifications of its own Members, and a Majority  \\nof each shall constitute a Quorum to do Business; but a \\nsmaller Number may adjourn from day to day, and may be \\nauthorized to compel the Attendance of absent Members, \\nin such Manner, and under such Penalties as each House \\nmay provide. \\nEach House may determine the Rules of its Proceedings, \\npunish its Members for disorderly Behaviour, and, with the \\nConcurrence of two thirds, expel a Member. \\nEach House shall keep a Journal of its Proceedings, and \\nfrom time to time publish the same, excepting such Parts \\nas may in their Judgment require Secrecy; and the Yeas \\nand Nays of the Members of either House on any question \\nshall, at the Desire of one fifth of those Present, be entered \\non the Journal. \\nNeither House, during the Session of Congress, shall, with- \\nout the Consent of the other, adjourn for more than three \\ndays, nor to any other Place than that in which the two \\nHouses shall be sitting. \\nSECTION. 6 \\nThe Senators and Representatives shall receive a Compen- \\nsation for their Services, to be ascertained by Law, and paid \\nout of the Treasury of the United States. They shall in all \\nCases, except Treason, Felony and Breach of the Peace, be \\nprivileged from Arrest during their Attendance at the Ses- \\nsion of their respective Houses, and in going to and return- \\ning from the same; and for any Speech or Debate in either \\nHouse, they shall not be questioned in any other Place. \\nNo Senator or Representative shall, during the Time for \\nwhich he was elected, be appointed to any civil Office \\nunder the Authority of the United States, which shall have \\nbeen created, or the Emoluments whereof shall have been \\nencreased during such time; and no Person holding any \\nOffice under the United States, shall be a Member of either \\nHouse during his Continuance in Office.'),\n",
       " Document(metadata={'producer': 'Adobe PDF Library 23.1.125', 'creator': 'Acrobat PDFMaker 23 for Word', 'creationdate': '2023-04-10T12:53:44-04:00', 'company': '', 'created': 'D:20030612', 'lastsaved': 'D:20230409', 'moddate': '2023-04-10T13:09:52-04:00', 'sourcemodified': 'D:20230410165309', 'title': 'constitution_pdf2', 'source': 'constitution.pdf', 'total_pages': 19, 'page': 3, 'page_label': '4'}, page_content='C O N S T I T U T I O N O F T H E U N I T E D S T A T E S  \\nSECTION. 7 \\nAll Bills for raising Revenue shall originate in the House of \\nRepresentatives; but the Senate may propose or concur with \\nAmendments as on other Bills \\nEvery Bill which shall have passed the House of Represen- \\ntatives and the Senate, shall, before it become a Law, be \\npresented to the President of the United States; If he ap- \\nprove he shall sign it, but if not he shall return it, with his \\nObjections to that House in which it shall have originated, \\nwho shall enter the Objections at large on their Journal, \\nand proceed to reconsider it. If after such Reconsideration \\ntwo thirds of that House shall agree to pass the Bill, it shall \\nbe sent, together with the Objections, to the other House, \\nby which it shall likewise be reconsidered, and if approved \\nby two thirds of that House, it shall become a Law. But in \\nall such Cases the Votes of both Houses shall be determined \\nby Yeas and Nays, and the Names of the Persons voting for \\nand against the Bill shall be entered on the Journal of each \\nHouse respectively, If any Bill shall not be returned by the \\nPresident within ten Days (Sundays excepted) after it shall \\nhave been presented to him, the Same shall be a Law, in \\nlike Manner as if he had signed it, unless the Congress by \\ntheir Adjournment prevent its Return, in which Case it shall \\nnot be a Law \\nEvery Order, Resolution, or Vote to which the Concur- \\nrence of the Senate and House of Representatives may be \\nnecessary (except on a question of Adjournment) shall be \\npresented to the President of the United States; and before \\nthe Same shall take Effect, shall be approved by him, or be- \\ning disapproved by him, shall be repassed by two thirds of \\nthe Senate and House of Representatives, according to the \\nRules and Limitations prescribed in the Case of a Bill. \\nSECTION. 8 \\nThe Congress shall have Power To lay and collect Taxes, \\nDuties, Imposts and Excises, to pay the Debts and provide \\nfor the common Defence and general Welfare of the United \\nStates; but all Duties, Imposts and Excises shall be uniform \\nthroughout the United States;  \\nTo borrow Money on the credit of the United States; \\nTo regulate Commerce with foreign Nations, and among \\nthe several States, and with the Indian  Tribes; \\nTo establish an uniform Rule of Naturalization, and uni- \\nform Laws on the subject of Bankruptcies throughout the \\nUnited States; \\nTo coin Money, regulate the Value thereof, and of foreign \\nCoin, and fix the Standard of Weights and Measures; \\nTo provide for the Punishment of counterfeiting the Securi- \\nties and current Coin of the United States; \\nTo establish Post Offices and post Roads; \\nTo promote the Progress of Science and useful Arts, by \\nsecuring for limited Times to Authors and Inventors the \\nexclusive Right to their respective Writings and Discoveries; \\nTo constitute Tribunals inferior to the supreme Court; \\nTo define and punish Piracies and Felonies committed on \\nthe high Seas, and Offenses against the Law of Nations; \\nTo declare War, grant Letters of Marque and Reprisal, and \\nmake Rules concerning Captures on Land and Water; \\nTo raise and support Armies, but no Appropriation of \\nMoney to that Use shall be for a longer Term than two \\nYears; \\nTo provide and maintain a Navy; \\nTo make Rules for the Government and Regulation of the \\nland and naval Forces; \\nTo provide for calling forth the Militia to execute the Laws \\nof the Union, suppress Insurrections and repel Invasions; \\nTo provide for organizing, arming, and disciplining, the \\nMilitia, and for governing such Part of them as may be \\nemployed in the Service of the United States, reserving to \\nthe States respectively, the Appointment of the Officers, \\nand the Authority of training the Militia according to the \\ndiscipline prescribed by Congress;'),\n",
       " Document(metadata={'producer': 'Adobe PDF Library 23.1.125', 'creator': 'Acrobat PDFMaker 23 for Word', 'creationdate': '2023-04-10T12:53:44-04:00', 'company': '', 'created': 'D:20030612', 'lastsaved': 'D:20230409', 'moddate': '2023-04-10T13:09:52-04:00', 'sourcemodified': 'D:20230410165309', 'title': 'constitution_pdf2', 'source': 'constitution.pdf', 'total_pages': 19, 'page': 4, 'page_label': '5'}, page_content='C O N S T I T U T I O N O F T H E U N I T E D S T A T E S  \\nTo exercise exclusive Legislation in all Cases whatsoever, \\nover such District (not exceeding ten Miles square) as \\nmay, by Cession of particular States, and the Acceptance \\nof Congress, become the Seat of the Government of the \\nUnited States, and to exercise like Authority over all Places \\npurchased by the Consent of the Legislature of the State in \\nwhich the Same shall be, for the Erection of Forts, Maga- \\nzines, Arsenals, dock-Yards and other needful Buildings; \\n-And \\nTo make all Laws which shall be necessary and proper for \\ncarrying into Execution the foregoing Powers, and all other \\nPowers vested by this Constitution in the Government of \\nthe United States, or in any Department or Officer thereof. \\nSECTION. 9 \\nThe Migration or Importation of such Persons as any of the \\nStates now existing shall think proper to admit, shall not be \\nprohibited by the Congress prior to the Year one thousand \\neight hundred and eight, but a Tax or duty may be imposed \\non such Importation, not exceeding ten dollars for each \\nPerson \\nThe Privilege of the Writ of Habeas Corpus shall not be \\nsuspended, unless when in Cases of Rebellion or Invasion \\nthe public Safety may require it. \\nNo Bill of Attainder or ex post facto Law shall be passed. \\n[No Capitation, or other direct, Tax shall be laid, unless in \\nProportion to the Census or Enumeration herein before \\ndirected to be taken.]* \\nNo Tax or Duty shall be laid on Articles exported from any \\nState \\nNo Preference shall be given by any Regulation of Com- \\nmerce or Revenue to the Ports of one State over those of \\nanother: nor shall Vessels bound to, or from, one State, be \\nobliged to enter, clear, or pay Duties in another. \\nNo Money shall be drawn from the Treasury, but in Con- \\nsequence of Appropriations made by Law; and a regular \\nStatement and Account of the Receipts and Expenditures of \\nall public Money shall be published from time to time. \\nNo Title of Nobility shall be granted by the United States: \\nAnd no Person holding any Office of Profit or Trust under \\nthem, shall, without the Consent of the Congress, accept \\nof any present, Emolument, Office, or Title, of any kind \\nwhatever, from any King, Prince, or foreign State. \\nSECTION. 10 \\nNo State shall enter into any Treaty, Alliance, or Confedera- \\ntion; grant Letters of Marque and Reprisal; coin Money; \\nemit Bills of Credit; make any Thing but gold and silver \\nCoin a Tender in Payment of Debts; pass any Bill of At- \\ntainder, ex post facto Law, or Law impairing the Obligation \\nof Contracts, or grant any Title of Nobility. \\nNo State shall, without the Consent of the Congress, lay \\nany Imposts or Duties on Imports or Exports, except what \\nmay be absolutely necessary for executing it’s inspection \\nLaws: and the net Produce of all Duties and Imposts, laid \\nby any State on Imports or Exports, shall be for the Use of \\nthe Treasury of the United States; and all such Laws shall be \\nsubject to the Revision and Controul of the Congress. \\nNo State shall, without the Consent of Congress, lay any \\nDuty of Tonnage, keep Troops, or Ships of War in time of \\nPeace, enter into any Agreement or Compact with another \\nState, or with a foreign Power, or engage in War, unless \\nactually invaded, or in such imminent Danger as will not \\nadmit of delay.'),\n",
       " Document(metadata={'producer': 'Adobe PDF Library 23.1.125', 'creator': 'Acrobat PDFMaker 23 for Word', 'creationdate': '2023-04-10T12:53:44-04:00', 'company': '', 'created': 'D:20030612', 'lastsaved': 'D:20230409', 'moddate': '2023-04-10T13:09:52-04:00', 'sourcemodified': 'D:20230410165309', 'title': 'constitution_pdf2', 'source': 'constitution.pdf', 'total_pages': 19, 'page': 5, 'page_label': '6'}, page_content='C O N S T I T U T I O N O F T H E U N I T E D S T A T E S  \\nArticle.  II.  \\nSECTION. 1 \\nThe executive Power shall be vested in a President of the \\nUnited States of America. He shall hold his Office during \\nthe Term of four Years, and, together with the Vice Presi- \\ndent, chosen for the same Term, be elected, as follows: \\nEach State shall appoint, in such Manner as the Legislature \\nthereof may direct, a Number of Electors, equal to the \\nwhole Number of Senators and Representatives to which \\nthe State may be entitled in the Congress: but no Senator or \\nRepresentative, or Person holding an Office of Trust or Prof- \\nit under the United States, shall be appointed an Elector. \\n[The Electors shall meet in their respective States, and vote \\nby Ballot for two Persons, of whom one at least shall not \\nbe an Inhabitant of the same State with themselves. And \\nthey shall make a List of all the Persons voted for, and of \\nthe Number of Votes for each; which List they shall sign \\nand certify, and transmit sealed to the Seat of the Govern- \\nment of the United States, directed to the President of the \\nSenate. The President of the Senate shall, in the Presence \\nof the Senate and House of Representatives, open all the \\nCertificates, and the Votes shall then be counted. The \\nPerson having the greatest Number of Votes shall be the \\nPresident, if such Number be a Majority of the whole \\nNumber of Electors appointed; and if there be more than \\none who have such Majority, and have an equal Number of \\nVotes, then the House of Representatives shall immediately \\nchuse by Ballot one of them for President; and if no Person \\nhave a Majority, then from the five highest on the List \\nthe said House shall in like Manner chuse the President. \\nBut in chusing the President, the Votes shall be taken by \\nStates, the Representation from each State having one Vote; \\nA quorum for this Purpose shall consist of a Member or \\nMembers from two thirds of the States, and a Majority of \\nall the States shall be necessary to a Choice. In every Case, \\nafter the Choice of the President, the Person having the \\ngreatest Number of Votes of the Electors shall be the Vice \\nPresident. But if there should remain two or more who \\nhave equal Votes, the Senate shall chuse from them by Bal- \\nlot the Vice President.]* \\n \\n \\n \\n \\n \\nThe Congress may determine the  Time of chusing the \\nElectors, and the Day on which they shall give their Votes; \\nwhich Day shall be the same throughout the United States. \\nNo Person except a natural born Citizen, or a Citizen \\nof the United States, at the time of the Adoption of this \\nConstitution, shall be eligible to the Office of President; \\nneither shall any person be eligible to that Office who shall \\nnot have attained to the Age of thirty five Years, and been \\nfourteen Years a Resident within the United States \\nIn Case of the Removal of the President from Office, or of \\nhis Death, Resignation, or Inability to discharge the Powers \\nand Duties of the said Office, the Same shall devolve on the \\nVice President, and the Congress may by Law provide for \\nthe Case of Removal, Death, Resignation or Inability, both \\nof the President and Vice President, declaring what Officer \\nshall then act as President, and such Officer shall act ac- \\ncordingly, until the Disability be removed, or a President \\nshall be elected.]* \\nThe President shall, at stated Times, receive for his Services, \\na Compensation, which shall neither be increased nor \\ndiminished during the Period for which he shall have been \\nelected, and he shall not receive within that Period any \\nother Emolument from the United States, or any of them. \\nBefore he enter on the Execution of his Office, he shall \\ntake the following Oath or Affirmation:- “I do solemnly \\nswear (or affirm) that I will faithfully execute the Office of \\nPresident of the United States, and will to the best of my \\nAbility, preserve, protect and defend the Constitution of \\nthe United States.”'),\n",
       " Document(metadata={'producer': 'Adobe PDF Library 23.1.125', 'creator': 'Acrobat PDFMaker 23 for Word', 'creationdate': '2023-04-10T12:53:44-04:00', 'company': '', 'created': 'D:20030612', 'lastsaved': 'D:20230409', 'moddate': '2023-04-10T13:09:52-04:00', 'sourcemodified': 'D:20230410165309', 'title': 'constitution_pdf2', 'source': 'constitution.pdf', 'total_pages': 19, 'page': 6, 'page_label': '7'}, page_content='C O N S T I T U T I O N O F T H E U N I T E D S T A T E S  \\nSECTION. 2 \\nThe President shall be Commander in Chief of the Army \\nand Navy of the United States, and of the Militia of the \\nseveral States, when called into the actual Service of the \\nUnited States; he may require the Opinion, in writing, of \\nthe principal Officer in each of the executive Departments, \\nupon any Subject relating to the Duties of their respective \\nOffices, and he shall have Power to grant Reprieves and \\nPardons for Offenses against the United States, except in \\nCases of Impeachment. \\nHe shall have Power, by and with the Advice and Consent \\nof the Senate, to make Treaties, provided two thirds of the \\nSenators present concur; and he shall nominate, and by and \\nwith the Advice and Consent of the Senate, shall appoint \\nAmbassadors, other public Ministers and Consuls, Judges \\nof the supreme Court, and all other Officers of the United \\nStates, whose Appointments are not herein otherwise \\nprovided for, and which shall be established by Law: but \\nthe Congress may by Law vest the Appointment of such in- \\nferior Officers, as they think proper, in the President alone, \\nin the Courts of Law, or in the Heads of Departments. \\nThe President shall have Power to fill up all Vacancies \\nthat may happen during the Recess of the Senate, by \\ngranting Commissions which shall expire at the End of \\ntheir next Session \\nSECTION. 3 \\nHe shall from time to time give to the Congress Informa- \\ntion of the State of the Union, and recommend to their \\nConsideration such Measures as he shall judge neces- \\nsary and expedient; he may, on extraordinary Occasions, \\nconvene both Houses, or either of them, and in Case of \\nDisagreement between them, with Respect to the Time of \\nAdjournment, he may adjourn them to such Time as he \\nshall think proper; he shall receive Ambassadors and other \\npublic Ministers; he shall take Care that the Laws be faith- \\nfully executed, and shall Commission all the Officers of the \\nUnited States \\nSECTION. 4 \\nThe President, Vice President and all civil Officers of the \\nUnited States, shall be removed from Office on Impeach- \\nment for, and Conviction of, Treason, Bribery, or other \\nhigh Crimes and Misdemeanors.'),\n",
       " Document(metadata={'producer': 'Adobe PDF Library 23.1.125', 'creator': 'Acrobat PDFMaker 23 for Word', 'creationdate': '2023-04-10T12:53:44-04:00', 'company': '', 'created': 'D:20030612', 'lastsaved': 'D:20230409', 'moddate': '2023-04-10T13:09:52-04:00', 'sourcemodified': 'D:20230410165309', 'title': 'constitution_pdf2', 'source': 'constitution.pdf', 'total_pages': 19, 'page': 7, 'page_label': '8'}, page_content='C O N S T I T U T I O N O F T H E U N I T E D S T A T E S  \\nArticle.  III.  \\nSECTION. 1 \\nThe judicial Power of the United States, shall be vested \\nin one supreme Court, and in such inferior Courts as the \\nCongress may from time to time ordain and establish. The \\nJudges, both of the supreme and inferior Courts, shall hold \\ntheir Offices during good Behaviour, and shall at stated \\nTimes, receive for their Services, a Compensation, which \\nshall not be diminished during their Continuance in Office. \\n \\nSECTION. 2 \\nThe judicial Power shall extend to all Cases, in Law and \\nEquity, arising under this Constitution, the Laws of the \\nUnited States, and Treaties made, or which shall be made, \\nunder their Authority; - to all Cases affecting Ambassa- \\ndors, other public Ministers and Consuls; - to all Cases of \\nadmiralty and maritime Jurisdiction; - to Controversies to \\nwhich the United States shall be a Party; - to Controversies \\nbetween two or more States; - [between a State and Citizens \\nof another State;-]* between Citizens of different States, \\n- between Citizens of the same State claiming Lands under \\nGrants of different States, [and between a State, or the Citi- \\nzens thereof;- and foreign States, Citizens or Subjects.]*  \\nIn all Cases affecting Ambassadors, other public Ministers \\nand Consuls, and those in which a State shall be Party, the \\nsupreme Court shall have original Jurisdiction. In all the \\nother Cases before mentioned, the supreme Court shall \\nhave appellate Jurisdiction, both as to Law and Fact, with \\nsuch Exceptions, and under such Regulations as the Con- \\ngress shall make.  \\nThe Trial of all Crimes, except in Cases of Impeachment; \\nshall be by Jury; and such Trial shall be held in the State \\nwhere the said Crimes shall have been committed; but when \\nnot committed within any State, the  Trial shall be at such \\nPlace or Places as the Congress may by Law have directed. \\n \\n \\n \\nSECTION. 3 \\nTreason against the United States, shall consist only in levy- \\ning War against them, or in adhering to their Enemies, giv- \\ning them Aid and Comfort. No Person shall be convicted \\nof Treason unless on the Testimony of two Witnesses to the \\nsame overt Act, or on Confession in open Court. \\nThe Congress shall have Power to declare the Punishment \\nof Treason, but no Attainder of Treason shall work Corrup- \\ntion of Blood, or Forfeiture except during the Life of the \\nPerson attainted'),\n",
       " Document(metadata={'producer': 'Adobe PDF Library 23.1.125', 'creator': 'Acrobat PDFMaker 23 for Word', 'creationdate': '2023-04-10T12:53:44-04:00', 'company': '', 'created': 'D:20030612', 'lastsaved': 'D:20230409', 'moddate': '2023-04-10T13:09:52-04:00', 'sourcemodified': 'D:20230410165309', 'title': 'constitution_pdf2', 'source': 'constitution.pdf', 'total_pages': 19, 'page': 8, 'page_label': '9'}, page_content='C O N S T I T U T I O N O F T H E U N I T E D S T A T E S  \\nArticle.  I V. \\nSECTION. 1 \\nFull Faith and Credit shall be given in each State to the \\npublic Acts, Records, and judicial Proceedings of every oth- \\ner State. And the Congress may by general Laws prescribe \\nthe Manner in which such Acts, Records and Proceedings \\nshall be proved, and the Effect thereof. \\nSECTION. 2 \\nThe Citizens of each State shall be entitled to all Privileges \\nand Immunities of Citizens in the several States  \\nA Person charged in any State with Treason, Felony, or \\nother Crime, who shall flee from Justice, and be found in \\nanother State, shall on Demand of the executive Author- \\nity of the State from which he fled, be delivered up, to be \\nremoved to the State having Jurisdiction of the Crime.  \\nNo Person held to Service or Labour in one State, under \\nthe Laws thereof, escaping into another, shall, in Conse- \\nquence of any Law or Regulation therein, be discharged \\nfrom such Service or Labour, but shall be delivered up on \\nClaim of the Party to whom such Service or Labour may be \\ndue.]* \\nSECTION. 3 \\nNew States may be admitted by the Congress into this \\nUnion; but no new State shall be formed or erected within \\nthe Jurisdiction of any other State; nor any State be formed \\nby the Junction of two or more States, or Parts of States, \\nwithout the Consent of the Legislatures of the States con- \\ncerned as well as of the Congress. \\nThe Congress shall have Power to dispose of and make all \\nneedful Rules and Regulations respecting the Territory or \\nother Property belonging to the United States; and nothing \\nin this Constitution shall be so construed as to Prejudice \\nany Claims of the United States, or of any particular State. \\nSECTION. 4 \\nThe United States shall guarantee to every State in this \\nUnion a Republican Form of Government, and shall \\nprotect each of them against Invasion; and on Application \\nof the Legislature, or of the Executive (when the Legislature \\ncannot be convened) against domestic Violence. \\nArticle.  V.  \\nThe Congress, whenever two thirds of both Houses shall \\ndeem it necessary, shall propose Amendments to this Con- \\nstitution, or, on the Application of the Legislatures of two \\nthirds of the several States, shall call a Convention for pro- \\nposing Amendments, which in either Case, shall be valid to \\nall Intents and Purposes, as Part of this Constitution, when \\nratified by the Legislatures of three-fourths of the several \\nStates, or by Conventions in three fourths thereof, as the \\none or the other Mode of Ratification may be proposed by \\nthe Congress; Provided that no Amendment which may be \\nmade prior to the Year One thousand eight hundred and \\neight shall in any Manner affect the first and fourth Clauses \\nin the Ninth Section of the first Article; and that no State, \\nwithout its Consent, shall be deprived of its equal Suffrage \\nin the Senate'),\n",
       " Document(metadata={'producer': 'Adobe PDF Library 23.1.125', 'creator': 'Acrobat PDFMaker 23 for Word', 'creationdate': '2023-04-10T12:53:44-04:00', 'company': '', 'created': 'D:20030612', 'lastsaved': 'D:20230409', 'moddate': '2023-04-10T13:09:52-04:00', 'sourcemodified': 'D:20230410165309', 'title': 'constitution_pdf2', 'source': 'constitution.pdf', 'total_pages': 19, 'page': 9, 'page_label': '10'}, page_content='C O N S T I T U T I O N O F T H E U N I T E D S T A T E S  \\nArticle.  VI.  \\nAll Debts contracted and Engagements entered into, before \\nthe Adoption of this Constitution, shall be as valid against \\nthe United States under this Constitution, as under the \\nConfederation \\nThis Constitution, and the Laws of the United States \\nwhich shall be made in Pursuance thereof; and all Treaties \\nmade, or which shall be made, under the Authority of the \\nUnited States, shall be the supreme Law of the Land; and \\nthe Judges in every State shall be bound thereby, any Thing \\nin the Constitution or Laws of any State to the Contrary \\nnotwithstanding. \\nThe Senators and Representatives before mentioned, and \\nthe Members of the several State Legislatures, and all execu- \\ntive and judicial Officers, both of the United States and of \\nthe several States, shall be bound by Oath or Affirmation, \\nto support this Constitution; but no religious Test shall ever \\nbe required as a Qualification to any Office or public Trust \\nunder the United States \\nArticle.  VII.  \\nThe Ratification of the Conventions of nine States, shall \\nbe sufficient for the Establishment of this Constitution \\nbetween the States so ratifying the Same. \\nDone in Convention by the Unanimous Consent of the \\nStates present the Seventeenth Day of September in the \\nYear of our Lord one thousand seven hundred and Eighty \\nseven and of the Independence of the United States of \\nAmerica the Twelfth In Witness whereof We have hereunto \\nsubscribed our Names, \\nGo. Washington--Presidt: \\nand deputy from Virginia \\nNEW HAMPSHIRE \\nJohn Langdon \\nNicholas Gilman \\nMASSACHUSETTS \\nNathaniel Gorham \\nRufus King \\nCONNECTICUT \\nWm. Saml. Johnson \\nRoger Sherman \\nNEW YORK \\nAlexander Hamilton \\nNEW JERSEY \\nWil: Livingston \\nDavid Brearley \\nWm. Paterson \\nJona: Dayton \\nPENNSYLVANIA \\nB Franklin \\nThomas Mifflin \\nRobt Morris \\nGeo. Clymer \\nThos. FitzSimons \\nJared Ingersoll \\nJames Wilson \\nGouv Morris'),\n",
       " Document(metadata={'producer': 'Adobe PDF Library 23.1.125', 'creator': 'Acrobat PDFMaker 23 for Word', 'creationdate': '2023-04-10T12:53:44-04:00', 'company': '', 'created': 'D:20030612', 'lastsaved': 'D:20230409', 'moddate': '2023-04-10T13:09:52-04:00', 'sourcemodified': 'D:20230410165309', 'title': 'constitution_pdf2', 'source': 'constitution.pdf', 'total_pages': 19, 'page': 10, 'page_label': '11'}, page_content='C O N S T I T U T I O N O F T H E U N I T E D S T A T E S  \\nDELAWARE \\nGeo: Read \\nGunning Bedford jun \\nJohn Dickinson \\nRichard Bassett \\nJaco: Broom \\nMARYLAND \\nJames McHenry \\nDan of St. Thos. Jenifer \\nDanl Carroll \\nVIRGINIA \\nJohn Blair- \\nJames Madison Jr. \\nNORTH CAROLINA \\nWm. Blount \\nRichd. Dobbs Spaight \\nHu Williamson \\nSOUTH CAROLINA \\nJ. Rutledge \\nCharles Cotesworth Pinckney \\nCharles Pinckney  \\nPierce Butler \\nGEORGIA \\nWilliam Few \\nAbr Baldwin \\n \\nAttest William Jackson Secretary \\nIn Convention Monday \\nSeptember 17th, 1787. \\nPresent \\nThe States of \\nNew Hampshire, Massachusetts, Connecticut, Mr. Ham- \\nilton from New York, New Jersey, Pennsylvania, Delaware, \\nMaryland, Virginia, North Carolina, South Carolina and \\nGeorgia. \\nResolved, \\nThat the preceeding Constitution be laid before the United \\nStates in Congress assembled, and that it is the Opinion \\nof this Convention, that it should afterwards be submitted \\nto a Convention of Delegates, chosen in each State by the \\nPeople thereof, under the Recommendation of its Legisla- \\nture, for their Assent and Ratification; and that each Con- \\nvention assenting to, and ratifying the Same, should give \\nNotice thereof to the United States in Congress assembled. \\nResolved, That it is the Opinion of this Convention, that \\nas soon as the Conventions of nine States shall have ratified \\nthis Constitution, the United States in Congress assembled \\nshould fix a Day on which Electors should be appointed by \\nthe States which shall have ratified the same, and a Day on \\nwhich the Electors should assemble to vote for the Presi- \\ndent, and the Time and Place for commencing Proceedings \\nunder this Constitution \\nThat after such Publication the Electors should be ap- \\npointed, and the Senators and Representatives elected: That \\nthe Electors should meet on the Day fixed for the Election \\nof the President, and should transmit their Votes certified, \\nsigned, sealed and directed, as the Constitution requires, to \\nthe Secretary of the United States in Congress assembled, \\nthat the Senators and Representatives should convene at the \\nTime and Place assigned; that the Senators should appoint \\na President of the Senate, for the sole Purpose of receiving, \\nopening and counting the Votes for President; and, that \\nafter he shall be chosen, the Congress, together with the \\nPresident, should, without Delay, proceed to execute this \\nConstitution \\nBy the unanimous Order of the Convention \\nGo. Washington-Presidt: \\nW. JACKSON Secretary. \\n \\n* Language in brackets has been changed by amendment.'),\n",
       " Document(metadata={'producer': 'Adobe PDF Library 23.1.125', 'creator': 'Acrobat PDFMaker 23 for Word', 'creationdate': '2023-04-10T12:53:44-04:00', 'company': '', 'created': 'D:20030612', 'lastsaved': 'D:20230409', 'moddate': '2023-04-10T13:09:52-04:00', 'sourcemodified': 'D:20230410165309', 'title': 'constitution_pdf2', 'source': 'constitution.pdf', 'total_pages': 19, 'page': 11, 'page_label': '12'}, page_content='C O N S T I T U T I O N O F T H E U N I T E D S T A T E S  \\nTHE AMENDMENTS TO THE CONSTITUTION OF \\nTHE UNITED STATES AS RATIFIED BY THE STATES \\n \\n \\nPreamble to the \\nBill  of  Rights \\nCongress of the United States \\nbegun and held at the City of New-York, on \\nWednesday the fourth of March,  \\n \\n \\nTHE Conventions of a number of the States, having at \\nthe time of their adopting the Constitution, expressed \\na desire, in order to prevent misconstruction or abuse \\nof its powers, that further declaratory and restrictive \\nclauses should be added: And as extending the ground \\nof public confidence in the Government, will best \\nensure the beneficent ends of its institution \\n \\nRESOLVED by the Senate and House of \\nRepresentatives of the United States of America, \\nin Congress assembled, two thirds of both Houses \\nconcurring, that the following Articles be proposed to \\nthe Legislatures of the several States, as amendments \\nto the Constitution of the United States, all, or any of \\nwhich Articles, when ratified by three fourths of the said \\nLegislatures, to be valid to all intents and purposes, as \\npart of the said Constitution; viz. \\n \\nARTICLES in addition to, and Amendment of the \\nConstitution of the United States of America, proposed \\nby Congress, and ratified by the Legislatures of the \\nseveral States, pursuant to the fifth Article of the \\noriginal Constitution. \\n \\n(Note: The first 10 amendments  to the Constitution  were \\nratified December 15, 1791, and form what is known as \\nthe “Bill of Rights.”)  \\nAmendment  I. \\nCongress shall make no law respecting an establishment of \\nreligion, or prohibiting the free exercise thereof; or abridg- \\ning the freedom of speech, or of the press, or the right \\nof the people peaceably to assemble, and to petition the \\nGovernment for a redress of grievances. \\nAmendment  II. \\nA well regulated Militia, being necessary to the security of \\na free State, the right of the people to keep and bear Arms, \\nshall not be infringed.  \\nAmendment  III. \\nNo Soldier shall, in time of peace be quartered in any \\nhouse, without the consent of the Owner, nor in time of \\nwar, but in a manner to be prescribed by law. \\nAmendment  IV. \\nThe right of the people to be secure in their persons, hous- \\nes, papers, and effects, against unreasonable searches and \\nseizures, shall not be violated, and no Warrants shall issue, \\nbut upon probable cause, supported by Oath or affirma- \\ntion, and particularly describing the place to be searched, \\nand the persons or things to be seized. \\nAmendment  V. \\nNo person shall be held to answer for a capital, or otherwise \\ninfamous crime, unless on a presentment or indictment of \\na Grand Jury, except in cases arising in the land or naval \\nforces, or in the Militia, when in actual service in time of \\nWar or public danger; nor shall any person be subject for \\nthe same offence to be twice put in jeopardy of life or limb; \\nnor shall be compelled in any criminal case to be a witness \\nagainst himself, nor be deprived of life, liberty, or property, \\nwithout due process of law; nor shall private property be \\ntaken for public use, without just compensation.'),\n",
       " Document(metadata={'producer': 'Adobe PDF Library 23.1.125', 'creator': 'Acrobat PDFMaker 23 for Word', 'creationdate': '2023-04-10T12:53:44-04:00', 'company': '', 'created': 'D:20030612', 'lastsaved': 'D:20230409', 'moddate': '2023-04-10T13:09:52-04:00', 'sourcemodified': 'D:20230410165309', 'title': 'constitution_pdf2', 'source': 'constitution.pdf', 'total_pages': 19, 'page': 12, 'page_label': '13'}, page_content='C O N S T I T U T I O N O F T H E U N I T E D S T A T E S  \\nAmendment  VI. \\nIn all criminal prosecutions, the accused shall enjoy the \\nright to a speedy and public trial, by an impartial jury of \\nthe State and district wherein the crime shall have been \\ncommitted, which district shall have been previously \\nascertained by law, and to be informed of the nature and \\ncause of the accusation; to be confronted with the witnesses \\nagainst him; to have compulsory process for obtaining wit- \\nnesses in his favor, and to have the Assistance of Counsel \\nfor his defence. \\nAmendment  VII. \\nIn suits at common law, where the value in controversy \\nshall exceed twenty dollars, the right of trial by jury shall be \\npreserved, and no fact tried by a jury shall be otherwise re- \\nexamined in any Court of the United States, than according \\nto the rules of the common law. \\nAmendment  VIII. \\nExcessive bail shall not be required, nor excessive fines \\nimposed, nor cruel and unusual punishments inflicted. \\nAmendment  IX. \\nThe enumeration in the Constitution, of certain rights, \\nshall not be construed to deny or disparage others retained \\nby the people. \\nAmendment  X. \\nThe powers not delegated to the United States by the Con- \\nstitution, nor prohibited by it to the States, are reserved to \\nthe States respectively, or to the people. \\n \\nAMENDMENTS 11-27 \\n \\nAmendment  XI. \\nPassed by Congress March 4, 1794. Ratified February 7, 1795. \\n(Note: A portion of Article III, Section 2 of the Constitution was \\nmodified by the 11 th Amendment.) \\nThe Judicial power of the United States shall not be construed \\nto extend to any suit in law or equity, commenced or pros- \\necuted against one of the United States by Citizens of another \\nState, or by Citizens or Subjects of any Foreign State. \\nAmendment  XII. \\nPassed by Congress December 9, 1803. Ratified June 15, 1804. \\n(Note: A portion of Article II, Section 1 of the Constitution was \\nchanged by the 12th Amendment.)  \\nThe Electors shall meet in their respective states, and vote \\nby ballot for President and Vice-President, one of whom, \\nat least, shall not be an inhabitant of the same state with \\nthemselves; they shall name in their ballots the person voted \\nfor as President, and in distinct ballots the person voted \\nfor as Vice-President, and they shall make distinct lists of \\nall persons voted for as President, and of all persons voted \\nfor as Vice-President, and of the number of votes for each, \\nwhich lists they shall sign and certify, and transmit sealed \\nto the seat of the government of the United States, directed \\nto the President of the Senate;-the President of the Senate \\nshall, in the presence of the Senate and House of Represen- \\ntatives, open all the certificates and the votes shall then be \\ncounted;-The person having the greatest number of votes \\nfor President, shall be the President, if such number be a \\nmajority of the whole number of Electors appointed; and if \\nno person have such majority, then from the persons having \\nthe highest numbers not exceeding three on the list of those \\nvoted for as President, the House of Representatives shall \\nchoose immediately, by ballot, the President. But in choos- \\ning the President, the votes shall be taken by states, the \\nrepresentation from each state having one vote; a quorum \\nfor this purpose shall consist of a member or members from \\ntwo-thirds of the states, and a majority of all the states shall \\nbe necessary to a choice. [And if the House of Representa- \\ntives shall not choose a President whenever the right of \\nchoice shall devolve upon them, before the fourth day of \\nMarch next following, then the Vice-President shall act as \\nPresident, as in case of the death or other constitutional \\ndisability of the President.-]* The person having the greatest \\nnumber of votes as Vice-President, shall be the Vice-Presi- \\ndent, if such number be a majority of the whole number \\nof Electors appointed, and if no person have a majority, \\nthen from the two highest numbers on the list, the Senate \\nshall choose the Vice-President; a quorum for the purpose \\nshall consist of two-thirds of the whole number of Senators, \\nand a majority of the whole number shall be necessary to \\na choice. But no person constitutionally ineligible to the \\noffice of President shall be eligible to that of Vice-President \\nof the United States. \\n*Superseded by Section 3 of the 20th Amendment.'),\n",
       " Document(metadata={'producer': 'Adobe PDF Library 23.1.125', 'creator': 'Acrobat PDFMaker 23 for Word', 'creationdate': '2023-04-10T12:53:44-04:00', 'company': '', 'created': 'D:20030612', 'lastsaved': 'D:20230409', 'moddate': '2023-04-10T13:09:52-04:00', 'sourcemodified': 'D:20230410165309', 'title': 'constitution_pdf2', 'source': 'constitution.pdf', 'total_pages': 19, 'page': 13, 'page_label': '14'}, page_content='C O N S T I T U T I O N O F T H E U N I T E D S T A T E S  \\nAmendment  XIII. \\nPassed by Congress January 31, 1865. Ratified December 6, \\n1865. \\n(Note: A portion of Article IV, Section 2 of the Constitution \\nwas changed by the 13th Amendment.)  \\nSECTION 1 \\nNeither slavery nor involuntary servitude, except as a \\npunishment for crime whereof the party shall have been \\nduly convicted, shall exist within the United States, or any \\nplace subject to their jurisdiction.  \\nSECTION 2 \\nCongress shall have power to enforce this article by \\nappropriate legislation. \\nAmendment  XIV. \\nPassed by Congress June 13, 1866. Ratified July 9, 1868. \\n(Note: Article I, Section 2 of the Constitution  was modified by \\nSection 2 of the 14th Amendment.)  \\n \\nSECTION 1 \\nAll persons born or naturalized in the United States and \\nsubject to the jurisdiction thereof, are citizens of the United \\nStates and of the State wherein they reside. No State shall \\nmake or enforce any law which shall abridge the privileges \\nor immunities of citizens of the United States; nor shall \\nany State deprive any person of life, liberty, or property, \\nwithout due process of law; nor deny to any person within \\nits jurisdiction the equal protection of the laws.  \\nSECTION 2 \\nRepresentatives shall be apportioned among the several \\nStates according to their respective numbers, counting the \\nwhole number of persons in each State, excluding Indians \\nnot taxed. But when the right to vote at any election for \\nthe choice of electors for President and Vice President of \\nthe United States, Representatives in Congress, the Execu- \\ntive and Judicial officers of a State, or the members of the \\nLegislature thereof, is denied to any of the male inhabit- \\nants of such State, [being twenty-one years of age,]* and \\ncitizens of the United States, or in any way abridged, except \\nfor participation in rebellion, or other crime, the basis of \\nrepresentation therein shall be reduced in the proportion \\nwhich the number of such male citizens shall bear to the \\nwhole number of male citizens twenty-one years of age in \\nsuch State. \\nSECTION 3 \\nNo person shall be a Senator or Representative in Con- \\ngress, or elector of President and Vice President, or hold \\nany office, civil or military, under the United States, or \\nunder any State, who, having previously taken an oath, as a \\nmember of Congress, or as an officer of the United States, \\nor as a member of any State legislature, or as an executive \\nor judicial officer of any State, to support the Constitution \\nof the United States, shall have engaged in insurrection or \\nrebellion against the same, or given aid or comfort to the \\nenemies thereof. But Congress may by a vote of two-thirds \\nof each House, remove such disability. \\nSECTION 4 \\nThe validity of the public debt of the United States, au- \\nthorized by law, including debts incurred for payment of \\npensions and bounties for services in suppressing insurrec- \\ntion or rebellion, shall not be questioned. But neither the \\nUnited States nor any State shall assume or pay any debt \\nor obligation incurred in aid of insurrection or rebellion \\nagainst the United States, or any claim for the loss or eman- \\ncipation of any slave; but all such debts, obligations and \\nclaims shall be held illegal and void. \\nSECTION 5 \\n \\nThe Congress shall have the power to enforce, by appropri- \\nate legislation, the provisions of this article.  \\n*Changed by Section 1 of the 26th Amendment.'),\n",
       " Document(metadata={'producer': 'Adobe PDF Library 23.1.125', 'creator': 'Acrobat PDFMaker 23 for Word', 'creationdate': '2023-04-10T12:53:44-04:00', 'company': '', 'created': 'D:20030612', 'lastsaved': 'D:20230409', 'moddate': '2023-04-10T13:09:52-04:00', 'sourcemodified': 'D:20230410165309', 'title': 'constitution_pdf2', 'source': 'constitution.pdf', 'total_pages': 19, 'page': 14, 'page_label': '15'}, page_content='C O N S T I T U T I O N O F T H E U N I T E D S T A T E S  \\nAmendment  XV. \\nPassed by Congress February 26, 1869. Ratified February 3, 1870. \\n \\nSECTION 1 \\nThe right of citizens of the United States to vote shall not be \\ndenied or abridged by the United States or by any State on \\naccount of race, color, or previous condition of servitude. \\nSECTION 2 \\nThe Congress shall have the power to enforce this article by \\nappropriate legislation. \\nAmendment  XVI. \\nPassed by Congress July 2, 1909. Ratified February 3, 1913. \\n(Note: Article I, Section 9 of the Constitution  was modified by \\nthe 16 h Amendment.)  \\nThe Congress shall have power to lay and collect taxes on \\nincomes, from whatever source derived, without apportion- \\nment among the several States, and without regard to any \\ncensus or enumeration. \\nAmendment  XVII. \\nPassed by Congress May 13, 1912. Ratified April 8, 1913. \\n(Note: Article I, Section 3 of the Constitution  was modified by \\nthe 17th Amendment.)  \\nThe Senate of the United States shall be composed of two \\nSenators from each State, elected by the people thereof, for \\nsix years; and each Senator shall have one vote. The electors \\nin each State shall have the qualifications requisite for elec- \\ntors of the most numerous branch of the State legislatures. \\nWhen vacancies happen in the representation of any State \\nin the Senate, the executive authority of such State shall \\nissue writs of election to fill such vacancies: Provided, That \\nthe legislature of any State may empower the executive \\nthereof to make temporary appointments until the people \\nfill the vacancies by election as the legislature may direct. \\nThis amendment shall not be so construed as to affect the \\nelection or term of any Senator chosen before it becomes \\nvalid as part of the Constitution.  \\nAmendment  XVIII. \\nPassed by Congress December 18, 1917. Ratified January 16, \\n1919. Repealed by the 21 Amendment, December 5, 1933. \\n \\nSECTION 1 \\nAfter one year from the ratification of this article the \\nmanufacture, sale, or transportation of intoxicating liquors \\nwithin, the importation thereof into, or the exportation \\nthereof from the United States and all territory subject to \\nthe jurisdiction thereof for beverage purposes is hereby \\nprohibited. \\nSECTION 2 \\nThe Congress and the several States shall have concurrent \\npower to enforce this article by appropriate legislation. \\nSECTION 3 \\nThis article shall be inoperative unless it shall have been \\nratified as an amendment to the Constitution by the legisla- \\ntures of the several States, as provided in the Constitution, \\nwithin seven years from the date of the submission hereof \\nto the States by the Congress. \\nAmendment  XIX. \\nPassed by Congress June 4, 1919. Ratified August 18, 1920. \\nThe right of citizens of the United States to vote shall not \\nbe denied or abridged by the United States or by any State \\non account of sex. \\nCongress shall have power to enforce this article by appro- \\npriate legislation.'),\n",
       " Document(metadata={'producer': 'Adobe PDF Library 23.1.125', 'creator': 'Acrobat PDFMaker 23 for Word', 'creationdate': '2023-04-10T12:53:44-04:00', 'company': '', 'created': 'D:20030612', 'lastsaved': 'D:20230409', 'moddate': '2023-04-10T13:09:52-04:00', 'sourcemodified': 'D:20230410165309', 'title': 'constitution_pdf2', 'source': 'constitution.pdf', 'total_pages': 19, 'page': 15, 'page_label': '16'}, page_content='C O N S T I T U T I O N O F T H E U N I T E D S T A T E S  \\nAmendment  XX. \\nPassed by Congress March 2, 1932. Ratified January 23, 1933. \\n(Note: Article I, Section 4 of the Constitution was modified \\nby Section 2 of this Amendment.  In addition, a portion of the \\n12th Amendment was superseded by Section 3.)  \\nSECTION 1 \\nThe terms of the President and the Vice President shall end \\nat noon on the 20th day of January, and the terms of Sena- \\ntors and Representatives at noon on the 3d day of January, \\nof the years in which such terms would have ended if this \\narticle had not been ratified; and the terms of their succes- \\nsors shall then begin. \\nSECTION 2 \\nThe Congress shall assemble at least once in every year, and \\nsuch meeting shall begin at noon on the 3d day of January, \\nunless they shall by law appoint a different day. \\nSECTION 3 \\nIf, at the time fixed for the beginning of the term of the \\nPresident, the President elect shall have died, the Vice Presi- \\ndent elect shall become President. If a President shall not \\nhave been chosen before the time fixed for the beginning of \\nhis term, or if the President elect shall have failed to qualify, \\nthen the Vice President elect shall act as President until a \\nPresident shall have qualified; and the Congress may by law \\nprovide for the case wherein neither a President elect nor a \\nVice President shall have qualified, declaring who shall then \\nact as President, or the manner in which one who is to act \\nshall be selected, and such person shall act accordingly until \\na President or Vice President shall have qualified. \\nSECTION 4 \\nThe Congress may by law provide for the case of the death \\nof any of the persons from whom the House of Representa- \\ntives may choose a President whenever the right of choice \\nshall have devolved upon them, and for the case of the \\ndeath of any of the persons from whom the Senate may \\nchoose a Vice President whenever the right of choice shall \\nhave devolved upon them. \\nSECTION 5 \\nSections 1 and 2 shall take effect on the 15th day of Octo- \\nber following the ratification of this article.  \\nSECTION 6 \\nThis article shall be inoperative unless it shall have been \\nratified as an amendment to the Constitution by the leg- \\nislatures of three-fourths of the several States within seven \\nyears from the date of its submission. \\nAmendment  XXI. \\nPassed by Congress February 20, 1933. Ratified December 5, \\n933. \\n \\nSECTION 1 \\nThe eighteenth article of amendment to the Constitution \\nof the United States is hereby repealed.  \\nSECTION 2 \\nThe transportation or importation into any State, Territory, \\nor possession of the United States for delivery or use therein \\nof intoxicating liquors, in violation of the laws thereof, is \\nhereby prohibited. \\nSECTION 3 \\nThis article shall be inoperative unless it shall have been \\nratified as an amendment to the Constitution by conven- \\ntions in the several States, as provided in the Constitution, \\nwithin seven years from the date of the submission hereof \\nto the States by the Congress.'),\n",
       " Document(metadata={'producer': 'Adobe PDF Library 23.1.125', 'creator': 'Acrobat PDFMaker 23 for Word', 'creationdate': '2023-04-10T12:53:44-04:00', 'company': '', 'created': 'D:20030612', 'lastsaved': 'D:20230409', 'moddate': '2023-04-10T13:09:52-04:00', 'sourcemodified': 'D:20230410165309', 'title': 'constitution_pdf2', 'source': 'constitution.pdf', 'total_pages': 19, 'page': 16, 'page_label': '17'}, page_content='C O N S T I T U T I O N O F T H E U N I T E D S T A T E S  \\nAmendment  XXII. \\nPassed by Congress March 21, 1947. Ratified February 27, \\n951. \\n \\nSECTION 1 \\nNo person shall be elected to the office of the President \\nmore than twice, and no person who has held the office of \\nPresident, or acted as President, for more than two years of \\na term to which some other person was elected President \\nshall be elected to the office of President more than once. \\nBut this Article shall not apply to any person holding the \\noffice of President when this Article was proposed by Con- \\ngress, and shall not prevent any person who may be holding \\nthe office of President, or acting as President, during the \\nterm within which this Article becomes operative from \\nholding the office of President or acting as President during \\nthe remainder of such term. \\nSECTION 2 \\nThis article shall be inoperative unless it shall have been \\nratified as an amendment to the Constitution by the leg- \\nislatures of three-fourths of the several States within seven \\nyears from the date of its submission to the States by the \\nCongress. \\nAmendment  XXIII. \\nPassed by Congress June 16, 1960. Ratified March 29, 1961. \\n \\nSECTION 1 \\nThe District constituting the seat of Government of the \\nUnited States shall appoint in such manner as Congress \\nmay direct: \\nA number of electors of President and Vice President equal \\nto the whole number of Senators and Representatives \\nin Congress to which the District would be entitled if it \\nwere a State, but in no event more than the least populous \\nState; they shall be in addition to those appointed by the \\nStates, but they shall be considered, for the purposes of \\nthe election of President and Vice President, to be electors \\nappointed by a State; and they shall meet in the District \\nand perform such duties as provided by the twelfth article \\nof amendment. \\nSECTION 2 \\nThe Congress shall have power to enforce this article by \\nappropriate legislation. \\nAmendment  XXIV. \\nPassed by Congress August 27, 1962. Ratified January 23, 1964. \\n \\nSECTION 1 \\nThe right of citizens of the United States to vote in any pri- \\nmary or other election for President or Vice President, for \\nelectors for President or Vice President, or for Senator or \\nRepresentative in Congress, shall not be denied or abridged \\nby the United States or any State by reason of failure to pay \\npoll tax or other tax. \\nSECTION 2 \\nThe Congress shall have power to enforce this article by \\nappropriate legislation.'),\n",
       " Document(metadata={'producer': 'Adobe PDF Library 23.1.125', 'creator': 'Acrobat PDFMaker 23 for Word', 'creationdate': '2023-04-10T12:53:44-04:00', 'company': '', 'created': 'D:20030612', 'lastsaved': 'D:20230409', 'moddate': '2023-04-10T13:09:52-04:00', 'sourcemodified': 'D:20230410165309', 'title': 'constitution_pdf2', 'source': 'constitution.pdf', 'total_pages': 19, 'page': 17, 'page_label': '18'}, page_content='7 C O N S T I T U T I O N O F T H E U N I T E D S T A T E S  \\nAmendment  XXV. \\nPassed by Congress July 6, 1965. Ratified February 10, 1967. \\n(Note: Article II, Section 1 of the Constitution was modified by \\nthe 25th Amendment.)  \\nSECTION 1 \\nIn case of the removal of the President from office or of \\nhis death or resignation, the Vice President shall become \\nPresident. \\nSECTION 2 \\nWhenever there is a vacancy in the office of the Vice Presi- \\ndent, the President shall nominate a Vice President who \\nshall take office upon confirmation by a majority vote of \\nboth Houses of Congress. \\nSECTION 3 \\nWhenever the President transmits to the President pro \\ntempore of the Senate and the Speaker of the House of \\nRepresentatives his written declaration that he is unable \\nto discharge the powers and duties of his office, and until \\nhe transmits to them a written declaration to the contrary, \\nsuch powers and duties shall be discharged by the Vice \\nPresident as Acting President. \\nSECTION 4 \\nWhenever the Vice President and a majority of either the \\nprincipal officers of the executive departments or of such \\nother body as Congress may by law provide, transmit to the \\nPresident pro tempore of the Senate and the Speaker of the \\nHouse of Representatives their written declaration that the \\nPresident is unable to discharge the powers and duties of \\nhis office, the Vice President shall immediately assume the \\npowers and duties of the office as Acting President. \\nThereafter, when the President transmits to the President \\npro tempore of the Senate and the Speaker of the House of \\nRepresentatives his written declaration that no inability ex- \\nists, he shall resume the powers and duties of his office un- \\nless the Vice President and a majority of either the principal \\nofficers of the executive department or of such other body \\nas Congress may by law provide, transmit within four days \\nto the President pro tempore of the Senate and the Speaker \\nof the House of Representatives their written declaration \\nthat the President is unable to discharge the powers and \\nduties of his office. Thereupon Congress shall decide the \\nissue, assembling within forty-eight hours for that purpose \\nif not in session. If the Congress, within twenty-one days \\nafter receipt of the latter written declaration, or, if Congress \\nis not in session, within twenty-one days after Congress is \\nrequired to assemble, determines by two-thirds vote of both \\nHouses that the President is unable to discharge the powers \\nand duties of his office, the Vice President shall continue to \\ndischarge the same as Acting President; otherwise, the Presi- \\ndent shall resume the powers and duties of his office. \\nAmendment  XXVI. \\nPassed by Congress March 23, 1971. Ratified July 1, 1971. \\n(Note: Amendment  14, Section 2 of the Constitution  was \\nmodified by Section 1 of the 26th Amendment.)  \\nSECTION 1 \\nThe right of citizens of the United States, who are eighteen \\nyears of age or older, to vote shall not be denied or abridged \\nby the United States or by any State on account of age. \\nSECTION 2 \\nThe Congress shall have power to enforce this article by \\nappropriate legislation. \\nAmendment  XXVII. \\nOriginally proposed Sept. 25, 1789. Ratified May 7, 1992. \\nNo law, varying the compensation for the services of the \\nSenators and Representatives, shall take effect, until an elec- \\ntion of representatives shall have intervened.'),\n",
       " Document(metadata={'producer': 'Adobe PDF Library 23.1.125', 'creator': 'Acrobat PDFMaker 23 for Word', 'creationdate': '2023-04-10T12:53:44-04:00', 'company': '', 'created': 'D:20030612', 'lastsaved': 'D:20230409', 'moddate': '2023-04-10T13:09:52-04:00', 'sourcemodified': 'D:20230410165309', 'title': 'constitution_pdf2', 'source': 'constitution.pdf', 'total_pages': 19, 'page': 18, 'page_label': '19'}, page_content='T \\n \\n \\n \\n \\n \\n \\n \\n \\n \\n \\n \\n \\n \\n \\n \\n \\n \\n \\n \\n \\n \\n \\n \\n \\n \\n \\n \\n \\n \\n \\n \\n \\nhe NCC is an independent, \\nnon-partisan, nonprofit \\norganization that was established \\nin 1988 under the Constitution Heritage \\nAct. The Center’s mission is to increase \\nawareness and understanding of the \\nConstitution, the Constitution’s history \\nand its relevance to people’s daily lives. \\n \\n \\n \\n \\n \\n \\nNational Constitution Center \\n525 Arch Street \\nIndependence Mall \\nPhiladelphia, PA 19106 \\n \\n(215) 409-6600 \\nwww.constitutioncenter.org')]"
      ]
     },
     "execution_count": 4,
     "metadata": {},
     "output_type": "execute_result"
    }
   ],
   "source": [
    "data"
   ]
  },
  {
   "cell_type": "code",
   "execution_count": 5,
   "metadata": {
    "colab": {
     "base_uri": "https://localhost:8080/"
    },
    "executionInfo": {
     "elapsed": 902,
     "status": "ok",
     "timestamp": 1739374586262,
     "user": {
      "displayName": "Iyed Zarrougui",
      "userId": "02176473464439355215"
     },
     "user_tz": -60
    },
    "id": "cJQwg1DCLQoU",
    "outputId": "07a47dac-f73b-4c92-d97a-fdc7a9732b46"
   },
   "outputs": [
    {
     "data": {
      "text/plain": [
       "19"
      ]
     },
     "execution_count": 5,
     "metadata": {},
     "output_type": "execute_result"
    }
   ],
   "source": [
    "len(data)"
   ]
  },
  {
   "cell_type": "code",
   "execution_count": 6,
   "metadata": {
    "colab": {
     "base_uri": "https://localhost:8080/"
    },
    "collapsed": true,
    "executionInfo": {
     "elapsed": 600,
     "status": "ok",
     "timestamp": 1739374843857,
     "user": {
      "displayName": "Iyed Zarrougui",
      "userId": "02176473464439355215"
     },
     "user_tz": -60
    },
    "id": "S4G68-AQLXBD",
    "outputId": "7538a65b-af52-4916-ea4d-4bf9175a79e7"
   },
   "outputs": [
    {
     "data": {
      "text/plain": [
       "[Document(metadata={'producer': 'Adobe PDF Library 23.1.125', 'creator': 'Acrobat PDFMaker 23 for Word', 'creationdate': '2023-04-10T12:53:44-04:00', 'company': '', 'created': 'D:20030612', 'lastsaved': 'D:20230409', 'moddate': '2023-04-10T13:09:52-04:00', 'sourcemodified': 'D:20230410165309', 'title': 'constitution_pdf2', 'source': 'constitution.pdf', 'total_pages': 19, 'page': 0, 'page_label': '1'}, page_content='NATIONAL CONSTITUTION CENTER \\n \\n \\n \\n \\n \\n \\n \\n \\n \\n \\n \\nTHE \\nCONSTITUTION  \\nof the United States'),\n",
       " Document(metadata={'producer': 'Adobe PDF Library 23.1.125', 'creator': 'Acrobat PDFMaker 23 for Word', 'creationdate': '2023-04-10T12:53:44-04:00', 'company': '', 'created': 'D:20030612', 'lastsaved': 'D:20230409', 'moddate': '2023-04-10T13:09:52-04:00', 'sourcemodified': 'D:20230410165309', 'title': 'constitution_pdf2', 'source': 'constitution.pdf', 'total_pages': 19, 'page': 1, 'page_label': '2'}, page_content='C O N S T I T U T I O N O F T H E U N I T E D S T A T E S  \\n \\n \\n \\n \\nWe the People of the United States, in Order to form a \\nmore perfect Union, establish Justice, insure domestic \\nTranquility, provide for the common defence, promote \\nthe general Welfare, and secure the Blessings of Liberty to \\nourselves and our Posterity, do ordain and establish this \\nConstitution for the United States of America  \\n \\n \\nArticle.  I. \\nSECTION. 1 \\nAll legislative Powers herein granted shall be vested in a \\nCongress of the United States, which shall consist of a Sen- \\nate and House of Representatives. \\nSECTION. 2 \\nThe House of Representatives shall be composed of Mem- \\nbers chosen every second Year by the People of the several \\nStates, and the Electors in each State shall have the Qualifi- \\ncations requisite for Electors of the most numerous Branch \\nof the State Legislature. \\nNo Person shall be a Representative who shall not have \\nattained to the Age of twenty five Years, and been seven'),\n",
       " Document(metadata={'producer': 'Adobe PDF Library 23.1.125', 'creator': 'Acrobat PDFMaker 23 for Word', 'creationdate': '2023-04-10T12:53:44-04:00', 'company': '', 'created': 'D:20030612', 'lastsaved': 'D:20230409', 'moddate': '2023-04-10T13:09:52-04:00', 'sourcemodified': 'D:20230410165309', 'title': 'constitution_pdf2', 'source': 'constitution.pdf', 'total_pages': 19, 'page': 1, 'page_label': '2'}, page_content='Years a Citizen of the United States, and who shall not, \\nwhen elected, be an Inhabitant of that State in which he \\nshall be chosen. \\n[Representatives and direct Taxes shall be apportioned \\namong the several States which may be included within \\nthis Union, according to their respective Numbers, which \\nshall be determined by adding to the whole Number of \\nfree Persons, including those bound to Service for a Term \\nof Years, and excluding Indians not taxed, three fifths of \\nall other Persons.]* The actual Enumeration shall be made \\nwithin three Years after the first Meeting of the Congress \\nof the United States, and within every subsequent Term of \\nten Years, in such Manner as they shall by Law direct. The \\nNumber of Representatives shall not exceed one for every \\nthirty Thousand, but each State shall have at Least one \\nRepresentative; and until such enumeration shall be made, \\nthe State of New Hampshire shall be entitled to chuse \\nthree, Massachusetts eight, Rhode-Island and Providence'),\n",
       " Document(metadata={'producer': 'Adobe PDF Library 23.1.125', 'creator': 'Acrobat PDFMaker 23 for Word', 'creationdate': '2023-04-10T12:53:44-04:00', 'company': '', 'created': 'D:20030612', 'lastsaved': 'D:20230409', 'moddate': '2023-04-10T13:09:52-04:00', 'sourcemodified': 'D:20230410165309', 'title': 'constitution_pdf2', 'source': 'constitution.pdf', 'total_pages': 19, 'page': 1, 'page_label': '2'}, page_content='Plantations one, Connecticut five, New-York six, New \\nJersey four, Pennsylvania eight, Delaware one, Maryland \\nsix, Virginia ten, North Carolina five, South Carolina five, \\nand Georgia three. \\nWhen vacancies happen in the Representation from any \\nState, the Executive Authority thereof shall issue Writs of \\nElection to fill such Vacancies. \\nThe House of Representatives shall chuse their \\nSpeaker and other Officers; and shall have the sole \\nPower of Impeachment. \\nSECTION. 3 \\nThe Senate of the United States shall be composed of two \\nSenators from each State, [chosen by the Legislature there- \\nof,]* for six Years; and each Senator shall have one Vote. \\nImmediately after they shall be assembled in Consequence \\nof the first Election, they shall be divided as equally as may \\nbe into three Classes. The Seats of the Senators of the first \\nClass shall be vacated at the Expiration of the second Year, \\nof the second Class at the Expiration of the fourth Year, and'),\n",
       " Document(metadata={'producer': 'Adobe PDF Library 23.1.125', 'creator': 'Acrobat PDFMaker 23 for Word', 'creationdate': '2023-04-10T12:53:44-04:00', 'company': '', 'created': 'D:20030612', 'lastsaved': 'D:20230409', 'moddate': '2023-04-10T13:09:52-04:00', 'sourcemodified': 'D:20230410165309', 'title': 'constitution_pdf2', 'source': 'constitution.pdf', 'total_pages': 19, 'page': 1, 'page_label': '2'}, page_content='of the third Class at the Expiration of the sixth Year, so that \\none third may be chosen every second Year; [and if Vacan- \\ncies happen by Resignation, or otherwise, during the Recess \\nof the Legislature of any State, the Executive thereof may \\nmake temporary Appointments until the next Meeting of \\nthe Legislature, which shall then fill such Vacancies.]*'),\n",
       " Document(metadata={'producer': 'Adobe PDF Library 23.1.125', 'creator': 'Acrobat PDFMaker 23 for Word', 'creationdate': '2023-04-10T12:53:44-04:00', 'company': '', 'created': 'D:20030612', 'lastsaved': 'D:20230409', 'moddate': '2023-04-10T13:09:52-04:00', 'sourcemodified': 'D:20230410165309', 'title': 'constitution_pdf2', 'source': 'constitution.pdf', 'total_pages': 19, 'page': 2, 'page_label': '3'}, page_content='C O N S T I T U T I O N O F T H E U N I T E D S T A T E S  \\nNo Person shall be a Senator who shall not have attained \\nto the Age of thirty Years, and been nine Years a Citizen of \\nthe United States, and who shall not, when elected, be an \\nInhabitant of that State for which he shall be chosen \\nThe Vice President of the United States shall be \\nPresident of the Senate, but shall have no Vote, unless \\nthey be equally divided. \\nThe Senate shall chuse their other Officers, and also a \\nPresident pro tempore, in the Absence of the  Vice \\nPresident, or when he shall exercise the Office of \\nPresident of the United States  \\nThe Senate shall have the sole Power to try all Impeach- \\nments. When sitting for that Purpose, they shall be on \\nOath or Affirmation. When the President of the United \\nStates is tried, the Chief Justice shall preside: And no \\nPerson shall be convicted without the Concurrence of two \\nthirds of the Members present. \\nJudgment in Cases of Imp eachment shall not extend'),\n",
       " Document(metadata={'producer': 'Adobe PDF Library 23.1.125', 'creator': 'Acrobat PDFMaker 23 for Word', 'creationdate': '2023-04-10T12:53:44-04:00', 'company': '', 'created': 'D:20030612', 'lastsaved': 'D:20230409', 'moddate': '2023-04-10T13:09:52-04:00', 'sourcemodified': 'D:20230410165309', 'title': 'constitution_pdf2', 'source': 'constitution.pdf', 'total_pages': 19, 'page': 2, 'page_label': '3'}, page_content='further than to removal from Office, and disqualification to \\nhold and enjoy any Office of honor, Trust or Profit under \\nthe United States: but the Party convicted shall nevertheless \\nbe liable and subject to Indictment,  Trial, Judgment and \\nPunishment, according to Law.  \\nSECTION. 4 \\nThe Times, Places and Manner of holding Elections for \\nSenators and Representatives, shall be prescribed in each \\nState by the Legislature thereof; but the Congress may at \\nany time by Law make or alter such Regulations, except as \\nto the Places of chusing Senators. \\nThe Congress shall assemble at least once in every Year, and \\nsuch Meeting shall be [on the first Monday in December,]* \\nunless they shall by Law appoint a different Day. \\nSECTION. 5. \\nEach House shall be the Judge of the Elections, Returns \\nand Qualifications of its own Members, and a Majority  \\nof each shall constitute a Quorum to do Business; but a \\nsmaller Number may adjourn from day to day, and may be'),\n",
       " Document(metadata={'producer': 'Adobe PDF Library 23.1.125', 'creator': 'Acrobat PDFMaker 23 for Word', 'creationdate': '2023-04-10T12:53:44-04:00', 'company': '', 'created': 'D:20030612', 'lastsaved': 'D:20230409', 'moddate': '2023-04-10T13:09:52-04:00', 'sourcemodified': 'D:20230410165309', 'title': 'constitution_pdf2', 'source': 'constitution.pdf', 'total_pages': 19, 'page': 2, 'page_label': '3'}, page_content='authorized to compel the Attendance of absent Members, \\nin such Manner, and under such Penalties as each House \\nmay provide. \\nEach House may determine the Rules of its Proceedings, \\npunish its Members for disorderly Behaviour, and, with the \\nConcurrence of two thirds, expel a Member. \\nEach House shall keep a Journal of its Proceedings, and \\nfrom time to time publish the same, excepting such Parts \\nas may in their Judgment require Secrecy; and the Yeas \\nand Nays of the Members of either House on any question \\nshall, at the Desire of one fifth of those Present, be entered \\non the Journal. \\nNeither House, during the Session of Congress, shall, with- \\nout the Consent of the other, adjourn for more than three \\ndays, nor to any other Place than that in which the two \\nHouses shall be sitting. \\nSECTION. 6 \\nThe Senators and Representatives shall receive a Compen- \\nsation for their Services, to be ascertained by Law, and paid \\nout of the Treasury of the United States. They shall in all'),\n",
       " Document(metadata={'producer': 'Adobe PDF Library 23.1.125', 'creator': 'Acrobat PDFMaker 23 for Word', 'creationdate': '2023-04-10T12:53:44-04:00', 'company': '', 'created': 'D:20030612', 'lastsaved': 'D:20230409', 'moddate': '2023-04-10T13:09:52-04:00', 'sourcemodified': 'D:20230410165309', 'title': 'constitution_pdf2', 'source': 'constitution.pdf', 'total_pages': 19, 'page': 2, 'page_label': '3'}, page_content='Cases, except Treason, Felony and Breach of the Peace, be \\nprivileged from Arrest during their Attendance at the Ses- \\nsion of their respective Houses, and in going to and return- \\ning from the same; and for any Speech or Debate in either \\nHouse, they shall not be questioned in any other Place. \\nNo Senator or Representative shall, during the Time for \\nwhich he was elected, be appointed to any civil Office \\nunder the Authority of the United States, which shall have \\nbeen created, or the Emoluments whereof shall have been \\nencreased during such time; and no Person holding any \\nOffice under the United States, shall be a Member of either \\nHouse during his Continuance in Office.'),\n",
       " Document(metadata={'producer': 'Adobe PDF Library 23.1.125', 'creator': 'Acrobat PDFMaker 23 for Word', 'creationdate': '2023-04-10T12:53:44-04:00', 'company': '', 'created': 'D:20030612', 'lastsaved': 'D:20230409', 'moddate': '2023-04-10T13:09:52-04:00', 'sourcemodified': 'D:20230410165309', 'title': 'constitution_pdf2', 'source': 'constitution.pdf', 'total_pages': 19, 'page': 3, 'page_label': '4'}, page_content='C O N S T I T U T I O N O F T H E U N I T E D S T A T E S  \\nSECTION. 7 \\nAll Bills for raising Revenue shall originate in the House of \\nRepresentatives; but the Senate may propose or concur with \\nAmendments as on other Bills \\nEvery Bill which shall have passed the House of Represen- \\ntatives and the Senate, shall, before it become a Law, be \\npresented to the President of the United States; If he ap- \\nprove he shall sign it, but if not he shall return it, with his \\nObjections to that House in which it shall have originated, \\nwho shall enter the Objections at large on their Journal, \\nand proceed to reconsider it. If after such Reconsideration \\ntwo thirds of that House shall agree to pass the Bill, it shall \\nbe sent, together with the Objections, to the other House, \\nby which it shall likewise be reconsidered, and if approved \\nby two thirds of that House, it shall become a Law. But in \\nall such Cases the Votes of both Houses shall be determined'),\n",
       " Document(metadata={'producer': 'Adobe PDF Library 23.1.125', 'creator': 'Acrobat PDFMaker 23 for Word', 'creationdate': '2023-04-10T12:53:44-04:00', 'company': '', 'created': 'D:20030612', 'lastsaved': 'D:20230409', 'moddate': '2023-04-10T13:09:52-04:00', 'sourcemodified': 'D:20230410165309', 'title': 'constitution_pdf2', 'source': 'constitution.pdf', 'total_pages': 19, 'page': 3, 'page_label': '4'}, page_content='by Yeas and Nays, and the Names of the Persons voting for \\nand against the Bill shall be entered on the Journal of each \\nHouse respectively, If any Bill shall not be returned by the \\nPresident within ten Days (Sundays excepted) after it shall \\nhave been presented to him, the Same shall be a Law, in \\nlike Manner as if he had signed it, unless the Congress by \\ntheir Adjournment prevent its Return, in which Case it shall \\nnot be a Law \\nEvery Order, Resolution, or Vote to which the Concur- \\nrence of the Senate and House of Representatives may be \\nnecessary (except on a question of Adjournment) shall be \\npresented to the President of the United States; and before \\nthe Same shall take Effect, shall be approved by him, or be- \\ning disapproved by him, shall be repassed by two thirds of \\nthe Senate and House of Representatives, according to the \\nRules and Limitations prescribed in the Case of a Bill. \\nSECTION. 8 \\nThe Congress shall have Power To lay and collect Taxes,'),\n",
       " Document(metadata={'producer': 'Adobe PDF Library 23.1.125', 'creator': 'Acrobat PDFMaker 23 for Word', 'creationdate': '2023-04-10T12:53:44-04:00', 'company': '', 'created': 'D:20030612', 'lastsaved': 'D:20230409', 'moddate': '2023-04-10T13:09:52-04:00', 'sourcemodified': 'D:20230410165309', 'title': 'constitution_pdf2', 'source': 'constitution.pdf', 'total_pages': 19, 'page': 3, 'page_label': '4'}, page_content='Duties, Imposts and Excises, to pay the Debts and provide \\nfor the common Defence and general Welfare of the United \\nStates; but all Duties, Imposts and Excises shall be uniform \\nthroughout the United States;  \\nTo borrow Money on the credit of the United States; \\nTo regulate Commerce with foreign Nations, and among \\nthe several States, and with the Indian  Tribes; \\nTo establish an uniform Rule of Naturalization, and uni- \\nform Laws on the subject of Bankruptcies throughout the \\nUnited States; \\nTo coin Money, regulate the Value thereof, and of foreign \\nCoin, and fix the Standard of Weights and Measures; \\nTo provide for the Punishment of counterfeiting the Securi- \\nties and current Coin of the United States; \\nTo establish Post Offices and post Roads; \\nTo promote the Progress of Science and useful Arts, by \\nsecuring for limited Times to Authors and Inventors the \\nexclusive Right to their respective Writings and Discoveries; \\nTo constitute Tribunals inferior to the supreme Court;'),\n",
       " Document(metadata={'producer': 'Adobe PDF Library 23.1.125', 'creator': 'Acrobat PDFMaker 23 for Word', 'creationdate': '2023-04-10T12:53:44-04:00', 'company': '', 'created': 'D:20030612', 'lastsaved': 'D:20230409', 'moddate': '2023-04-10T13:09:52-04:00', 'sourcemodified': 'D:20230410165309', 'title': 'constitution_pdf2', 'source': 'constitution.pdf', 'total_pages': 19, 'page': 3, 'page_label': '4'}, page_content='To define and punish Piracies and Felonies committed on \\nthe high Seas, and Offenses against the Law of Nations; \\nTo declare War, grant Letters of Marque and Reprisal, and \\nmake Rules concerning Captures on Land and Water; \\nTo raise and support Armies, but no Appropriation of \\nMoney to that Use shall be for a longer Term than two \\nYears; \\nTo provide and maintain a Navy; \\nTo make Rules for the Government and Regulation of the \\nland and naval Forces; \\nTo provide for calling forth the Militia to execute the Laws \\nof the Union, suppress Insurrections and repel Invasions; \\nTo provide for organizing, arming, and disciplining, the \\nMilitia, and for governing such Part of them as may be \\nemployed in the Service of the United States, reserving to \\nthe States respectively, the Appointment of the Officers, \\nand the Authority of training the Militia according to the \\ndiscipline prescribed by Congress;'),\n",
       " Document(metadata={'producer': 'Adobe PDF Library 23.1.125', 'creator': 'Acrobat PDFMaker 23 for Word', 'creationdate': '2023-04-10T12:53:44-04:00', 'company': '', 'created': 'D:20030612', 'lastsaved': 'D:20230409', 'moddate': '2023-04-10T13:09:52-04:00', 'sourcemodified': 'D:20230410165309', 'title': 'constitution_pdf2', 'source': 'constitution.pdf', 'total_pages': 19, 'page': 4, 'page_label': '5'}, page_content='C O N S T I T U T I O N O F T H E U N I T E D S T A T E S  \\nTo exercise exclusive Legislation in all Cases whatsoever, \\nover such District (not exceeding ten Miles square) as \\nmay, by Cession of particular States, and the Acceptance \\nof Congress, become the Seat of the Government of the \\nUnited States, and to exercise like Authority over all Places \\npurchased by the Consent of the Legislature of the State in \\nwhich the Same shall be, for the Erection of Forts, Maga- \\nzines, Arsenals, dock-Yards and other needful Buildings; \\n-And \\nTo make all Laws which shall be necessary and proper for \\ncarrying into Execution the foregoing Powers, and all other \\nPowers vested by this Constitution in the Government of \\nthe United States, or in any Department or Officer thereof. \\nSECTION. 9 \\nThe Migration or Importation of such Persons as any of the \\nStates now existing shall think proper to admit, shall not be \\nprohibited by the Congress prior to the Year one thousand'),\n",
       " Document(metadata={'producer': 'Adobe PDF Library 23.1.125', 'creator': 'Acrobat PDFMaker 23 for Word', 'creationdate': '2023-04-10T12:53:44-04:00', 'company': '', 'created': 'D:20030612', 'lastsaved': 'D:20230409', 'moddate': '2023-04-10T13:09:52-04:00', 'sourcemodified': 'D:20230410165309', 'title': 'constitution_pdf2', 'source': 'constitution.pdf', 'total_pages': 19, 'page': 4, 'page_label': '5'}, page_content='eight hundred and eight, but a Tax or duty may be imposed \\non such Importation, not exceeding ten dollars for each \\nPerson \\nThe Privilege of the Writ of Habeas Corpus shall not be \\nsuspended, unless when in Cases of Rebellion or Invasion \\nthe public Safety may require it. \\nNo Bill of Attainder or ex post facto Law shall be passed. \\n[No Capitation, or other direct, Tax shall be laid, unless in \\nProportion to the Census or Enumeration herein before \\ndirected to be taken.]* \\nNo Tax or Duty shall be laid on Articles exported from any \\nState \\nNo Preference shall be given by any Regulation of Com- \\nmerce or Revenue to the Ports of one State over those of \\nanother: nor shall Vessels bound to, or from, one State, be \\nobliged to enter, clear, or pay Duties in another. \\nNo Money shall be drawn from the Treasury, but in Con- \\nsequence of Appropriations made by Law; and a regular \\nStatement and Account of the Receipts and Expenditures of \\nall public Money shall be published from time to time.'),\n",
       " Document(metadata={'producer': 'Adobe PDF Library 23.1.125', 'creator': 'Acrobat PDFMaker 23 for Word', 'creationdate': '2023-04-10T12:53:44-04:00', 'company': '', 'created': 'D:20030612', 'lastsaved': 'D:20230409', 'moddate': '2023-04-10T13:09:52-04:00', 'sourcemodified': 'D:20230410165309', 'title': 'constitution_pdf2', 'source': 'constitution.pdf', 'total_pages': 19, 'page': 4, 'page_label': '5'}, page_content='No Title of Nobility shall be granted by the United States: \\nAnd no Person holding any Office of Profit or Trust under \\nthem, shall, without the Consent of the Congress, accept \\nof any present, Emolument, Office, or Title, of any kind \\nwhatever, from any King, Prince, or foreign State. \\nSECTION. 10 \\nNo State shall enter into any Treaty, Alliance, or Confedera- \\ntion; grant Letters of Marque and Reprisal; coin Money; \\nemit Bills of Credit; make any Thing but gold and silver \\nCoin a Tender in Payment of Debts; pass any Bill of At- \\ntainder, ex post facto Law, or Law impairing the Obligation \\nof Contracts, or grant any Title of Nobility. \\nNo State shall, without the Consent of the Congress, lay \\nany Imposts or Duties on Imports or Exports, except what \\nmay be absolutely necessary for executing it’s inspection \\nLaws: and the net Produce of all Duties and Imposts, laid \\nby any State on Imports or Exports, shall be for the Use of'),\n",
       " Document(metadata={'producer': 'Adobe PDF Library 23.1.125', 'creator': 'Acrobat PDFMaker 23 for Word', 'creationdate': '2023-04-10T12:53:44-04:00', 'company': '', 'created': 'D:20030612', 'lastsaved': 'D:20230409', 'moddate': '2023-04-10T13:09:52-04:00', 'sourcemodified': 'D:20230410165309', 'title': 'constitution_pdf2', 'source': 'constitution.pdf', 'total_pages': 19, 'page': 4, 'page_label': '5'}, page_content='the Treasury of the United States; and all such Laws shall be \\nsubject to the Revision and Controul of the Congress. \\nNo State shall, without the Consent of Congress, lay any \\nDuty of Tonnage, keep Troops, or Ships of War in time of \\nPeace, enter into any Agreement or Compact with another \\nState, or with a foreign Power, or engage in War, unless \\nactually invaded, or in such imminent Danger as will not \\nadmit of delay.'),\n",
       " Document(metadata={'producer': 'Adobe PDF Library 23.1.125', 'creator': 'Acrobat PDFMaker 23 for Word', 'creationdate': '2023-04-10T12:53:44-04:00', 'company': '', 'created': 'D:20030612', 'lastsaved': 'D:20230409', 'moddate': '2023-04-10T13:09:52-04:00', 'sourcemodified': 'D:20230410165309', 'title': 'constitution_pdf2', 'source': 'constitution.pdf', 'total_pages': 19, 'page': 5, 'page_label': '6'}, page_content='C O N S T I T U T I O N O F T H E U N I T E D S T A T E S  \\nArticle.  II.  \\nSECTION. 1 \\nThe executive Power shall be vested in a President of the \\nUnited States of America. He shall hold his Office during \\nthe Term of four Years, and, together with the Vice Presi- \\ndent, chosen for the same Term, be elected, as follows: \\nEach State shall appoint, in such Manner as the Legislature \\nthereof may direct, a Number of Electors, equal to the \\nwhole Number of Senators and Representatives to which \\nthe State may be entitled in the Congress: but no Senator or \\nRepresentative, or Person holding an Office of Trust or Prof- \\nit under the United States, shall be appointed an Elector. \\n[The Electors shall meet in their respective States, and vote \\nby Ballot for two Persons, of whom one at least shall not \\nbe an Inhabitant of the same State with themselves. And \\nthey shall make a List of all the Persons voted for, and of \\nthe Number of Votes for each; which List they shall sign'),\n",
       " Document(metadata={'producer': 'Adobe PDF Library 23.1.125', 'creator': 'Acrobat PDFMaker 23 for Word', 'creationdate': '2023-04-10T12:53:44-04:00', 'company': '', 'created': 'D:20030612', 'lastsaved': 'D:20230409', 'moddate': '2023-04-10T13:09:52-04:00', 'sourcemodified': 'D:20230410165309', 'title': 'constitution_pdf2', 'source': 'constitution.pdf', 'total_pages': 19, 'page': 5, 'page_label': '6'}, page_content='and certify, and transmit sealed to the Seat of the Govern- \\nment of the United States, directed to the President of the \\nSenate. The President of the Senate shall, in the Presence \\nof the Senate and House of Representatives, open all the \\nCertificates, and the Votes shall then be counted. The \\nPerson having the greatest Number of Votes shall be the \\nPresident, if such Number be a Majority of the whole \\nNumber of Electors appointed; and if there be more than \\none who have such Majority, and have an equal Number of \\nVotes, then the House of Representatives shall immediately \\nchuse by Ballot one of them for President; and if no Person \\nhave a Majority, then from the five highest on the List \\nthe said House shall in like Manner chuse the President. \\nBut in chusing the President, the Votes shall be taken by \\nStates, the Representation from each State having one Vote; \\nA quorum for this Purpose shall consist of a Member or \\nMembers from two thirds of the States, and a Majority of'),\n",
       " Document(metadata={'producer': 'Adobe PDF Library 23.1.125', 'creator': 'Acrobat PDFMaker 23 for Word', 'creationdate': '2023-04-10T12:53:44-04:00', 'company': '', 'created': 'D:20030612', 'lastsaved': 'D:20230409', 'moddate': '2023-04-10T13:09:52-04:00', 'sourcemodified': 'D:20230410165309', 'title': 'constitution_pdf2', 'source': 'constitution.pdf', 'total_pages': 19, 'page': 5, 'page_label': '6'}, page_content='all the States shall be necessary to a Choice. In every Case, \\nafter the Choice of the President, the Person having the \\ngreatest Number of Votes of the Electors shall be the Vice \\nPresident. But if there should remain two or more who \\nhave equal Votes, the Senate shall chuse from them by Bal- \\nlot the Vice President.]* \\n \\n \\n \\n \\n \\nThe Congress may determine the  Time of chusing the \\nElectors, and the Day on which they shall give their Votes; \\nwhich Day shall be the same throughout the United States. \\nNo Person except a natural born Citizen, or a Citizen \\nof the United States, at the time of the Adoption of this \\nConstitution, shall be eligible to the Office of President; \\nneither shall any person be eligible to that Office who shall \\nnot have attained to the Age of thirty five Years, and been \\nfourteen Years a Resident within the United States \\nIn Case of the Removal of the President from Office, or of \\nhis Death, Resignation, or Inability to discharge the Powers'),\n",
       " Document(metadata={'producer': 'Adobe PDF Library 23.1.125', 'creator': 'Acrobat PDFMaker 23 for Word', 'creationdate': '2023-04-10T12:53:44-04:00', 'company': '', 'created': 'D:20030612', 'lastsaved': 'D:20230409', 'moddate': '2023-04-10T13:09:52-04:00', 'sourcemodified': 'D:20230410165309', 'title': 'constitution_pdf2', 'source': 'constitution.pdf', 'total_pages': 19, 'page': 5, 'page_label': '6'}, page_content='and Duties of the said Office, the Same shall devolve on the \\nVice President, and the Congress may by Law provide for \\nthe Case of Removal, Death, Resignation or Inability, both \\nof the President and Vice President, declaring what Officer \\nshall then act as President, and such Officer shall act ac- \\ncordingly, until the Disability be removed, or a President \\nshall be elected.]* \\nThe President shall, at stated Times, receive for his Services, \\na Compensation, which shall neither be increased nor \\ndiminished during the Period for which he shall have been \\nelected, and he shall not receive within that Period any \\nother Emolument from the United States, or any of them. \\nBefore he enter on the Execution of his Office, he shall \\ntake the following Oath or Affirmation:- “I do solemnly \\nswear (or affirm) that I will faithfully execute the Office of \\nPresident of the United States, and will to the best of my \\nAbility, preserve, protect and defend the Constitution of \\nthe United States.”'),\n",
       " Document(metadata={'producer': 'Adobe PDF Library 23.1.125', 'creator': 'Acrobat PDFMaker 23 for Word', 'creationdate': '2023-04-10T12:53:44-04:00', 'company': '', 'created': 'D:20030612', 'lastsaved': 'D:20230409', 'moddate': '2023-04-10T13:09:52-04:00', 'sourcemodified': 'D:20230410165309', 'title': 'constitution_pdf2', 'source': 'constitution.pdf', 'total_pages': 19, 'page': 6, 'page_label': '7'}, page_content='C O N S T I T U T I O N O F T H E U N I T E D S T A T E S  \\nSECTION. 2 \\nThe President shall be Commander in Chief of the Army \\nand Navy of the United States, and of the Militia of the \\nseveral States, when called into the actual Service of the \\nUnited States; he may require the Opinion, in writing, of \\nthe principal Officer in each of the executive Departments, \\nupon any Subject relating to the Duties of their respective \\nOffices, and he shall have Power to grant Reprieves and \\nPardons for Offenses against the United States, except in \\nCases of Impeachment. \\nHe shall have Power, by and with the Advice and Consent \\nof the Senate, to make Treaties, provided two thirds of the \\nSenators present concur; and he shall nominate, and by and \\nwith the Advice and Consent of the Senate, shall appoint \\nAmbassadors, other public Ministers and Consuls, Judges \\nof the supreme Court, and all other Officers of the United \\nStates, whose Appointments are not herein otherwise'),\n",
       " Document(metadata={'producer': 'Adobe PDF Library 23.1.125', 'creator': 'Acrobat PDFMaker 23 for Word', 'creationdate': '2023-04-10T12:53:44-04:00', 'company': '', 'created': 'D:20030612', 'lastsaved': 'D:20230409', 'moddate': '2023-04-10T13:09:52-04:00', 'sourcemodified': 'D:20230410165309', 'title': 'constitution_pdf2', 'source': 'constitution.pdf', 'total_pages': 19, 'page': 6, 'page_label': '7'}, page_content='provided for, and which shall be established by Law: but \\nthe Congress may by Law vest the Appointment of such in- \\nferior Officers, as they think proper, in the President alone, \\nin the Courts of Law, or in the Heads of Departments. \\nThe President shall have Power to fill up all Vacancies \\nthat may happen during the Recess of the Senate, by \\ngranting Commissions which shall expire at the End of \\ntheir next Session \\nSECTION. 3 \\nHe shall from time to time give to the Congress Informa- \\ntion of the State of the Union, and recommend to their \\nConsideration such Measures as he shall judge neces- \\nsary and expedient; he may, on extraordinary Occasions, \\nconvene both Houses, or either of them, and in Case of \\nDisagreement between them, with Respect to the Time of \\nAdjournment, he may adjourn them to such Time as he \\nshall think proper; he shall receive Ambassadors and other \\npublic Ministers; he shall take Care that the Laws be faith-'),\n",
       " Document(metadata={'producer': 'Adobe PDF Library 23.1.125', 'creator': 'Acrobat PDFMaker 23 for Word', 'creationdate': '2023-04-10T12:53:44-04:00', 'company': '', 'created': 'D:20030612', 'lastsaved': 'D:20230409', 'moddate': '2023-04-10T13:09:52-04:00', 'sourcemodified': 'D:20230410165309', 'title': 'constitution_pdf2', 'source': 'constitution.pdf', 'total_pages': 19, 'page': 6, 'page_label': '7'}, page_content='fully executed, and shall Commission all the Officers of the \\nUnited States \\nSECTION. 4 \\nThe President, Vice President and all civil Officers of the \\nUnited States, shall be removed from Office on Impeach- \\nment for, and Conviction of, Treason, Bribery, or other \\nhigh Crimes and Misdemeanors.'),\n",
       " Document(metadata={'producer': 'Adobe PDF Library 23.1.125', 'creator': 'Acrobat PDFMaker 23 for Word', 'creationdate': '2023-04-10T12:53:44-04:00', 'company': '', 'created': 'D:20030612', 'lastsaved': 'D:20230409', 'moddate': '2023-04-10T13:09:52-04:00', 'sourcemodified': 'D:20230410165309', 'title': 'constitution_pdf2', 'source': 'constitution.pdf', 'total_pages': 19, 'page': 7, 'page_label': '8'}, page_content='C O N S T I T U T I O N O F T H E U N I T E D S T A T E S  \\nArticle.  III.  \\nSECTION. 1 \\nThe judicial Power of the United States, shall be vested \\nin one supreme Court, and in such inferior Courts as the \\nCongress may from time to time ordain and establish. The \\nJudges, both of the supreme and inferior Courts, shall hold \\ntheir Offices during good Behaviour, and shall at stated \\nTimes, receive for their Services, a Compensation, which \\nshall not be diminished during their Continuance in Office. \\n \\nSECTION. 2 \\nThe judicial Power shall extend to all Cases, in Law and \\nEquity, arising under this Constitution, the Laws of the \\nUnited States, and Treaties made, or which shall be made, \\nunder their Authority; - to all Cases affecting Ambassa- \\ndors, other public Ministers and Consuls; - to all Cases of \\nadmiralty and maritime Jurisdiction; - to Controversies to \\nwhich the United States shall be a Party; - to Controversies \\nbetween two or more States; - [between a State and Citizens'),\n",
       " Document(metadata={'producer': 'Adobe PDF Library 23.1.125', 'creator': 'Acrobat PDFMaker 23 for Word', 'creationdate': '2023-04-10T12:53:44-04:00', 'company': '', 'created': 'D:20030612', 'lastsaved': 'D:20230409', 'moddate': '2023-04-10T13:09:52-04:00', 'sourcemodified': 'D:20230410165309', 'title': 'constitution_pdf2', 'source': 'constitution.pdf', 'total_pages': 19, 'page': 7, 'page_label': '8'}, page_content='of another State;-]* between Citizens of different States, \\n- between Citizens of the same State claiming Lands under \\nGrants of different States, [and between a State, or the Citi- \\nzens thereof;- and foreign States, Citizens or Subjects.]*  \\nIn all Cases affecting Ambassadors, other public Ministers \\nand Consuls, and those in which a State shall be Party, the \\nsupreme Court shall have original Jurisdiction. In all the \\nother Cases before mentioned, the supreme Court shall \\nhave appellate Jurisdiction, both as to Law and Fact, with \\nsuch Exceptions, and under such Regulations as the Con- \\ngress shall make.  \\nThe Trial of all Crimes, except in Cases of Impeachment; \\nshall be by Jury; and such Trial shall be held in the State \\nwhere the said Crimes shall have been committed; but when \\nnot committed within any State, the  Trial shall be at such \\nPlace or Places as the Congress may by Law have directed. \\n \\n \\n \\nSECTION. 3 \\nTreason against the United States, shall consist only in levy-'),\n",
       " Document(metadata={'producer': 'Adobe PDF Library 23.1.125', 'creator': 'Acrobat PDFMaker 23 for Word', 'creationdate': '2023-04-10T12:53:44-04:00', 'company': '', 'created': 'D:20030612', 'lastsaved': 'D:20230409', 'moddate': '2023-04-10T13:09:52-04:00', 'sourcemodified': 'D:20230410165309', 'title': 'constitution_pdf2', 'source': 'constitution.pdf', 'total_pages': 19, 'page': 7, 'page_label': '8'}, page_content='ing War against them, or in adhering to their Enemies, giv- \\ning them Aid and Comfort. No Person shall be convicted \\nof Treason unless on the Testimony of two Witnesses to the \\nsame overt Act, or on Confession in open Court. \\nThe Congress shall have Power to declare the Punishment \\nof Treason, but no Attainder of Treason shall work Corrup- \\ntion of Blood, or Forfeiture except during the Life of the \\nPerson attainted'),\n",
       " Document(metadata={'producer': 'Adobe PDF Library 23.1.125', 'creator': 'Acrobat PDFMaker 23 for Word', 'creationdate': '2023-04-10T12:53:44-04:00', 'company': '', 'created': 'D:20030612', 'lastsaved': 'D:20230409', 'moddate': '2023-04-10T13:09:52-04:00', 'sourcemodified': 'D:20230410165309', 'title': 'constitution_pdf2', 'source': 'constitution.pdf', 'total_pages': 19, 'page': 8, 'page_label': '9'}, page_content='C O N S T I T U T I O N O F T H E U N I T E D S T A T E S  \\nArticle.  I V. \\nSECTION. 1 \\nFull Faith and Credit shall be given in each State to the \\npublic Acts, Records, and judicial Proceedings of every oth- \\ner State. And the Congress may by general Laws prescribe \\nthe Manner in which such Acts, Records and Proceedings \\nshall be proved, and the Effect thereof. \\nSECTION. 2 \\nThe Citizens of each State shall be entitled to all Privileges \\nand Immunities of Citizens in the several States  \\nA Person charged in any State with Treason, Felony, or \\nother Crime, who shall flee from Justice, and be found in \\nanother State, shall on Demand of the executive Author- \\nity of the State from which he fled, be delivered up, to be \\nremoved to the State having Jurisdiction of the Crime.  \\nNo Person held to Service or Labour in one State, under \\nthe Laws thereof, escaping into another, shall, in Conse- \\nquence of any Law or Regulation therein, be discharged'),\n",
       " Document(metadata={'producer': 'Adobe PDF Library 23.1.125', 'creator': 'Acrobat PDFMaker 23 for Word', 'creationdate': '2023-04-10T12:53:44-04:00', 'company': '', 'created': 'D:20030612', 'lastsaved': 'D:20230409', 'moddate': '2023-04-10T13:09:52-04:00', 'sourcemodified': 'D:20230410165309', 'title': 'constitution_pdf2', 'source': 'constitution.pdf', 'total_pages': 19, 'page': 8, 'page_label': '9'}, page_content='from such Service or Labour, but shall be delivered up on \\nClaim of the Party to whom such Service or Labour may be \\ndue.]* \\nSECTION. 3 \\nNew States may be admitted by the Congress into this \\nUnion; but no new State shall be formed or erected within \\nthe Jurisdiction of any other State; nor any State be formed \\nby the Junction of two or more States, or Parts of States, \\nwithout the Consent of the Legislatures of the States con- \\ncerned as well as of the Congress. \\nThe Congress shall have Power to dispose of and make all \\nneedful Rules and Regulations respecting the Territory or \\nother Property belonging to the United States; and nothing \\nin this Constitution shall be so construed as to Prejudice \\nany Claims of the United States, or of any particular State. \\nSECTION. 4 \\nThe United States shall guarantee to every State in this \\nUnion a Republican Form of Government, and shall \\nprotect each of them against Invasion; and on Application'),\n",
       " Document(metadata={'producer': 'Adobe PDF Library 23.1.125', 'creator': 'Acrobat PDFMaker 23 for Word', 'creationdate': '2023-04-10T12:53:44-04:00', 'company': '', 'created': 'D:20030612', 'lastsaved': 'D:20230409', 'moddate': '2023-04-10T13:09:52-04:00', 'sourcemodified': 'D:20230410165309', 'title': 'constitution_pdf2', 'source': 'constitution.pdf', 'total_pages': 19, 'page': 8, 'page_label': '9'}, page_content='of the Legislature, or of the Executive (when the Legislature \\ncannot be convened) against domestic Violence. \\nArticle.  V.  \\nThe Congress, whenever two thirds of both Houses shall \\ndeem it necessary, shall propose Amendments to this Con- \\nstitution, or, on the Application of the Legislatures of two \\nthirds of the several States, shall call a Convention for pro- \\nposing Amendments, which in either Case, shall be valid to \\nall Intents and Purposes, as Part of this Constitution, when \\nratified by the Legislatures of three-fourths of the several \\nStates, or by Conventions in three fourths thereof, as the \\none or the other Mode of Ratification may be proposed by \\nthe Congress; Provided that no Amendment which may be \\nmade prior to the Year One thousand eight hundred and \\neight shall in any Manner affect the first and fourth Clauses \\nin the Ninth Section of the first Article; and that no State, \\nwithout its Consent, shall be deprived of its equal Suffrage \\nin the Senate'),\n",
       " Document(metadata={'producer': 'Adobe PDF Library 23.1.125', 'creator': 'Acrobat PDFMaker 23 for Word', 'creationdate': '2023-04-10T12:53:44-04:00', 'company': '', 'created': 'D:20030612', 'lastsaved': 'D:20230409', 'moddate': '2023-04-10T13:09:52-04:00', 'sourcemodified': 'D:20230410165309', 'title': 'constitution_pdf2', 'source': 'constitution.pdf', 'total_pages': 19, 'page': 9, 'page_label': '10'}, page_content='C O N S T I T U T I O N O F T H E U N I T E D S T A T E S  \\nArticle.  VI.  \\nAll Debts contracted and Engagements entered into, before \\nthe Adoption of this Constitution, shall be as valid against \\nthe United States under this Constitution, as under the \\nConfederation \\nThis Constitution, and the Laws of the United States \\nwhich shall be made in Pursuance thereof; and all Treaties \\nmade, or which shall be made, under the Authority of the \\nUnited States, shall be the supreme Law of the Land; and \\nthe Judges in every State shall be bound thereby, any Thing \\nin the Constitution or Laws of any State to the Contrary \\nnotwithstanding. \\nThe Senators and Representatives before mentioned, and \\nthe Members of the several State Legislatures, and all execu- \\ntive and judicial Officers, both of the United States and of \\nthe several States, shall be bound by Oath or Affirmation, \\nto support this Constitution; but no religious Test shall ever'),\n",
       " Document(metadata={'producer': 'Adobe PDF Library 23.1.125', 'creator': 'Acrobat PDFMaker 23 for Word', 'creationdate': '2023-04-10T12:53:44-04:00', 'company': '', 'created': 'D:20030612', 'lastsaved': 'D:20230409', 'moddate': '2023-04-10T13:09:52-04:00', 'sourcemodified': 'D:20230410165309', 'title': 'constitution_pdf2', 'source': 'constitution.pdf', 'total_pages': 19, 'page': 9, 'page_label': '10'}, page_content='be required as a Qualification to any Office or public Trust \\nunder the United States \\nArticle.  VII.  \\nThe Ratification of the Conventions of nine States, shall \\nbe sufficient for the Establishment of this Constitution \\nbetween the States so ratifying the Same. \\nDone in Convention by the Unanimous Consent of the \\nStates present the Seventeenth Day of September in the \\nYear of our Lord one thousand seven hundred and Eighty \\nseven and of the Independence of the United States of \\nAmerica the Twelfth In Witness whereof We have hereunto \\nsubscribed our Names, \\nGo. Washington--Presidt: \\nand deputy from Virginia \\nNEW HAMPSHIRE \\nJohn Langdon \\nNicholas Gilman \\nMASSACHUSETTS \\nNathaniel Gorham \\nRufus King \\nCONNECTICUT \\nWm. Saml. Johnson \\nRoger Sherman \\nNEW YORK \\nAlexander Hamilton \\nNEW JERSEY \\nWil: Livingston \\nDavid Brearley \\nWm. Paterson \\nJona: Dayton \\nPENNSYLVANIA \\nB Franklin \\nThomas Mifflin \\nRobt Morris \\nGeo. Clymer \\nThos. FitzSimons \\nJared Ingersoll \\nJames Wilson \\nGouv Morris'),\n",
       " Document(metadata={'producer': 'Adobe PDF Library 23.1.125', 'creator': 'Acrobat PDFMaker 23 for Word', 'creationdate': '2023-04-10T12:53:44-04:00', 'company': '', 'created': 'D:20030612', 'lastsaved': 'D:20230409', 'moddate': '2023-04-10T13:09:52-04:00', 'sourcemodified': 'D:20230410165309', 'title': 'constitution_pdf2', 'source': 'constitution.pdf', 'total_pages': 19, 'page': 10, 'page_label': '11'}, page_content='C O N S T I T U T I O N O F T H E U N I T E D S T A T E S  \\nDELAWARE \\nGeo: Read \\nGunning Bedford jun \\nJohn Dickinson \\nRichard Bassett \\nJaco: Broom \\nMARYLAND \\nJames McHenry \\nDan of St. Thos. Jenifer \\nDanl Carroll \\nVIRGINIA \\nJohn Blair- \\nJames Madison Jr. \\nNORTH CAROLINA \\nWm. Blount \\nRichd. Dobbs Spaight \\nHu Williamson \\nSOUTH CAROLINA \\nJ. Rutledge \\nCharles Cotesworth Pinckney \\nCharles Pinckney  \\nPierce Butler \\nGEORGIA \\nWilliam Few \\nAbr Baldwin \\n \\nAttest William Jackson Secretary \\nIn Convention Monday \\nSeptember 17th, 1787. \\nPresent \\nThe States of \\nNew Hampshire, Massachusetts, Connecticut, Mr. Ham- \\nilton from New York, New Jersey, Pennsylvania, Delaware, \\nMaryland, Virginia, North Carolina, South Carolina and \\nGeorgia. \\nResolved, \\nThat the preceeding Constitution be laid before the United \\nStates in Congress assembled, and that it is the Opinion \\nof this Convention, that it should afterwards be submitted \\nto a Convention of Delegates, chosen in each State by the'),\n",
       " Document(metadata={'producer': 'Adobe PDF Library 23.1.125', 'creator': 'Acrobat PDFMaker 23 for Word', 'creationdate': '2023-04-10T12:53:44-04:00', 'company': '', 'created': 'D:20030612', 'lastsaved': 'D:20230409', 'moddate': '2023-04-10T13:09:52-04:00', 'sourcemodified': 'D:20230410165309', 'title': 'constitution_pdf2', 'source': 'constitution.pdf', 'total_pages': 19, 'page': 10, 'page_label': '11'}, page_content='People thereof, under the Recommendation of its Legisla- \\nture, for their Assent and Ratification; and that each Con- \\nvention assenting to, and ratifying the Same, should give \\nNotice thereof to the United States in Congress assembled. \\nResolved, That it is the Opinion of this Convention, that \\nas soon as the Conventions of nine States shall have ratified \\nthis Constitution, the United States in Congress assembled \\nshould fix a Day on which Electors should be appointed by \\nthe States which shall have ratified the same, and a Day on \\nwhich the Electors should assemble to vote for the Presi- \\ndent, and the Time and Place for commencing Proceedings \\nunder this Constitution \\nThat after such Publication the Electors should be ap- \\npointed, and the Senators and Representatives elected: That \\nthe Electors should meet on the Day fixed for the Election \\nof the President, and should transmit their Votes certified, \\nsigned, sealed and directed, as the Constitution requires, to'),\n",
       " Document(metadata={'producer': 'Adobe PDF Library 23.1.125', 'creator': 'Acrobat PDFMaker 23 for Word', 'creationdate': '2023-04-10T12:53:44-04:00', 'company': '', 'created': 'D:20030612', 'lastsaved': 'D:20230409', 'moddate': '2023-04-10T13:09:52-04:00', 'sourcemodified': 'D:20230410165309', 'title': 'constitution_pdf2', 'source': 'constitution.pdf', 'total_pages': 19, 'page': 10, 'page_label': '11'}, page_content='the Secretary of the United States in Congress assembled, \\nthat the Senators and Representatives should convene at the \\nTime and Place assigned; that the Senators should appoint \\na President of the Senate, for the sole Purpose of receiving, \\nopening and counting the Votes for President; and, that \\nafter he shall be chosen, the Congress, together with the \\nPresident, should, without Delay, proceed to execute this \\nConstitution \\nBy the unanimous Order of the Convention \\nGo. Washington-Presidt: \\nW. JACKSON Secretary. \\n \\n* Language in brackets has been changed by amendment.'),\n",
       " Document(metadata={'producer': 'Adobe PDF Library 23.1.125', 'creator': 'Acrobat PDFMaker 23 for Word', 'creationdate': '2023-04-10T12:53:44-04:00', 'company': '', 'created': 'D:20030612', 'lastsaved': 'D:20230409', 'moddate': '2023-04-10T13:09:52-04:00', 'sourcemodified': 'D:20230410165309', 'title': 'constitution_pdf2', 'source': 'constitution.pdf', 'total_pages': 19, 'page': 11, 'page_label': '12'}, page_content='C O N S T I T U T I O N O F T H E U N I T E D S T A T E S  \\nTHE AMENDMENTS TO THE CONSTITUTION OF \\nTHE UNITED STATES AS RATIFIED BY THE STATES \\n \\n \\nPreamble to the \\nBill  of  Rights \\nCongress of the United States \\nbegun and held at the City of New-York, on \\nWednesday the fourth of March,  \\n \\n \\nTHE Conventions of a number of the States, having at \\nthe time of their adopting the Constitution, expressed \\na desire, in order to prevent misconstruction or abuse \\nof its powers, that further declaratory and restrictive \\nclauses should be added: And as extending the ground \\nof public confidence in the Government, will best \\nensure the beneficent ends of its institution \\n \\nRESOLVED by the Senate and House of \\nRepresentatives of the United States of America, \\nin Congress assembled, two thirds of both Houses \\nconcurring, that the following Articles be proposed to \\nthe Legislatures of the several States, as amendments \\nto the Constitution of the United States, all, or any of'),\n",
       " Document(metadata={'producer': 'Adobe PDF Library 23.1.125', 'creator': 'Acrobat PDFMaker 23 for Word', 'creationdate': '2023-04-10T12:53:44-04:00', 'company': '', 'created': 'D:20030612', 'lastsaved': 'D:20230409', 'moddate': '2023-04-10T13:09:52-04:00', 'sourcemodified': 'D:20230410165309', 'title': 'constitution_pdf2', 'source': 'constitution.pdf', 'total_pages': 19, 'page': 11, 'page_label': '12'}, page_content='which Articles, when ratified by three fourths of the said \\nLegislatures, to be valid to all intents and purposes, as \\npart of the said Constitution; viz. \\n \\nARTICLES in addition to, and Amendment of the \\nConstitution of the United States of America, proposed \\nby Congress, and ratified by the Legislatures of the \\nseveral States, pursuant to the fifth Article of the \\noriginal Constitution. \\n \\n(Note: The first 10 amendments  to the Constitution  were \\nratified December 15, 1791, and form what is known as \\nthe “Bill of Rights.”)  \\nAmendment  I. \\nCongress shall make no law respecting an establishment of \\nreligion, or prohibiting the free exercise thereof; or abridg- \\ning the freedom of speech, or of the press, or the right \\nof the people peaceably to assemble, and to petition the \\nGovernment for a redress of grievances. \\nAmendment  II. \\nA well regulated Militia, being necessary to the security of \\na free State, the right of the people to keep and bear Arms, \\nshall not be infringed.'),\n",
       " Document(metadata={'producer': 'Adobe PDF Library 23.1.125', 'creator': 'Acrobat PDFMaker 23 for Word', 'creationdate': '2023-04-10T12:53:44-04:00', 'company': '', 'created': 'D:20030612', 'lastsaved': 'D:20230409', 'moddate': '2023-04-10T13:09:52-04:00', 'sourcemodified': 'D:20230410165309', 'title': 'constitution_pdf2', 'source': 'constitution.pdf', 'total_pages': 19, 'page': 11, 'page_label': '12'}, page_content='shall not be infringed.  \\nAmendment  III. \\nNo Soldier shall, in time of peace be quartered in any \\nhouse, without the consent of the Owner, nor in time of \\nwar, but in a manner to be prescribed by law. \\nAmendment  IV. \\nThe right of the people to be secure in their persons, hous- \\nes, papers, and effects, against unreasonable searches and \\nseizures, shall not be violated, and no Warrants shall issue, \\nbut upon probable cause, supported by Oath or affirma- \\ntion, and particularly describing the place to be searched, \\nand the persons or things to be seized. \\nAmendment  V. \\nNo person shall be held to answer for a capital, or otherwise \\ninfamous crime, unless on a presentment or indictment of \\na Grand Jury, except in cases arising in the land or naval \\nforces, or in the Militia, when in actual service in time of \\nWar or public danger; nor shall any person be subject for \\nthe same offence to be twice put in jeopardy of life or limb;'),\n",
       " Document(metadata={'producer': 'Adobe PDF Library 23.1.125', 'creator': 'Acrobat PDFMaker 23 for Word', 'creationdate': '2023-04-10T12:53:44-04:00', 'company': '', 'created': 'D:20030612', 'lastsaved': 'D:20230409', 'moddate': '2023-04-10T13:09:52-04:00', 'sourcemodified': 'D:20230410165309', 'title': 'constitution_pdf2', 'source': 'constitution.pdf', 'total_pages': 19, 'page': 11, 'page_label': '12'}, page_content='nor shall be compelled in any criminal case to be a witness \\nagainst himself, nor be deprived of life, liberty, or property, \\nwithout due process of law; nor shall private property be \\ntaken for public use, without just compensation.'),\n",
       " Document(metadata={'producer': 'Adobe PDF Library 23.1.125', 'creator': 'Acrobat PDFMaker 23 for Word', 'creationdate': '2023-04-10T12:53:44-04:00', 'company': '', 'created': 'D:20030612', 'lastsaved': 'D:20230409', 'moddate': '2023-04-10T13:09:52-04:00', 'sourcemodified': 'D:20230410165309', 'title': 'constitution_pdf2', 'source': 'constitution.pdf', 'total_pages': 19, 'page': 12, 'page_label': '13'}, page_content='C O N S T I T U T I O N O F T H E U N I T E D S T A T E S  \\nAmendment  VI. \\nIn all criminal prosecutions, the accused shall enjoy the \\nright to a speedy and public trial, by an impartial jury of \\nthe State and district wherein the crime shall have been \\ncommitted, which district shall have been previously \\nascertained by law, and to be informed of the nature and \\ncause of the accusation; to be confronted with the witnesses \\nagainst him; to have compulsory process for obtaining wit- \\nnesses in his favor, and to have the Assistance of Counsel \\nfor his defence. \\nAmendment  VII. \\nIn suits at common law, where the value in controversy \\nshall exceed twenty dollars, the right of trial by jury shall be \\npreserved, and no fact tried by a jury shall be otherwise re- \\nexamined in any Court of the United States, than according \\nto the rules of the common law. \\nAmendment  VIII. \\nExcessive bail shall not be required, nor excessive fines \\nimposed, nor cruel and unusual punishments inflicted.'),\n",
       " Document(metadata={'producer': 'Adobe PDF Library 23.1.125', 'creator': 'Acrobat PDFMaker 23 for Word', 'creationdate': '2023-04-10T12:53:44-04:00', 'company': '', 'created': 'D:20030612', 'lastsaved': 'D:20230409', 'moddate': '2023-04-10T13:09:52-04:00', 'sourcemodified': 'D:20230410165309', 'title': 'constitution_pdf2', 'source': 'constitution.pdf', 'total_pages': 19, 'page': 12, 'page_label': '13'}, page_content='Amendment  IX. \\nThe enumeration in the Constitution, of certain rights, \\nshall not be construed to deny or disparage others retained \\nby the people. \\nAmendment  X. \\nThe powers not delegated to the United States by the Con- \\nstitution, nor prohibited by it to the States, are reserved to \\nthe States respectively, or to the people. \\n \\nAMENDMENTS 11-27 \\n \\nAmendment  XI. \\nPassed by Congress March 4, 1794. Ratified February 7, 1795. \\n(Note: A portion of Article III, Section 2 of the Constitution was \\nmodified by the 11 th Amendment.) \\nThe Judicial power of the United States shall not be construed \\nto extend to any suit in law or equity, commenced or pros- \\necuted against one of the United States by Citizens of another \\nState, or by Citizens or Subjects of any Foreign State. \\nAmendment  XII. \\nPassed by Congress December 9, 1803. Ratified June 15, 1804. \\n(Note: A portion of Article II, Section 1 of the Constitution was \\nchanged by the 12th Amendment.)'),\n",
       " Document(metadata={'producer': 'Adobe PDF Library 23.1.125', 'creator': 'Acrobat PDFMaker 23 for Word', 'creationdate': '2023-04-10T12:53:44-04:00', 'company': '', 'created': 'D:20030612', 'lastsaved': 'D:20230409', 'moddate': '2023-04-10T13:09:52-04:00', 'sourcemodified': 'D:20230410165309', 'title': 'constitution_pdf2', 'source': 'constitution.pdf', 'total_pages': 19, 'page': 12, 'page_label': '13'}, page_content='changed by the 12th Amendment.)  \\nThe Electors shall meet in their respective states, and vote \\nby ballot for President and Vice-President, one of whom, \\nat least, shall not be an inhabitant of the same state with \\nthemselves; they shall name in their ballots the person voted \\nfor as President, and in distinct ballots the person voted \\nfor as Vice-President, and they shall make distinct lists of \\nall persons voted for as President, and of all persons voted \\nfor as Vice-President, and of the number of votes for each, \\nwhich lists they shall sign and certify, and transmit sealed \\nto the seat of the government of the United States, directed \\nto the President of the Senate;-the President of the Senate \\nshall, in the presence of the Senate and House of Represen- \\ntatives, open all the certificates and the votes shall then be \\ncounted;-The person having the greatest number of votes \\nfor President, shall be the President, if such number be a'),\n",
       " Document(metadata={'producer': 'Adobe PDF Library 23.1.125', 'creator': 'Acrobat PDFMaker 23 for Word', 'creationdate': '2023-04-10T12:53:44-04:00', 'company': '', 'created': 'D:20030612', 'lastsaved': 'D:20230409', 'moddate': '2023-04-10T13:09:52-04:00', 'sourcemodified': 'D:20230410165309', 'title': 'constitution_pdf2', 'source': 'constitution.pdf', 'total_pages': 19, 'page': 12, 'page_label': '13'}, page_content='majority of the whole number of Electors appointed; and if \\nno person have such majority, then from the persons having \\nthe highest numbers not exceeding three on the list of those \\nvoted for as President, the House of Representatives shall \\nchoose immediately, by ballot, the President. But in choos- \\ning the President, the votes shall be taken by states, the \\nrepresentation from each state having one vote; a quorum \\nfor this purpose shall consist of a member or members from \\ntwo-thirds of the states, and a majority of all the states shall \\nbe necessary to a choice. [And if the House of Representa- \\ntives shall not choose a President whenever the right of \\nchoice shall devolve upon them, before the fourth day of \\nMarch next following, then the Vice-President shall act as \\nPresident, as in case of the death or other constitutional \\ndisability of the President.-]* The person having the greatest \\nnumber of votes as Vice-President, shall be the Vice-Presi-'),\n",
       " Document(metadata={'producer': 'Adobe PDF Library 23.1.125', 'creator': 'Acrobat PDFMaker 23 for Word', 'creationdate': '2023-04-10T12:53:44-04:00', 'company': '', 'created': 'D:20030612', 'lastsaved': 'D:20230409', 'moddate': '2023-04-10T13:09:52-04:00', 'sourcemodified': 'D:20230410165309', 'title': 'constitution_pdf2', 'source': 'constitution.pdf', 'total_pages': 19, 'page': 12, 'page_label': '13'}, page_content='dent, if such number be a majority of the whole number \\nof Electors appointed, and if no person have a majority, \\nthen from the two highest numbers on the list, the Senate \\nshall choose the Vice-President; a quorum for the purpose \\nshall consist of two-thirds of the whole number of Senators, \\nand a majority of the whole number shall be necessary to \\na choice. But no person constitutionally ineligible to the \\noffice of President shall be eligible to that of Vice-President \\nof the United States. \\n*Superseded by Section 3 of the 20th Amendment.'),\n",
       " Document(metadata={'producer': 'Adobe PDF Library 23.1.125', 'creator': 'Acrobat PDFMaker 23 for Word', 'creationdate': '2023-04-10T12:53:44-04:00', 'company': '', 'created': 'D:20030612', 'lastsaved': 'D:20230409', 'moddate': '2023-04-10T13:09:52-04:00', 'sourcemodified': 'D:20230410165309', 'title': 'constitution_pdf2', 'source': 'constitution.pdf', 'total_pages': 19, 'page': 13, 'page_label': '14'}, page_content='C O N S T I T U T I O N O F T H E U N I T E D S T A T E S  \\nAmendment  XIII. \\nPassed by Congress January 31, 1865. Ratified December 6, \\n1865. \\n(Note: A portion of Article IV, Section 2 of the Constitution \\nwas changed by the 13th Amendment.)  \\nSECTION 1 \\nNeither slavery nor involuntary servitude, except as a \\npunishment for crime whereof the party shall have been \\nduly convicted, shall exist within the United States, or any \\nplace subject to their jurisdiction.  \\nSECTION 2 \\nCongress shall have power to enforce this article by \\nappropriate legislation. \\nAmendment  XIV. \\nPassed by Congress June 13, 1866. Ratified July 9, 1868. \\n(Note: Article I, Section 2 of the Constitution  was modified by \\nSection 2 of the 14th Amendment.)  \\n \\nSECTION 1 \\nAll persons born or naturalized in the United States and \\nsubject to the jurisdiction thereof, are citizens of the United \\nStates and of the State wherein they reside. No State shall \\nmake or enforce any law which shall abridge the privileges'),\n",
       " Document(metadata={'producer': 'Adobe PDF Library 23.1.125', 'creator': 'Acrobat PDFMaker 23 for Word', 'creationdate': '2023-04-10T12:53:44-04:00', 'company': '', 'created': 'D:20030612', 'lastsaved': 'D:20230409', 'moddate': '2023-04-10T13:09:52-04:00', 'sourcemodified': 'D:20230410165309', 'title': 'constitution_pdf2', 'source': 'constitution.pdf', 'total_pages': 19, 'page': 13, 'page_label': '14'}, page_content='or immunities of citizens of the United States; nor shall \\nany State deprive any person of life, liberty, or property, \\nwithout due process of law; nor deny to any person within \\nits jurisdiction the equal protection of the laws.  \\nSECTION 2 \\nRepresentatives shall be apportioned among the several \\nStates according to their respective numbers, counting the \\nwhole number of persons in each State, excluding Indians \\nnot taxed. But when the right to vote at any election for \\nthe choice of electors for President and Vice President of \\nthe United States, Representatives in Congress, the Execu- \\ntive and Judicial officers of a State, or the members of the \\nLegislature thereof, is denied to any of the male inhabit- \\nants of such State, [being twenty-one years of age,]* and \\ncitizens of the United States, or in any way abridged, except \\nfor participation in rebellion, or other crime, the basis of \\nrepresentation therein shall be reduced in the proportion'),\n",
       " Document(metadata={'producer': 'Adobe PDF Library 23.1.125', 'creator': 'Acrobat PDFMaker 23 for Word', 'creationdate': '2023-04-10T12:53:44-04:00', 'company': '', 'created': 'D:20030612', 'lastsaved': 'D:20230409', 'moddate': '2023-04-10T13:09:52-04:00', 'sourcemodified': 'D:20230410165309', 'title': 'constitution_pdf2', 'source': 'constitution.pdf', 'total_pages': 19, 'page': 13, 'page_label': '14'}, page_content='which the number of such male citizens shall bear to the \\nwhole number of male citizens twenty-one years of age in \\nsuch State. \\nSECTION 3 \\nNo person shall be a Senator or Representative in Con- \\ngress, or elector of President and Vice President, or hold \\nany office, civil or military, under the United States, or \\nunder any State, who, having previously taken an oath, as a \\nmember of Congress, or as an officer of the United States, \\nor as a member of any State legislature, or as an executive \\nor judicial officer of any State, to support the Constitution \\nof the United States, shall have engaged in insurrection or \\nrebellion against the same, or given aid or comfort to the \\nenemies thereof. But Congress may by a vote of two-thirds \\nof each House, remove such disability. \\nSECTION 4 \\nThe validity of the public debt of the United States, au- \\nthorized by law, including debts incurred for payment of \\npensions and bounties for services in suppressing insurrec-'),\n",
       " Document(metadata={'producer': 'Adobe PDF Library 23.1.125', 'creator': 'Acrobat PDFMaker 23 for Word', 'creationdate': '2023-04-10T12:53:44-04:00', 'company': '', 'created': 'D:20030612', 'lastsaved': 'D:20230409', 'moddate': '2023-04-10T13:09:52-04:00', 'sourcemodified': 'D:20230410165309', 'title': 'constitution_pdf2', 'source': 'constitution.pdf', 'total_pages': 19, 'page': 13, 'page_label': '14'}, page_content='tion or rebellion, shall not be questioned. But neither the \\nUnited States nor any State shall assume or pay any debt \\nor obligation incurred in aid of insurrection or rebellion \\nagainst the United States, or any claim for the loss or eman- \\ncipation of any slave; but all such debts, obligations and \\nclaims shall be held illegal and void. \\nSECTION 5 \\n \\nThe Congress shall have the power to enforce, by appropri- \\nate legislation, the provisions of this article.  \\n*Changed by Section 1 of the 26th Amendment.'),\n",
       " Document(metadata={'producer': 'Adobe PDF Library 23.1.125', 'creator': 'Acrobat PDFMaker 23 for Word', 'creationdate': '2023-04-10T12:53:44-04:00', 'company': '', 'created': 'D:20030612', 'lastsaved': 'D:20230409', 'moddate': '2023-04-10T13:09:52-04:00', 'sourcemodified': 'D:20230410165309', 'title': 'constitution_pdf2', 'source': 'constitution.pdf', 'total_pages': 19, 'page': 14, 'page_label': '15'}, page_content='C O N S T I T U T I O N O F T H E U N I T E D S T A T E S  \\nAmendment  XV. \\nPassed by Congress February 26, 1869. Ratified February 3, 1870. \\n \\nSECTION 1 \\nThe right of citizens of the United States to vote shall not be \\ndenied or abridged by the United States or by any State on \\naccount of race, color, or previous condition of servitude. \\nSECTION 2 \\nThe Congress shall have the power to enforce this article by \\nappropriate legislation. \\nAmendment  XVI. \\nPassed by Congress July 2, 1909. Ratified February 3, 1913. \\n(Note: Article I, Section 9 of the Constitution  was modified by \\nthe 16 h Amendment.)  \\nThe Congress shall have power to lay and collect taxes on \\nincomes, from whatever source derived, without apportion- \\nment among the several States, and without regard to any \\ncensus or enumeration. \\nAmendment  XVII. \\nPassed by Congress May 13, 1912. Ratified April 8, 1913. \\n(Note: Article I, Section 3 of the Constitution  was modified by \\nthe 17th Amendment.)'),\n",
       " Document(metadata={'producer': 'Adobe PDF Library 23.1.125', 'creator': 'Acrobat PDFMaker 23 for Word', 'creationdate': '2023-04-10T12:53:44-04:00', 'company': '', 'created': 'D:20030612', 'lastsaved': 'D:20230409', 'moddate': '2023-04-10T13:09:52-04:00', 'sourcemodified': 'D:20230410165309', 'title': 'constitution_pdf2', 'source': 'constitution.pdf', 'total_pages': 19, 'page': 14, 'page_label': '15'}, page_content='the 17th Amendment.)  \\nThe Senate of the United States shall be composed of two \\nSenators from each State, elected by the people thereof, for \\nsix years; and each Senator shall have one vote. The electors \\nin each State shall have the qualifications requisite for elec- \\ntors of the most numerous branch of the State legislatures. \\nWhen vacancies happen in the representation of any State \\nin the Senate, the executive authority of such State shall \\nissue writs of election to fill such vacancies: Provided, That \\nthe legislature of any State may empower the executive \\nthereof to make temporary appointments until the people \\nfill the vacancies by election as the legislature may direct. \\nThis amendment shall not be so construed as to affect the \\nelection or term of any Senator chosen before it becomes \\nvalid as part of the Constitution.  \\nAmendment  XVIII. \\nPassed by Congress December 18, 1917. Ratified January 16, \\n1919. Repealed by the 21 Amendment, December 5, 1933. \\n \\nSECTION 1'),\n",
       " Document(metadata={'producer': 'Adobe PDF Library 23.1.125', 'creator': 'Acrobat PDFMaker 23 for Word', 'creationdate': '2023-04-10T12:53:44-04:00', 'company': '', 'created': 'D:20030612', 'lastsaved': 'D:20230409', 'moddate': '2023-04-10T13:09:52-04:00', 'sourcemodified': 'D:20230410165309', 'title': 'constitution_pdf2', 'source': 'constitution.pdf', 'total_pages': 19, 'page': 14, 'page_label': '15'}, page_content='SECTION 1 \\nAfter one year from the ratification of this article the \\nmanufacture, sale, or transportation of intoxicating liquors \\nwithin, the importation thereof into, or the exportation \\nthereof from the United States and all territory subject to \\nthe jurisdiction thereof for beverage purposes is hereby \\nprohibited. \\nSECTION 2 \\nThe Congress and the several States shall have concurrent \\npower to enforce this article by appropriate legislation. \\nSECTION 3 \\nThis article shall be inoperative unless it shall have been \\nratified as an amendment to the Constitution by the legisla- \\ntures of the several States, as provided in the Constitution, \\nwithin seven years from the date of the submission hereof \\nto the States by the Congress. \\nAmendment  XIX. \\nPassed by Congress June 4, 1919. Ratified August 18, 1920. \\nThe right of citizens of the United States to vote shall not \\nbe denied or abridged by the United States or by any State \\non account of sex.'),\n",
       " Document(metadata={'producer': 'Adobe PDF Library 23.1.125', 'creator': 'Acrobat PDFMaker 23 for Word', 'creationdate': '2023-04-10T12:53:44-04:00', 'company': '', 'created': 'D:20030612', 'lastsaved': 'D:20230409', 'moddate': '2023-04-10T13:09:52-04:00', 'sourcemodified': 'D:20230410165309', 'title': 'constitution_pdf2', 'source': 'constitution.pdf', 'total_pages': 19, 'page': 14, 'page_label': '15'}, page_content='on account of sex. \\nCongress shall have power to enforce this article by appro- \\npriate legislation.'),\n",
       " Document(metadata={'producer': 'Adobe PDF Library 23.1.125', 'creator': 'Acrobat PDFMaker 23 for Word', 'creationdate': '2023-04-10T12:53:44-04:00', 'company': '', 'created': 'D:20030612', 'lastsaved': 'D:20230409', 'moddate': '2023-04-10T13:09:52-04:00', 'sourcemodified': 'D:20230410165309', 'title': 'constitution_pdf2', 'source': 'constitution.pdf', 'total_pages': 19, 'page': 15, 'page_label': '16'}, page_content='C O N S T I T U T I O N O F T H E U N I T E D S T A T E S  \\nAmendment  XX. \\nPassed by Congress March 2, 1932. Ratified January 23, 1933. \\n(Note: Article I, Section 4 of the Constitution was modified \\nby Section 2 of this Amendment.  In addition, a portion of the \\n12th Amendment was superseded by Section 3.)  \\nSECTION 1 \\nThe terms of the President and the Vice President shall end \\nat noon on the 20th day of January, and the terms of Sena- \\ntors and Representatives at noon on the 3d day of January, \\nof the years in which such terms would have ended if this \\narticle had not been ratified; and the terms of their succes- \\nsors shall then begin. \\nSECTION 2 \\nThe Congress shall assemble at least once in every year, and \\nsuch meeting shall begin at noon on the 3d day of January, \\nunless they shall by law appoint a different day. \\nSECTION 3 \\nIf, at the time fixed for the beginning of the term of the \\nPresident, the President elect shall have died, the Vice Presi-'),\n",
       " Document(metadata={'producer': 'Adobe PDF Library 23.1.125', 'creator': 'Acrobat PDFMaker 23 for Word', 'creationdate': '2023-04-10T12:53:44-04:00', 'company': '', 'created': 'D:20030612', 'lastsaved': 'D:20230409', 'moddate': '2023-04-10T13:09:52-04:00', 'sourcemodified': 'D:20230410165309', 'title': 'constitution_pdf2', 'source': 'constitution.pdf', 'total_pages': 19, 'page': 15, 'page_label': '16'}, page_content='dent elect shall become President. If a President shall not \\nhave been chosen before the time fixed for the beginning of \\nhis term, or if the President elect shall have failed to qualify, \\nthen the Vice President elect shall act as President until a \\nPresident shall have qualified; and the Congress may by law \\nprovide for the case wherein neither a President elect nor a \\nVice President shall have qualified, declaring who shall then \\nact as President, or the manner in which one who is to act \\nshall be selected, and such person shall act accordingly until \\na President or Vice President shall have qualified. \\nSECTION 4 \\nThe Congress may by law provide for the case of the death \\nof any of the persons from whom the House of Representa- \\ntives may choose a President whenever the right of choice \\nshall have devolved upon them, and for the case of the \\ndeath of any of the persons from whom the Senate may \\nchoose a Vice President whenever the right of choice shall \\nhave devolved upon them.'),\n",
       " Document(metadata={'producer': 'Adobe PDF Library 23.1.125', 'creator': 'Acrobat PDFMaker 23 for Word', 'creationdate': '2023-04-10T12:53:44-04:00', 'company': '', 'created': 'D:20030612', 'lastsaved': 'D:20230409', 'moddate': '2023-04-10T13:09:52-04:00', 'sourcemodified': 'D:20230410165309', 'title': 'constitution_pdf2', 'source': 'constitution.pdf', 'total_pages': 19, 'page': 15, 'page_label': '16'}, page_content='have devolved upon them. \\nSECTION 5 \\nSections 1 and 2 shall take effect on the 15th day of Octo- \\nber following the ratification of this article.  \\nSECTION 6 \\nThis article shall be inoperative unless it shall have been \\nratified as an amendment to the Constitution by the leg- \\nislatures of three-fourths of the several States within seven \\nyears from the date of its submission. \\nAmendment  XXI. \\nPassed by Congress February 20, 1933. Ratified December 5, \\n933. \\n \\nSECTION 1 \\nThe eighteenth article of amendment to the Constitution \\nof the United States is hereby repealed.  \\nSECTION 2 \\nThe transportation or importation into any State, Territory, \\nor possession of the United States for delivery or use therein \\nof intoxicating liquors, in violation of the laws thereof, is \\nhereby prohibited. \\nSECTION 3 \\nThis article shall be inoperative unless it shall have been \\nratified as an amendment to the Constitution by conven- \\ntions in the several States, as provided in the Constitution,'),\n",
       " Document(metadata={'producer': 'Adobe PDF Library 23.1.125', 'creator': 'Acrobat PDFMaker 23 for Word', 'creationdate': '2023-04-10T12:53:44-04:00', 'company': '', 'created': 'D:20030612', 'lastsaved': 'D:20230409', 'moddate': '2023-04-10T13:09:52-04:00', 'sourcemodified': 'D:20230410165309', 'title': 'constitution_pdf2', 'source': 'constitution.pdf', 'total_pages': 19, 'page': 15, 'page_label': '16'}, page_content='within seven years from the date of the submission hereof \\nto the States by the Congress.'),\n",
       " Document(metadata={'producer': 'Adobe PDF Library 23.1.125', 'creator': 'Acrobat PDFMaker 23 for Word', 'creationdate': '2023-04-10T12:53:44-04:00', 'company': '', 'created': 'D:20030612', 'lastsaved': 'D:20230409', 'moddate': '2023-04-10T13:09:52-04:00', 'sourcemodified': 'D:20230410165309', 'title': 'constitution_pdf2', 'source': 'constitution.pdf', 'total_pages': 19, 'page': 16, 'page_label': '17'}, page_content='C O N S T I T U T I O N O F T H E U N I T E D S T A T E S  \\nAmendment  XXII. \\nPassed by Congress March 21, 1947. Ratified February 27, \\n951. \\n \\nSECTION 1 \\nNo person shall be elected to the office of the President \\nmore than twice, and no person who has held the office of \\nPresident, or acted as President, for more than two years of \\na term to which some other person was elected President \\nshall be elected to the office of President more than once. \\nBut this Article shall not apply to any person holding the \\noffice of President when this Article was proposed by Con- \\ngress, and shall not prevent any person who may be holding \\nthe office of President, or acting as President, during the \\nterm within which this Article becomes operative from \\nholding the office of President or acting as President during \\nthe remainder of such term. \\nSECTION 2 \\nThis article shall be inoperative unless it shall have been \\nratified as an amendment to the Constitution by the leg-'),\n",
       " Document(metadata={'producer': 'Adobe PDF Library 23.1.125', 'creator': 'Acrobat PDFMaker 23 for Word', 'creationdate': '2023-04-10T12:53:44-04:00', 'company': '', 'created': 'D:20030612', 'lastsaved': 'D:20230409', 'moddate': '2023-04-10T13:09:52-04:00', 'sourcemodified': 'D:20230410165309', 'title': 'constitution_pdf2', 'source': 'constitution.pdf', 'total_pages': 19, 'page': 16, 'page_label': '17'}, page_content='islatures of three-fourths of the several States within seven \\nyears from the date of its submission to the States by the \\nCongress. \\nAmendment  XXIII. \\nPassed by Congress June 16, 1960. Ratified March 29, 1961. \\n \\nSECTION 1 \\nThe District constituting the seat of Government of the \\nUnited States shall appoint in such manner as Congress \\nmay direct: \\nA number of electors of President and Vice President equal \\nto the whole number of Senators and Representatives \\nin Congress to which the District would be entitled if it \\nwere a State, but in no event more than the least populous \\nState; they shall be in addition to those appointed by the \\nStates, but they shall be considered, for the purposes of \\nthe election of President and Vice President, to be electors \\nappointed by a State; and they shall meet in the District \\nand perform such duties as provided by the twelfth article \\nof amendment. \\nSECTION 2 \\nThe Congress shall have power to enforce this article by \\nappropriate legislation.'),\n",
       " Document(metadata={'producer': 'Adobe PDF Library 23.1.125', 'creator': 'Acrobat PDFMaker 23 for Word', 'creationdate': '2023-04-10T12:53:44-04:00', 'company': '', 'created': 'D:20030612', 'lastsaved': 'D:20230409', 'moddate': '2023-04-10T13:09:52-04:00', 'sourcemodified': 'D:20230410165309', 'title': 'constitution_pdf2', 'source': 'constitution.pdf', 'total_pages': 19, 'page': 16, 'page_label': '17'}, page_content='appropriate legislation. \\nAmendment  XXIV. \\nPassed by Congress August 27, 1962. Ratified January 23, 1964. \\n \\nSECTION 1 \\nThe right of citizens of the United States to vote in any pri- \\nmary or other election for President or Vice President, for \\nelectors for President or Vice President, or for Senator or \\nRepresentative in Congress, shall not be denied or abridged \\nby the United States or any State by reason of failure to pay \\npoll tax or other tax. \\nSECTION 2 \\nThe Congress shall have power to enforce this article by \\nappropriate legislation.'),\n",
       " Document(metadata={'producer': 'Adobe PDF Library 23.1.125', 'creator': 'Acrobat PDFMaker 23 for Word', 'creationdate': '2023-04-10T12:53:44-04:00', 'company': '', 'created': 'D:20030612', 'lastsaved': 'D:20230409', 'moddate': '2023-04-10T13:09:52-04:00', 'sourcemodified': 'D:20230410165309', 'title': 'constitution_pdf2', 'source': 'constitution.pdf', 'total_pages': 19, 'page': 17, 'page_label': '18'}, page_content='7 C O N S T I T U T I O N O F T H E U N I T E D S T A T E S  \\nAmendment  XXV. \\nPassed by Congress July 6, 1965. Ratified February 10, 1967. \\n(Note: Article II, Section 1 of the Constitution was modified by \\nthe 25th Amendment.)  \\nSECTION 1 \\nIn case of the removal of the President from office or of \\nhis death or resignation, the Vice President shall become \\nPresident. \\nSECTION 2 \\nWhenever there is a vacancy in the office of the Vice Presi- \\ndent, the President shall nominate a Vice President who \\nshall take office upon confirmation by a majority vote of \\nboth Houses of Congress. \\nSECTION 3 \\nWhenever the President transmits to the President pro \\ntempore of the Senate and the Speaker of the House of \\nRepresentatives his written declaration that he is unable \\nto discharge the powers and duties of his office, and until \\nhe transmits to them a written declaration to the contrary, \\nsuch powers and duties shall be discharged by the Vice \\nPresident as Acting President. \\nSECTION 4'),\n",
       " Document(metadata={'producer': 'Adobe PDF Library 23.1.125', 'creator': 'Acrobat PDFMaker 23 for Word', 'creationdate': '2023-04-10T12:53:44-04:00', 'company': '', 'created': 'D:20030612', 'lastsaved': 'D:20230409', 'moddate': '2023-04-10T13:09:52-04:00', 'sourcemodified': 'D:20230410165309', 'title': 'constitution_pdf2', 'source': 'constitution.pdf', 'total_pages': 19, 'page': 17, 'page_label': '18'}, page_content='President as Acting President. \\nSECTION 4 \\nWhenever the Vice President and a majority of either the \\nprincipal officers of the executive departments or of such \\nother body as Congress may by law provide, transmit to the \\nPresident pro tempore of the Senate and the Speaker of the \\nHouse of Representatives their written declaration that the \\nPresident is unable to discharge the powers and duties of \\nhis office, the Vice President shall immediately assume the \\npowers and duties of the office as Acting President. \\nThereafter, when the President transmits to the President \\npro tempore of the Senate and the Speaker of the House of \\nRepresentatives his written declaration that no inability ex- \\nists, he shall resume the powers and duties of his office un- \\nless the Vice President and a majority of either the principal \\nofficers of the executive department or of such other body \\nas Congress may by law provide, transmit within four days'),\n",
       " Document(metadata={'producer': 'Adobe PDF Library 23.1.125', 'creator': 'Acrobat PDFMaker 23 for Word', 'creationdate': '2023-04-10T12:53:44-04:00', 'company': '', 'created': 'D:20030612', 'lastsaved': 'D:20230409', 'moddate': '2023-04-10T13:09:52-04:00', 'sourcemodified': 'D:20230410165309', 'title': 'constitution_pdf2', 'source': 'constitution.pdf', 'total_pages': 19, 'page': 17, 'page_label': '18'}, page_content='to the President pro tempore of the Senate and the Speaker \\nof the House of Representatives their written declaration \\nthat the President is unable to discharge the powers and \\nduties of his office. Thereupon Congress shall decide the \\nissue, assembling within forty-eight hours for that purpose \\nif not in session. If the Congress, within twenty-one days \\nafter receipt of the latter written declaration, or, if Congress \\nis not in session, within twenty-one days after Congress is \\nrequired to assemble, determines by two-thirds vote of both \\nHouses that the President is unable to discharge the powers \\nand duties of his office, the Vice President shall continue to \\ndischarge the same as Acting President; otherwise, the Presi- \\ndent shall resume the powers and duties of his office. \\nAmendment  XXVI. \\nPassed by Congress March 23, 1971. Ratified July 1, 1971. \\n(Note: Amendment  14, Section 2 of the Constitution  was \\nmodified by Section 1 of the 26th Amendment.)  \\nSECTION 1'),\n",
       " Document(metadata={'producer': 'Adobe PDF Library 23.1.125', 'creator': 'Acrobat PDFMaker 23 for Word', 'creationdate': '2023-04-10T12:53:44-04:00', 'company': '', 'created': 'D:20030612', 'lastsaved': 'D:20230409', 'moddate': '2023-04-10T13:09:52-04:00', 'sourcemodified': 'D:20230410165309', 'title': 'constitution_pdf2', 'source': 'constitution.pdf', 'total_pages': 19, 'page': 17, 'page_label': '18'}, page_content='SECTION 1 \\nThe right of citizens of the United States, who are eighteen \\nyears of age or older, to vote shall not be denied or abridged \\nby the United States or by any State on account of age. \\nSECTION 2 \\nThe Congress shall have power to enforce this article by \\nappropriate legislation. \\nAmendment  XXVII. \\nOriginally proposed Sept. 25, 1789. Ratified May 7, 1992. \\nNo law, varying the compensation for the services of the \\nSenators and Representatives, shall take effect, until an elec- \\ntion of representatives shall have intervened.'),\n",
       " Document(metadata={'producer': 'Adobe PDF Library 23.1.125', 'creator': 'Acrobat PDFMaker 23 for Word', 'creationdate': '2023-04-10T12:53:44-04:00', 'company': '', 'created': 'D:20030612', 'lastsaved': 'D:20230409', 'moddate': '2023-04-10T13:09:52-04:00', 'sourcemodified': 'D:20230410165309', 'title': 'constitution_pdf2', 'source': 'constitution.pdf', 'total_pages': 19, 'page': 18, 'page_label': '19'}, page_content='T \\n \\n \\n \\n \\n \\n \\n \\n \\n \\n \\n \\n \\n \\n \\n \\n \\n \\n \\n \\n \\n \\n \\n \\n \\n \\n \\n \\n \\n \\n \\n \\n \\nhe NCC is an independent, \\nnon-partisan, nonprofit \\norganization that was established \\nin 1988 under the Constitution Heritage \\nAct. The Center’s mission is to increase \\nawareness and understanding of the \\nConstitution, the Constitution’s history \\nand its relevance to people’s daily lives. \\n \\n \\n \\n \\n \\n \\nNational Constitution Center \\n525 Arch Street \\nIndependence Mall \\nPhiladelphia, PA 19106 \\n \\n(215) 409-6600 \\nwww.constitutioncenter.org')]"
      ]
     },
     "execution_count": 6,
     "metadata": {},
     "output_type": "execute_result"
    }
   ],
   "source": [
    "# split the document into chunks\n",
    "\n",
    "from langchain.text_splitter import RecursiveCharacterTextSplitter\n",
    "\n",
    "text_splitter = RecursiveCharacterTextSplitter(chunk_size = 1000, chunk_overlap = 50)\n",
    "docs = text_splitter.split_documents(data)\n",
    "\n",
    "docs"
   ]
  },
  {
   "cell_type": "code",
   "execution_count": 7,
   "metadata": {
    "colab": {
     "base_uri": "https://localhost:8080/"
    },
    "executionInfo": {
     "elapsed": 366,
     "status": "ok",
     "timestamp": 1739374849460,
     "user": {
      "displayName": "Iyed Zarrougui",
      "userId": "02176473464439355215"
     },
     "user_tz": -60
    },
    "id": "AK8i5mpeLyAc",
    "outputId": "69616a19-857b-463a-ebb0-61274b3f270e"
   },
   "outputs": [
    {
     "data": {
      "text/plain": [
       "64"
      ]
     },
     "execution_count": 7,
     "metadata": {},
     "output_type": "execute_result"
    }
   ],
   "source": [
    "len(docs)"
   ]
  },
  {
   "cell_type": "code",
   "execution_count": null,
   "metadata": {
    "executionInfo": {
     "elapsed": 1914,
     "status": "ok",
     "timestamp": 1739374865225,
     "user": {
      "displayName": "Iyed Zarrougui",
      "userId": "02176473464439355215"
     },
     "user_tz": -60
    },
    "id": "QjCa8uP8L2HY"
   },
   "outputs": [],
   "source": [
    "# setting up the embeddings and creating a vector store with google GEMINI\n",
    "\n",
    "from langchain_google_genai import GoogleGenerativeAIEmbeddings\n",
    "from langchain.vectorstores import Chroma\n",
    "\n",
    "#Here you need to create an google api key for the model \n",
    "google_api_key = \"\"\n",
    "embeddings = GoogleGenerativeAIEmbeddings(model = \"models/embedding-001\", google_api_key = google_api_key)\n",
    "\n",
    "vectorstore = Chroma.from_documents(documents = docs, embedding = embeddings)\n",
    "\n"
   ]
  },
  {
   "cell_type": "code",
   "execution_count": 9,
   "metadata": {
    "executionInfo": {
     "elapsed": 470,
     "status": "ok",
     "timestamp": 1739375025356,
     "user": {
      "displayName": "Iyed Zarrougui",
      "userId": "02176473464439355215"
     },
     "user_tz": -60
    },
    "id": "VP2yc9PRM40q"
   },
   "outputs": [],
   "source": [
    "# retrieve information using LangChain and Gemini\n",
    "\n",
    "retriever = vectorstore.as_retriever(search_type = \"similarity\", search_kwargs = {\"k\": 3})\n",
    "retrieved_docs = retriever.invoke(\"tell me about the senate\")"
   ]
  },
  {
   "cell_type": "code",
   "execution_count": 10,
   "metadata": {
    "colab": {
     "base_uri": "https://localhost:8080/"
    },
    "collapsed": true,
    "executionInfo": {
     "elapsed": 8,
     "status": "ok",
     "timestamp": 1739375216775,
     "user": {
      "displayName": "Iyed Zarrougui",
      "userId": "02176473464439355215"
     },
     "user_tz": -60
    },
    "id": "lCZn4PLlNkys",
    "outputId": "e09bf055-76a7-421e-d021-e3df130ce0e5"
   },
   "outputs": [
    {
     "data": {
      "text/plain": [
       "[Document(metadata={'company': '', 'created': 'D:20030612', 'creationdate': '2023-04-10T12:53:44-04:00', 'creator': 'Acrobat PDFMaker 23 for Word', 'lastsaved': 'D:20230409', 'moddate': '2023-04-10T13:09:52-04:00', 'page': 14, 'page_label': '15', 'producer': 'Adobe PDF Library 23.1.125', 'source': 'constitution.pdf', 'sourcemodified': 'D:20230410165309', 'title': 'constitution_pdf2', 'total_pages': 19}, page_content='the 17th Amendment.)  \\nThe Senate of the United States shall be composed of two \\nSenators from each State, elected by the people thereof, for \\nsix years; and each Senator shall have one vote. The electors \\nin each State shall have the qualifications requisite for elec- \\ntors of the most numerous branch of the State legislatures. \\nWhen vacancies happen in the representation of any State \\nin the Senate, the executive authority of such State shall \\nissue writs of election to fill such vacancies: Provided, That \\nthe legislature of any State may empower the executive \\nthereof to make temporary appointments until the people \\nfill the vacancies by election as the legislature may direct. \\nThis amendment shall not be so construed as to affect the \\nelection or term of any Senator chosen before it becomes \\nvalid as part of the Constitution.  \\nAmendment  XVIII. \\nPassed by Congress December 18, 1917. Ratified January 16, \\n1919. Repealed by the 21 Amendment, December 5, 1933. \\n \\nSECTION 1'),\n",
       " Document(metadata={'company': '', 'created': 'D:20030612', 'creationdate': '2023-04-10T12:53:44-04:00', 'creator': 'Acrobat PDFMaker 23 for Word', 'lastsaved': 'D:20230409', 'moddate': '2023-04-10T13:09:52-04:00', 'page': 2, 'page_label': '3', 'producer': 'Adobe PDF Library 23.1.125', 'source': 'constitution.pdf', 'sourcemodified': 'D:20230410165309', 'title': 'constitution_pdf2', 'total_pages': 19}, page_content='C O N S T I T U T I O N O F T H E U N I T E D S T A T E S  \\nNo Person shall be a Senator who shall not have attained \\nto the Age of thirty Years, and been nine Years a Citizen of \\nthe United States, and who shall not, when elected, be an \\nInhabitant of that State for which he shall be chosen \\nThe Vice President of the United States shall be \\nPresident of the Senate, but shall have no Vote, unless \\nthey be equally divided. \\nThe Senate shall chuse their other Officers, and also a \\nPresident pro tempore, in the Absence of the  Vice \\nPresident, or when he shall exercise the Office of \\nPresident of the United States  \\nThe Senate shall have the sole Power to try all Impeach- \\nments. When sitting for that Purpose, they shall be on \\nOath or Affirmation. When the President of the United \\nStates is tried, the Chief Justice shall preside: And no \\nPerson shall be convicted without the Concurrence of two \\nthirds of the Members present. \\nJudgment in Cases of Imp eachment shall not extend'),\n",
       " Document(metadata={'company': '', 'created': 'D:20030612', 'creationdate': '2023-04-10T12:53:44-04:00', 'creator': 'Acrobat PDFMaker 23 for Word', 'lastsaved': 'D:20230409', 'moddate': '2023-04-10T13:09:52-04:00', 'page': 1, 'page_label': '2', 'producer': 'Adobe PDF Library 23.1.125', 'source': 'constitution.pdf', 'sourcemodified': 'D:20230410165309', 'title': 'constitution_pdf2', 'total_pages': 19}, page_content='Plantations one, Connecticut five, New-York six, New \\nJersey four, Pennsylvania eight, Delaware one, Maryland \\nsix, Virginia ten, North Carolina five, South Carolina five, \\nand Georgia three. \\nWhen vacancies happen in the Representation from any \\nState, the Executive Authority thereof shall issue Writs of \\nElection to fill such Vacancies. \\nThe House of Representatives shall chuse their \\nSpeaker and other Officers; and shall have the sole \\nPower of Impeachment. \\nSECTION. 3 \\nThe Senate of the United States shall be composed of two \\nSenators from each State, [chosen by the Legislature there- \\nof,]* for six Years; and each Senator shall have one Vote. \\nImmediately after they shall be assembled in Consequence \\nof the first Election, they shall be divided as equally as may \\nbe into three Classes. The Seats of the Senators of the first \\nClass shall be vacated at the Expiration of the second Year, \\nof the second Class at the Expiration of the fourth Year, and')]"
      ]
     },
     "execution_count": 10,
     "metadata": {},
     "output_type": "execute_result"
    }
   ],
   "source": [
    "retrieved_docs"
   ]
  },
  {
   "cell_type": "code",
   "execution_count": 11,
   "metadata": {
    "colab": {
     "base_uri": "https://localhost:8080/"
    },
    "executionInfo": {
     "elapsed": 312,
     "status": "ok",
     "timestamp": 1739375384576,
     "user": {
      "displayName": "Iyed Zarrougui",
      "userId": "02176473464439355215"
     },
     "user_tz": -60
    },
    "id": "V-jVXVEENkvL",
    "outputId": "22d0e45d-b19b-4ba2-b55c-67abcc37adfb"
   },
   "outputs": [
    {
     "data": {
      "text/plain": [
       "3"
      ]
     },
     "execution_count": 11,
     "metadata": {},
     "output_type": "execute_result"
    }
   ],
   "source": [
    "len(retrieved_docs)"
   ]
  },
  {
   "cell_type": "code",
   "execution_count": 12,
   "metadata": {
    "colab": {
     "base_uri": "https://localhost:8080/"
    },
    "collapsed": true,
    "executionInfo": {
     "elapsed": 279,
     "status": "ok",
     "timestamp": 1739375388508,
     "user": {
      "displayName": "Iyed Zarrougui",
      "userId": "02176473464439355215"
     },
     "user_tz": -60
    },
    "id": "GE_yIbmMNksH",
    "outputId": "265f35d0-2427-4224-f1f2-4853c596363c"
   },
   "outputs": [
    {
     "name": "stdout",
     "output_type": "stream",
     "text": [
      "page_content='Plantations one, Connecticut five, New-York six, New \n",
      "Jersey four, Pennsylvania eight, Delaware one, Maryland \n",
      "six, Virginia ten, North Carolina five, South Carolina five, \n",
      "and Georgia three. \n",
      "When vacancies happen in the Representation from any \n",
      "State, the Executive Authority thereof shall issue Writs of \n",
      "Election to fill such Vacancies. \n",
      "The House of Representatives shall chuse their \n",
      "Speaker and other Officers; and shall have the sole \n",
      "Power of Impeachment. \n",
      "SECTION. 3 \n",
      "The Senate of the United States shall be composed of two \n",
      "Senators from each State, [chosen by the Legislature there- \n",
      "of,]* for six Years; and each Senator shall have one Vote. \n",
      "Immediately after they shall be assembled in Consequence \n",
      "of the first Election, they shall be divided as equally as may \n",
      "be into three Classes. The Seats of the Senators of the first \n",
      "Class shall be vacated at the Expiration of the second Year, \n",
      "of the second Class at the Expiration of the fourth Year, and' metadata={'company': '', 'created': 'D:20030612', 'creationdate': '2023-04-10T12:53:44-04:00', 'creator': 'Acrobat PDFMaker 23 for Word', 'lastsaved': 'D:20230409', 'moddate': '2023-04-10T13:09:52-04:00', 'page': 1, 'page_label': '2', 'producer': 'Adobe PDF Library 23.1.125', 'source': 'constitution.pdf', 'sourcemodified': 'D:20230410165309', 'title': 'constitution_pdf2', 'total_pages': 19}\n"
     ]
    }
   ],
   "source": [
    "print(retrieved_docs[2])"
   ]
  },
  {
   "cell_type": "code",
   "execution_count": 13,
   "metadata": {
    "executionInfo": {
     "elapsed": 272,
     "status": "ok",
     "timestamp": 1739375399139,
     "user": {
      "displayName": "Iyed Zarrougui",
      "userId": "02176473464439355215"
     },
     "user_tz": -60
    },
    "id": "AhPOnefXNkpY"
   },
   "outputs": [],
   "source": [
    "from langchain_google_genai import ChatGoogleGenerativeAI\n",
    "\n",
    "llm = ChatGoogleGenerativeAI(model = \"gemini-1.5-pro\", temperature = 0, max_tokens = 500, google_api_key = google_api_key)"
   ]
  },
  {
   "cell_type": "code",
   "execution_count": 14,
   "metadata": {
    "executionInfo": {
     "elapsed": 299,
     "status": "ok",
     "timestamp": 1739375599512,
     "user": {
      "displayName": "Iyed Zarrougui",
      "userId": "02176473464439355215"
     },
     "user_tz": -60
    },
    "id": "EA6SCmqTNkmh"
   },
   "outputs": [],
   "source": [
    "from langchain.chains import create_retrieval_chain\n",
    "from langchain.chains.combine_documents import create_stuff_documents_chain\n",
    "from langchain_core.prompts import ChatPromptTemplate\n",
    "\n",
    "system_prompt = (\n",
    "    \"You are an assistant for question-answering tasks. \"\n",
    "    \"Use only the following pieces of retrieved context to answer the question. \"\n",
    "    \"If you don't know the answer based on the context, say 'The information is not available in the documents provided.' \"\n",
    "    \"Do not use any outside knowledge or make assumptions. \"\n",
    "    \"Use three sentences maximum and keep the answer concise.\"\n",
    "    \"\\n\\n\"\n",
    "    \"{context}\"\n",
    ")\n",
    "\n",
    "# Construct the prompt template with the system and human messages\n",
    "prompt = ChatPromptTemplate.from_messages(\n",
    "    [\n",
    "        (\"system\", system_prompt),\n",
    "        (\"human\", \"{input}\"),\n",
    "    ]\n",
    ")"
   ]
  },
  {
   "cell_type": "code",
   "execution_count": 15,
   "metadata": {
    "executionInfo": {
     "elapsed": 434,
     "status": "ok",
     "timestamp": 1739375615895,
     "user": {
      "displayName": "Iyed Zarrougui",
      "userId": "02176473464439355215"
     },
     "user_tz": -60
    },
    "id": "Bpf5BQ16Nki_"
   },
   "outputs": [],
   "source": [
    "question_answer_chain = create_stuff_documents_chain(llm, prompt)\n",
    "\n",
    "rag_chain = create_retrieval_chain(retriever, question_answer_chain)"
   ]
  },
  {
   "cell_type": "code",
   "execution_count": 16,
   "metadata": {
    "colab": {
     "base_uri": "https://localhost:8080/"
    },
    "executionInfo": {
     "elapsed": 2934,
     "status": "ok",
     "timestamp": 1739375627138,
     "user": {
      "displayName": "Iyed Zarrougui",
      "userId": "02176473464439355215"
     },
     "user_tz": -60
    },
    "id": "cHNaZ6J366KR",
    "outputId": "3d58c14e-2230-47f8-da53-0bb7003c7ff0"
   },
   "outputs": [
    {
     "name": "stdout",
     "output_type": "stream",
     "text": [
      "The Senate is composed of two senators from each state, elected by the people for six-year terms. Each senator has one vote, and electors must meet the same requirements as electors for the most numerous branch of the state legislature.  When vacancies occur, the state's executive authority issues writs of election to fill them, but the state legislature may empower the executive to make temporary appointments.\n"
     ]
    }
   ],
   "source": [
    "response = rag_chain.invoke({\"input\":\"tell me about the senate?\"})\n",
    "\n",
    "print(response[\"answer\"])"
   ]
  },
  {
   "cell_type": "code",
   "execution_count": 17,
   "metadata": {
    "colab": {
     "base_uri": "https://localhost:8080/"
    },
    "executionInfo": {
     "elapsed": 1859,
     "status": "ok",
     "timestamp": 1739375632541,
     "user": {
      "displayName": "Iyed Zarrougui",
      "userId": "02176473464439355215"
     },
     "user_tz": -60
    },
    "id": "Ngh39Qmh66G2",
    "outputId": "a412fde7-ffb0-4126-e16b-ef5b532b16a6"
   },
   "outputs": [
    {
     "name": "stdout",
     "output_type": "stream",
     "text": [
      "{'input': ' what is the third amendment is talking about?', 'context': [Document(metadata={'company': '', 'created': 'D:20030612', 'creationdate': '2023-04-10T12:53:44-04:00', 'creator': 'Acrobat PDFMaker 23 for Word', 'lastsaved': 'D:20230409', 'moddate': '2023-04-10T13:09:52-04:00', 'page': 11, 'page_label': '12', 'producer': 'Adobe PDF Library 23.1.125', 'source': 'constitution.pdf', 'sourcemodified': 'D:20230410165309', 'title': 'constitution_pdf2', 'total_pages': 19}, page_content='shall not be infringed.  \\nAmendment  III. \\nNo Soldier shall, in time of peace be quartered in any \\nhouse, without the consent of the Owner, nor in time of \\nwar, but in a manner to be prescribed by law. \\nAmendment  IV. \\nThe right of the people to be secure in their persons, hous- \\nes, papers, and effects, against unreasonable searches and \\nseizures, shall not be violated, and no Warrants shall issue, \\nbut upon probable cause, supported by Oath or affirma- \\ntion, and particularly describing the place to be searched, \\nand the persons or things to be seized. \\nAmendment  V. \\nNo person shall be held to answer for a capital, or otherwise \\ninfamous crime, unless on a presentment or indictment of \\na Grand Jury, except in cases arising in the land or naval \\nforces, or in the Militia, when in actual service in time of \\nWar or public danger; nor shall any person be subject for \\nthe same offence to be twice put in jeopardy of life or limb;'), Document(metadata={'company': '', 'created': 'D:20030612', 'creationdate': '2023-04-10T12:53:44-04:00', 'creator': 'Acrobat PDFMaker 23 for Word', 'lastsaved': 'D:20230409', 'moddate': '2023-04-10T13:09:52-04:00', 'page': 11, 'page_label': '12', 'producer': 'Adobe PDF Library 23.1.125', 'source': 'constitution.pdf', 'sourcemodified': 'D:20230410165309', 'title': 'constitution_pdf2', 'total_pages': 19}, page_content='which Articles, when ratified by three fourths of the said \\nLegislatures, to be valid to all intents and purposes, as \\npart of the said Constitution; viz. \\n \\nARTICLES in addition to, and Amendment of the \\nConstitution of the United States of America, proposed \\nby Congress, and ratified by the Legislatures of the \\nseveral States, pursuant to the fifth Article of the \\noriginal Constitution. \\n \\n(Note: The first 10 amendments  to the Constitution  were \\nratified December 15, 1791, and form what is known as \\nthe “Bill of Rights.”)  \\nAmendment  I. \\nCongress shall make no law respecting an establishment of \\nreligion, or prohibiting the free exercise thereof; or abridg- \\ning the freedom of speech, or of the press, or the right \\nof the people peaceably to assemble, and to petition the \\nGovernment for a redress of grievances. \\nAmendment  II. \\nA well regulated Militia, being necessary to the security of \\na free State, the right of the people to keep and bear Arms, \\nshall not be infringed.'), Document(metadata={'company': '', 'created': 'D:20030612', 'creationdate': '2023-04-10T12:53:44-04:00', 'creator': 'Acrobat PDFMaker 23 for Word', 'lastsaved': 'D:20230409', 'moddate': '2023-04-10T13:09:52-04:00', 'page': 11, 'page_label': '12', 'producer': 'Adobe PDF Library 23.1.125', 'source': 'constitution.pdf', 'sourcemodified': 'D:20230410165309', 'title': 'constitution_pdf2', 'total_pages': 19}, page_content='nor shall be compelled in any criminal case to be a witness \\nagainst himself, nor be deprived of life, liberty, or property, \\nwithout due process of law; nor shall private property be \\ntaken for public use, without just compensation.')], 'answer': \"The Third Amendment prevents soldiers from being quartered in any house without the owner's consent during peacetime.  During wartime, quartering soldiers in houses is allowed, but only in a manner prescribed by law.\"}\n"
     ]
    }
   ],
   "source": [
    "response = rag_chain.invoke({\"input\":\" what is the third amendment is talking about?\"})\n",
    "\n",
    "print(response)"
   ]
  },
  {
   "cell_type": "code",
   "execution_count": 18,
   "metadata": {
    "colab": {
     "base_uri": "https://localhost:8080/"
    },
    "executionInfo": {
     "elapsed": 2333,
     "status": "ok",
     "timestamp": 1739375638185,
     "user": {
      "displayName": "Iyed Zarrougui",
      "userId": "02176473464439355215"
     },
     "user_tz": -60
    },
    "id": "xzLITWt-Nkej",
    "outputId": "81aa9cbe-661e-47ca-e380-108025649ce6"
   },
   "outputs": [
    {
     "name": "stdout",
     "output_type": "stream",
     "text": [
      "The president is Commander in Chief of the Army and Navy, and of the state militias when called into actual service of the United States.  They can grant reprieves and pardons for offenses against the United States, except in cases of impeachment.  Additionally, the president receives ambassadors and other public ministers and ensures laws are faithfully executed.\n"
     ]
    }
   ],
   "source": [
    "response = rag_chain.invoke({\"input\":\"what is the role of the president ?\"})\n",
    "\n",
    "print(response[\"answer\"])"
   ]
  },
  {
   "cell_type": "markdown",
   "metadata": {
    "id": "RXvIRN8FBuYT"
   },
   "source": [
    "**LLM Evaluation:**\n",
    "Evaluating Large Language Models (LLMs) is crucial to ensure their performance, reliability, and alignment with user expectations.\n",
    "Variety of metrics are used to assess different aspects of their performance. Here are some of the most common evaluation metrics:\n",
    "1. ROUGE (Recall-Oriented Understudy for Gisting Evaluation)\n",
    "2. BLEU (Bilingual Evaluation Understudy)\n",
    "3. Perplexity\n",
    "4. Human Evaluation etc"
   ]
  },
  {
   "cell_type": "markdown",
   "metadata": {
    "id": "hzXJdtCuCf8i"
   },
   "source": [
    "**ROUGE (Recall-Oriented Understudy for Gisting Evaluation)**\n",
    "- **Definition:** ROUGE measures overlap between the generated text and reference text, focusing on recall (how much of the reference text is captured by the generated text).\n",
    "**Variants:** ROUGE-N (n-gram overlap), ROUGE-L (longest common subsequence), and ROUGE-W (weighted longest common subsequence).\n",
    "**Usage:** Commonly used in summarization tasks.\n",
    "\n",
    "\n",
    "\n"
   ]
  }
 ],
 "metadata": {
  "colab": {
   "provenance": [
    {
     "file_id": "10hVIEuOKh_ztoczBXG4iXz7kXL3pRGhS",
     "timestamp": 1739373738465
    },
    {
     "file_id": "1a366_e2n0aJkn7c-G510XUmtaWt6ojZ2",
     "timestamp": 1738898692085
    }
   ]
  },
  "kernelspec": {
   "display_name": "Python 3",
   "name": "python3"
  },
  "language_info": {
   "name": "python"
  }
 },
 "nbformat": 4,
 "nbformat_minor": 0
}
